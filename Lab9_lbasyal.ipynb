{
  "nbformat": 4,
  "nbformat_minor": 0,
  "metadata": {
    "colab": {
      "provenance": []
    },
    "kernelspec": {
      "name": "python3",
      "display_name": "Python 3"
    },
    "language_info": {
      "name": "python"
    }
  },
  "cells": [
    {
      "cell_type": "code",
      "execution_count": null,
      "metadata": {
        "id": "TfebbH-m-LBa"
      },
      "outputs": [],
      "source": []
    },
    {
      "cell_type": "markdown",
      "source": [
        "Name: Lochan Basyal"
      ],
      "metadata": {
        "id": "tsFY03Ek-ast"
      }
    },
    {
      "cell_type": "markdown",
      "source": [
        "1. Use the posted Python Code file to test MNIST image data:\n",
        "\n",
        "\"EE628A_autoEncoder_demo.py\"\n",
        "\n",
        "Test if you can obtain the decoded images and show them properly.\n",
        "\n",
        "2. Use different epoch size from 5, 10, 20, 30, 40, 50, 100 and test the same code.\n",
        "\n",
        "3. Use different number of layers of the deep networks (2, 3, 4, 5) and compare the performances.  \n",
        "\n",
        "4. Use auto encoder to find anomaly images:\n",
        "\n",
        "4.aYou randomly download a few images other than the MNIST image dataset. For example, animals, furnitures, automobiles, etc.\n",
        "\n",
        "4.b Reform these images to a grayscale images without color channels (similar to the minist dataset).  \n",
        "\n",
        "4.c Use the above auto encoder to predict these download and reformed grayscale images. Show how much differences between the input images and the reconstructed after auto-encoder images."
      ],
      "metadata": {
        "id": "AT0YXHOZEshG"
      }
    },
    {
      "cell_type": "markdown",
      "source": [
        "EE628A_autoEncoder_demo.py"
      ],
      "metadata": {
        "id": "UOTdHCH6Eyr5"
      }
    },
    {
      "cell_type": "code",
      "source": [
        "from tensorflow.keras.layers import Input, Dense\n",
        "from tensorflow.keras.models import Model\n",
        "\n",
        "# this is the size of our encoded representations\n",
        "encoding_dim = 32  # 32 floats -> compression of factor 24.5, assuming the input is 784 floats\n",
        "\n",
        "# this is our input placeholder\n",
        "input_img = Input(shape=(784,))\n",
        "# \"encoded\" is the encoded representation of the input\n",
        "encoded = Dense(encoding_dim, activation='relu')(input_img)\n",
        "# \"decoded\" is the lossy reconstruction of the input\n",
        "decoded = Dense(784, activation='sigmoid')(encoded)\n",
        "\n",
        "# this model maps an input to its reconstruction\n",
        "autoencoder = Model(input_img, decoded)\n",
        "# this model maps an input to its encoded representation\n",
        "encoder = Model(input_img, encoded)\n",
        "\n",
        "# create a placeholder for an encoded (32-dimensional) input\n",
        "encoded_input = Input(shape=(encoding_dim,))\n",
        "# retrieve the last layer of the autoencoder model\n",
        "decoder_layer = autoencoder.layers[-1]\n",
        "# create the decoder model\n",
        "decoder = Model(encoded_input, decoder_layer(encoded_input))\n",
        "\n",
        "autoencoder.compile(optimizer='adadelta', loss='binary_crossentropy')\n",
        "\n",
        "from tensorflow.keras.datasets import mnist\n",
        "import numpy as np\n",
        "(x_train, _), (x_test, _) = mnist.load_data()\n",
        "\n",
        "x_train = x_train.astype('float32') / 255.\n",
        "x_test = x_test.astype('float32') / 255.\n",
        "x_train = x_train.reshape((len(x_train), np.prod(x_train.shape[1:])))\n",
        "x_test = x_test.reshape((len(x_test), np.prod(x_test.shape[1:])))\n",
        "print (x_train.shape)\n",
        "print (x_test.shape)\n",
        "\n",
        "autoencoder.fit(x_train, x_train,\n",
        "                epochs=50,\n",
        "                batch_size=256,\n",
        "                shuffle=True,\n",
        "                validation_data=(x_test, x_test))\n",
        "\n",
        "# encode and decode some digits\n",
        "# note that we take them from the *test* set\n",
        "encoded_imgs = encoder.predict(x_test)\n",
        "decoded_imgs = decoder.predict(encoded_imgs)\n",
        "\n",
        "# use Matplotlib (don't ask)\n",
        "import matplotlib.pyplot as plt\n",
        "\n",
        "n = 10  # how many digits we will display\n",
        "plt.figure(figsize=(20, 4))\n",
        "for i in range(n):\n",
        "    # display original\n",
        "    ax = plt.subplot(2, n, i + 1)\n",
        "    plt.imshow(x_test[i].reshape(28, 28))\n",
        "    plt.gray()\n",
        "    ax.get_xaxis().set_visible(False)\n",
        "    ax.get_yaxis().set_visible(False)\n",
        "\n",
        "    # display reconstruction\n",
        "    ax = plt.subplot(2, n, i + 1 + n)\n",
        "    plt.imshow(decoded_imgs[i].reshape(28, 28))\n",
        "    plt.gray()\n",
        "    ax.get_xaxis().set_visible(False)\n",
        "    ax.get_yaxis().set_visible(False)\n",
        "plt.show()\n"
      ],
      "metadata": {
        "colab": {
          "base_uri": "https://localhost:8080/",
          "height": 1962
        },
        "id": "7TUMZz40-fRT",
        "outputId": "e06703e6-0a27-4dc8-a605-9d2948830f29"
      },
      "execution_count": null,
      "outputs": [
        {
          "output_type": "stream",
          "name": "stdout",
          "text": [
            "(60000, 784)\n",
            "(10000, 784)\n",
            "Epoch 1/50\n",
            "235/235 [==============================] - 6s 23ms/step - loss: 0.6944 - val_loss: 0.6943\n",
            "Epoch 2/50\n",
            "235/235 [==============================] - 2s 9ms/step - loss: 0.6942 - val_loss: 0.6941\n",
            "Epoch 3/50\n",
            "235/235 [==============================] - 2s 9ms/step - loss: 0.6940 - val_loss: 0.6940\n",
            "Epoch 4/50\n",
            "235/235 [==============================] - 2s 10ms/step - loss: 0.6938 - val_loss: 0.6938\n",
            "Epoch 5/50\n",
            "235/235 [==============================] - 2s 9ms/step - loss: 0.6937 - val_loss: 0.6936\n",
            "Epoch 6/50\n",
            "235/235 [==============================] - 2s 10ms/step - loss: 0.6935 - val_loss: 0.6935\n",
            "Epoch 7/50\n",
            "235/235 [==============================] - 3s 12ms/step - loss: 0.6933 - val_loss: 0.6933\n",
            "Epoch 8/50\n",
            "235/235 [==============================] - 2s 9ms/step - loss: 0.6932 - val_loss: 0.6931\n",
            "Epoch 9/50\n",
            "235/235 [==============================] - 2s 10ms/step - loss: 0.6930 - val_loss: 0.6930\n",
            "Epoch 10/50\n",
            "235/235 [==============================] - 2s 9ms/step - loss: 0.6929 - val_loss: 0.6928\n",
            "Epoch 11/50\n",
            "235/235 [==============================] - 2s 9ms/step - loss: 0.6927 - val_loss: 0.6927\n",
            "Epoch 12/50\n",
            "235/235 [==============================] - 3s 12ms/step - loss: 0.6925 - val_loss: 0.6925\n",
            "Epoch 13/50\n",
            "235/235 [==============================] - 2s 10ms/step - loss: 0.6924 - val_loss: 0.6923\n",
            "Epoch 14/50\n",
            "235/235 [==============================] - 2s 9ms/step - loss: 0.6922 - val_loss: 0.6922\n",
            "Epoch 15/50\n",
            "235/235 [==============================] - 2s 9ms/step - loss: 0.6921 - val_loss: 0.6920\n",
            "Epoch 16/50\n",
            "235/235 [==============================] - 2s 9ms/step - loss: 0.6919 - val_loss: 0.6919\n",
            "Epoch 17/50\n",
            "235/235 [==============================] - 2s 9ms/step - loss: 0.6918 - val_loss: 0.6917\n",
            "Epoch 18/50\n",
            "235/235 [==============================] - 3s 12ms/step - loss: 0.6916 - val_loss: 0.6916\n",
            "Epoch 19/50\n",
            "235/235 [==============================] - 2s 9ms/step - loss: 0.6915 - val_loss: 0.6914\n",
            "Epoch 20/50\n",
            "235/235 [==============================] - 2s 8ms/step - loss: 0.6913 - val_loss: 0.6912\n",
            "Epoch 21/50\n",
            "235/235 [==============================] - 2s 9ms/step - loss: 0.6912 - val_loss: 0.6911\n",
            "Epoch 22/50\n",
            "235/235 [==============================] - 2s 9ms/step - loss: 0.6910 - val_loss: 0.6909\n",
            "Epoch 23/50\n",
            "235/235 [==============================] - 2s 9ms/step - loss: 0.6908 - val_loss: 0.6908\n",
            "Epoch 24/50\n",
            "235/235 [==============================] - 3s 12ms/step - loss: 0.6907 - val_loss: 0.6906\n",
            "Epoch 25/50\n",
            "235/235 [==============================] - 2s 10ms/step - loss: 0.6905 - val_loss: 0.6905\n",
            "Epoch 26/50\n",
            "235/235 [==============================] - 2s 9ms/step - loss: 0.6904 - val_loss: 0.6903\n",
            "Epoch 27/50\n",
            "235/235 [==============================] - 2s 9ms/step - loss: 0.6902 - val_loss: 0.6901\n",
            "Epoch 28/50\n",
            "235/235 [==============================] - 2s 9ms/step - loss: 0.6901 - val_loss: 0.6900\n",
            "Epoch 29/50\n",
            "235/235 [==============================] - 2s 9ms/step - loss: 0.6899 - val_loss: 0.6898\n",
            "Epoch 30/50\n",
            "235/235 [==============================] - 3s 12ms/step - loss: 0.6897 - val_loss: 0.6896\n",
            "Epoch 31/50\n",
            "235/235 [==============================] - 2s 10ms/step - loss: 0.6896 - val_loss: 0.6895\n",
            "Epoch 32/50\n",
            "235/235 [==============================] - 2s 9ms/step - loss: 0.6894 - val_loss: 0.6893\n",
            "Epoch 33/50\n",
            "235/235 [==============================] - 2s 9ms/step - loss: 0.6892 - val_loss: 0.6891\n",
            "Epoch 34/50\n",
            "235/235 [==============================] - 2s 9ms/step - loss: 0.6890 - val_loss: 0.6889\n",
            "Epoch 35/50\n",
            "235/235 [==============================] - 2s 10ms/step - loss: 0.6889 - val_loss: 0.6887\n",
            "Epoch 36/50\n",
            "235/235 [==============================] - 3s 12ms/step - loss: 0.6887 - val_loss: 0.6886\n",
            "Epoch 37/50\n",
            "235/235 [==============================] - 2s 9ms/step - loss: 0.6885 - val_loss: 0.6884\n",
            "Epoch 38/50\n",
            "235/235 [==============================] - 2s 9ms/step - loss: 0.6883 - val_loss: 0.6882\n",
            "Epoch 39/50\n",
            "235/235 [==============================] - 2s 10ms/step - loss: 0.6881 - val_loss: 0.6880\n",
            "Epoch 40/50\n",
            "235/235 [==============================] - 2s 9ms/step - loss: 0.6879 - val_loss: 0.6878\n",
            "Epoch 41/50\n",
            "235/235 [==============================] - 3s 13ms/step - loss: 0.6877 - val_loss: 0.6876\n",
            "Epoch 42/50\n",
            "235/235 [==============================] - 3s 12ms/step - loss: 0.6875 - val_loss: 0.6874\n",
            "Epoch 43/50\n",
            "235/235 [==============================] - 2s 9ms/step - loss: 0.6873 - val_loss: 0.6872\n",
            "Epoch 44/50\n",
            "235/235 [==============================] - 2s 9ms/step - loss: 0.6871 - val_loss: 0.6870\n",
            "Epoch 45/50\n",
            "235/235 [==============================] - 2s 9ms/step - loss: 0.6869 - val_loss: 0.6867\n",
            "Epoch 46/50\n",
            "235/235 [==============================] - 2s 9ms/step - loss: 0.6867 - val_loss: 0.6865\n",
            "Epoch 47/50\n",
            "235/235 [==============================] - 3s 11ms/step - loss: 0.6865 - val_loss: 0.6863\n",
            "Epoch 48/50\n",
            "235/235 [==============================] - 3s 11ms/step - loss: 0.6862 - val_loss: 0.6860\n",
            "Epoch 49/50\n",
            "235/235 [==============================] - 2s 9ms/step - loss: 0.6860 - val_loss: 0.6858\n",
            "Epoch 50/50\n",
            "235/235 [==============================] - 2s 9ms/step - loss: 0.6858 - val_loss: 0.6856\n",
            "313/313 [==============================] - 0s 991us/step\n",
            "313/313 [==============================] - 0s 1ms/step\n"
          ]
        },
        {
          "output_type": "display_data",
          "data": {
            "text/plain": [
              "<Figure size 2000x400 with 20 Axes>"
            ],
            "image/png": "[encoded data removed]"
          },
          "metadata": {}
        }
      ]
    },
    {
      "cell_type": "code",
      "source": [
        "from tensorflow.keras.datasets import mnist\n",
        "import numpy as np\n",
        "(x_train, _), (x_test, _) = mnist.load_data()"
      ],
      "metadata": {
        "id": "xkgTY69LAjBA"
      },
      "execution_count": null,
      "outputs": []
    },
    {
      "cell_type": "code",
      "source": [
        "x_train = x_train.astype('float32') / 255.\n",
        "x_test = x_test.astype('float32') / 255.\n",
        "x_train = x_train.reshape((len(x_train), np.prod(x_train.shape[1:])))\n",
        "x_test = x_test.reshape((len(x_test), np.prod(x_test.shape[1:])))\n",
        "print(x_train.shape)\n",
        "print(x_test.shape)"
      ],
      "metadata": {
        "colab": {
          "base_uri": "https://localhost:8080/"
        },
        "id": "pNxjybEyE58O",
        "outputId": "ed4ee8c8-ce2f-4f26-f116-8b3a95eff951"
      },
      "execution_count": null,
      "outputs": [
        {
          "output_type": "stream",
          "name": "stdout",
          "text": [
            "(60000, 784)\n",
            "(10000, 784)\n"
          ]
        }
      ]
    },
    {
      "cell_type": "code",
      "source": [
        "from tensorflow.keras.layers import Input, Dense\n",
        "from tensorflow.keras.models import Model, Sequential"
      ],
      "metadata": {
        "id": "NWmsInNZE8Do"
      },
      "execution_count": null,
      "outputs": []
    },
    {
      "cell_type": "code",
      "source": [
        "# input dimension = 784\n",
        "input_dim = x_train.shape[1]\n",
        "encoding_dim = 32\n",
        "\n",
        "compression_factor = float(input_dim) / encoding_dim\n",
        "print(\"Compression factor: %s\" % compression_factor)\n",
        "\n",
        "autoencoder = Sequential()\n",
        "autoencoder.add(\n",
        "    Dense(encoding_dim, input_shape=(input_dim,), activation='relu')\n",
        ")\n",
        "autoencoder.add(\n",
        "    Dense(input_dim, activation='sigmoid')\n",
        ")\n",
        "\n",
        "autoencoder.summary()"
      ],
      "metadata": {
        "colab": {
          "base_uri": "https://localhost:8080/"
        },
        "id": "805vFB5CF2WP",
        "outputId": "d9e8f651-7e41-4aa2-d1f1-b5a9a2997595"
      },
      "execution_count": null,
      "outputs": [
        {
          "output_type": "stream",
          "name": "stdout",
          "text": [
            "Compression factor: 24.5\n",
            "Model: \"sequential\"\n",
            "_________________________________________________________________\n",
            " Layer (type)                Output Shape              Param #   \n",
            "=================================================================\n",
            " dense_2 (Dense)             (None, 32)                25120     \n",
            "                                                                 \n",
            " dense_3 (Dense)             (None, 784)               25872     \n",
            "                                                                 \n",
            "=================================================================\n",
            "Total params: 50,992\n",
            "Trainable params: 50,992\n",
            "Non-trainable params: 0\n",
            "_________________________________________________________________\n"
          ]
        }
      ]
    },
    {
      "cell_type": "code",
      "source": [
        "autoencoder.compile(optimizer='adam', loss='binary_crossentropy')\n",
        "autoencoder.fit(x_train, x_train,\n",
        "                epochs=50,\n",
        "                batch_size=256,\n",
        "                shuffle=True,\n",
        "                validation_data=(x_test, x_test))\n"
      ],
      "metadata": {
        "colab": {
          "base_uri": "https://localhost:8080/"
        },
        "id": "47BrzVKsHUVs",
        "outputId": "dd7f01e5-249a-466e-a6ff-1b0ce9e5ba27"
      },
      "execution_count": null,
      "outputs": [
        {
          "output_type": "stream",
          "name": "stdout",
          "text": [
            "Epoch 1/50\n",
            "235/235 [==============================] - 3s 10ms/step - loss: 0.2775 - val_loss: 0.1884\n",
            "Epoch 2/50\n",
            "235/235 [==============================] - 3s 12ms/step - loss: 0.1704 - val_loss: 0.1537\n",
            "Epoch 3/50\n",
            "235/235 [==============================] - 2s 10ms/step - loss: 0.1446 - val_loss: 0.1341\n",
            "Epoch 4/50\n",
            "235/235 [==============================] - 2s 9ms/step - loss: 0.1283 - val_loss: 0.1207\n",
            "Epoch 5/50\n",
            "235/235 [==============================] - 2s 9ms/step - loss: 0.1173 - val_loss: 0.1119\n",
            "Epoch 6/50\n",
            "235/235 [==============================] - 2s 9ms/step - loss: 0.1099 - val_loss: 0.1057\n",
            "Epoch 7/50\n",
            "235/235 [==============================] - 3s 11ms/step - loss: 0.1048 - val_loss: 0.1015\n",
            "Epoch 8/50\n",
            "235/235 [==============================] - 3s 11ms/step - loss: 0.1012 - val_loss: 0.0985\n",
            "Epoch 9/50\n",
            "235/235 [==============================] - 2s 10ms/step - loss: 0.0988 - val_loss: 0.0965\n",
            "Epoch 10/50\n",
            "235/235 [==============================] - 2s 9ms/step - loss: 0.0972 - val_loss: 0.0953\n",
            "Epoch 11/50\n",
            "235/235 [==============================] - 2s 9ms/step - loss: 0.0961 - val_loss: 0.0943\n",
            "Epoch 12/50\n",
            "235/235 [==============================] - 2s 9ms/step - loss: 0.0953 - val_loss: 0.0938\n",
            "Epoch 13/50\n",
            "235/235 [==============================] - 3s 11ms/step - loss: 0.0949 - val_loss: 0.0934\n",
            "Epoch 14/50\n",
            "235/235 [==============================] - 3s 11ms/step - loss: 0.0945 - val_loss: 0.0932\n",
            "Epoch 15/50\n",
            "235/235 [==============================] - 2s 9ms/step - loss: 0.0943 - val_loss: 0.0929\n",
            "Epoch 16/50\n",
            "235/235 [==============================] - 2s 9ms/step - loss: 0.0941 - val_loss: 0.0927\n",
            "Epoch 17/50\n",
            "235/235 [==============================] - 2s 9ms/step - loss: 0.0939 - val_loss: 0.0926\n",
            "Epoch 18/50\n",
            "235/235 [==============================] - 2s 9ms/step - loss: 0.0938 - val_loss: 0.0925\n",
            "Epoch 19/50\n",
            "235/235 [==============================] - 3s 12ms/step - loss: 0.0937 - val_loss: 0.0925\n",
            "Epoch 20/50\n",
            "235/235 [==============================] - 2s 10ms/step - loss: 0.0936 - val_loss: 0.0924\n",
            "Epoch 21/50\n",
            "235/235 [==============================] - 2s 9ms/step - loss: 0.0935 - val_loss: 0.0924\n",
            "Epoch 22/50\n",
            "235/235 [==============================] - 2s 9ms/step - loss: 0.0935 - val_loss: 0.0923\n",
            "Epoch 23/50\n",
            "235/235 [==============================] - 2s 9ms/step - loss: 0.0934 - val_loss: 0.0922\n",
            "Epoch 24/50\n",
            "235/235 [==============================] - 2s 9ms/step - loss: 0.0934 - val_loss: 0.0921\n",
            "Epoch 25/50\n",
            "235/235 [==============================] - 3s 13ms/step - loss: 0.0933 - val_loss: 0.0921\n",
            "Epoch 26/50\n",
            "235/235 [==============================] - 2s 10ms/step - loss: 0.0933 - val_loss: 0.0921\n",
            "Epoch 27/50\n",
            "235/235 [==============================] - 2s 10ms/step - loss: 0.0932 - val_loss: 0.0921\n",
            "Epoch 28/50\n",
            "235/235 [==============================] - 2s 9ms/step - loss: 0.0932 - val_loss: 0.0920\n",
            "Epoch 29/50\n",
            "235/235 [==============================] - 2s 9ms/step - loss: 0.0932 - val_loss: 0.0920\n",
            "Epoch 30/50\n",
            "235/235 [==============================] - 2s 11ms/step - loss: 0.0931 - val_loss: 0.0919\n",
            "Epoch 31/50\n",
            "235/235 [==============================] - 3s 11ms/step - loss: 0.0931 - val_loss: 0.0919\n",
            "Epoch 32/50\n",
            "235/235 [==============================] - 2s 10ms/step - loss: 0.0931 - val_loss: 0.0920\n",
            "Epoch 33/50\n",
            "235/235 [==============================] - 2s 9ms/step - loss: 0.0931 - val_loss: 0.0919\n",
            "Epoch 34/50\n",
            "235/235 [==============================] - 2s 9ms/step - loss: 0.0931 - val_loss: 0.0919\n",
            "Epoch 35/50\n",
            "235/235 [==============================] - 2s 9ms/step - loss: 0.0930 - val_loss: 0.0918\n",
            "Epoch 36/50\n",
            "235/235 [==============================] - 3s 11ms/step - loss: 0.0930 - val_loss: 0.0918\n",
            "Epoch 37/50\n",
            "235/235 [==============================] - 2s 11ms/step - loss: 0.0930 - val_loss: 0.0920\n",
            "Epoch 38/50\n",
            "235/235 [==============================] - 2s 10ms/step - loss: 0.0930 - val_loss: 0.0918\n",
            "Epoch 39/50\n",
            "235/235 [==============================] - 2s 9ms/step - loss: 0.0929 - val_loss: 0.0918\n",
            "Epoch 40/50\n",
            "235/235 [==============================] - 2s 10ms/step - loss: 0.0929 - val_loss: 0.0918\n",
            "Epoch 41/50\n",
            "235/235 [==============================] - 2s 9ms/step - loss: 0.0929 - val_loss: 0.0917\n",
            "Epoch 42/50\n",
            "235/235 [==============================] - 3s 12ms/step - loss: 0.0929 - val_loss: 0.0918\n",
            "Epoch 43/50\n",
            "235/235 [==============================] - 2s 10ms/step - loss: 0.0929 - val_loss: 0.0917\n",
            "Epoch 44/50\n",
            "235/235 [==============================] - 2s 9ms/step - loss: 0.0929 - val_loss: 0.0918\n",
            "Epoch 45/50\n",
            "235/235 [==============================] - 2s 9ms/step - loss: 0.0928 - val_loss: 0.0917\n",
            "Epoch 46/50\n",
            "235/235 [==============================] - 2s 9ms/step - loss: 0.0928 - val_loss: 0.0917\n",
            "Epoch 47/50\n",
            "235/235 [==============================] - 2s 9ms/step - loss: 0.0928 - val_loss: 0.0917\n",
            "Epoch 48/50\n",
            "235/235 [==============================] - 3s 12ms/step - loss: 0.0928 - val_loss: 0.0917\n",
            "Epoch 49/50\n",
            "235/235 [==============================] - 2s 10ms/step - loss: 0.0928 - val_loss: 0.0918\n",
            "Epoch 50/50\n",
            "235/235 [==============================] - 2s 9ms/step - loss: 0.0928 - val_loss: 0.0917\n"
          ]
        },
        {
          "output_type": "execute_result",
          "data": {
            "text/plain": [
              "<keras.callbacks.History at 0x7f4a2eb8c4f0>"
            ]
          },
          "metadata": {},
          "execution_count": 6
        }
      ]
    },
    {
      "cell_type": "markdown",
      "source": [
        "Decoded Images Visualization"
      ],
      "metadata": {
        "id": "wieBMgIOIqV-"
      }
    },
    {
      "cell_type": "code",
      "source": [
        "num_images = 10\n",
        "np.random.seed(42)\n",
        "random_test_images = np.random.randint(x_test.shape[0], size=num_images)\n",
        "\n",
        "encoded_imgs = encoder.predict(x_test)\n",
        "decoded_imgs = autoencoder.predict(x_test)\n",
        "\n",
        "import matplotlib.pyplot as plt\n",
        "plt.figure(figsize=(18, 4))\n",
        "\n",
        "for i, image_idx in enumerate(random_test_images):\n",
        "    # plot original image\n",
        "    ax = plt.subplot(3, num_images, i + 1)\n",
        "    plt.imshow(x_test[image_idx].reshape(28, 28))\n",
        "    plt.gray()\n",
        "    ax.get_xaxis().set_visible(False)\n",
        "    ax.get_yaxis().set_visible(False)\n",
        "\n",
        "    # plot encoded image\n",
        "    ax = plt.subplot(3, num_images, num_images + i + 1)\n",
        "    plt.imshow(encoded_imgs[image_idx].reshape(8, 4))\n",
        "    plt.gray()\n",
        "    ax.get_xaxis().set_visible(False)\n",
        "    ax.get_yaxis().set_visible(False)\n",
        "\n",
        "    # plot reconstructed image\n",
        "    ax = plt.subplot(3, num_images, 2*num_images + i + 1)\n",
        "    plt.imshow(decoded_imgs[image_idx].reshape(28, 28))\n",
        "    plt.gray()\n",
        "    ax.get_xaxis().set_visible(False)\n",
        "    ax.get_yaxis().set_visible(False)\n",
        "plt.show()"
      ],
      "metadata": {
        "colab": {
          "base_uri": "https://localhost:8080/",
          "height": 288
        },
        "id": "KcQaIl7AHsFK",
        "outputId": "eda29345-8b1d-4ec2-f29f-6ac6877ba963"
      },
      "execution_count": null,
      "outputs": [
        {
          "output_type": "stream",
          "name": "stdout",
          "text": [
            "313/313 [==============================] - 0s 1ms/step\n",
            "313/313 [==============================] - 0s 1ms/step\n"
          ]
        },
        {
          "output_type": "display_data",
          "data": {
            "text/plain": [
              "<Figure size 1800x400 with 30 Axes>"
            ],
            "image/png": "[encoded data removed]"
          },
          "metadata": {}
        }
      ]
    },
    {
      "cell_type": "code",
      "source": [
        "del autoencoder"
      ],
      "metadata": {
        "id": "fPqPqhpnI9HN"
      },
      "execution_count": null,
      "outputs": []
    },
    {
      "cell_type": "code",
      "source": [
        "def autoencoder_fn():\n",
        "  autoencoder = Sequential()\n",
        "\n",
        "  # Encoder Layers\n",
        "  autoencoder.add(Dense(10 * encoding_dim, input_shape=(input_dim,), activation = 'relu'))\n",
        "  autoencoder.add(Dense(6 * encoding_dim, activation='relu'))\n",
        "  autoencoder.add(Dense(4 * encoding_dim, activation='relu'))\n",
        "  autoencoder.add(Dense(2 * encoding_dim, activation='relu'))\n",
        "  autoencoder.add(Dense(encoding_dim, activation='relu'))\n",
        "  # Decoder Layers\n",
        "  autoencoder.add(Dense(2 * encoding_dim, activation='relu'))\n",
        "  autoencoder.add(Dense(4 * encoding_dim, activation='relu'))\n",
        "  autoencoder.add(Dense(6 * encoding_dim, activation='relu'))\n",
        "  autoencoder.add(Dense(10 * encoding_dim, activation='relu'))\n",
        "  autoencoder.add(Dense(input_dim, activation='sigmoid'))\n",
        "\n",
        "  return autoencoder\n"
      ],
      "metadata": {
        "id": "dhfOTD0bJRxH"
      },
      "execution_count": null,
      "outputs": []
    },
    {
      "cell_type": "code",
      "source": [
        "autoencoder = autoencoder_fn()\n",
        "autoencoder.summary()"
      ],
      "metadata": {
        "colab": {
          "base_uri": "https://localhost:8080/"
        },
        "id": "dHJmuK2TLgy1",
        "outputId": "2791692e-a7c5-4746-a3b6-1cb2fc7e247d"
      },
      "execution_count": null,
      "outputs": [
        {
          "output_type": "stream",
          "name": "stdout",
          "text": [
            "Model: \"sequential_1\"\n",
            "_________________________________________________________________\n",
            " Layer (type)                Output Shape              Param #   \n",
            "=================================================================\n",
            " dense_4 (Dense)             (None, 320)               251200    \n",
            "                                                                 \n",
            " dense_5 (Dense)             (None, 192)               61632     \n",
            "                                                                 \n",
            " dense_6 (Dense)             (None, 128)               24704     \n",
            "                                                                 \n",
            " dense_7 (Dense)             (None, 64)                8256      \n",
            "                                                                 \n",
            " dense_8 (Dense)             (None, 32)                2080      \n",
            "                                                                 \n",
            " dense_9 (Dense)             (None, 64)                2112      \n",
            "                                                                 \n",
            " dense_10 (Dense)            (None, 128)               8320      \n",
            "                                                                 \n",
            " dense_11 (Dense)            (None, 192)               24768     \n",
            "                                                                 \n",
            " dense_12 (Dense)            (None, 320)               61760     \n",
            "                                                                 \n",
            " dense_13 (Dense)            (None, 784)               251664    \n",
            "                                                                 \n",
            "=================================================================\n",
            "Total params: 696,496\n",
            "Trainable params: 696,496\n",
            "Non-trainable params: 0\n",
            "_________________________________________________________________\n"
          ]
        }
      ]
    },
    {
      "cell_type": "markdown",
      "source": [
        "Different Epoch Training"
      ],
      "metadata": {
        "id": "73fVPA-AMwRm"
      }
    },
    {
      "cell_type": "code",
      "source": [
        "autoencoder.compile(optimizer='adam', loss='binary_crossentropy')\n",
        "autoencoder.fit(x_train, x_train,\n",
        "epochs=5,\n",
        "batch_size=256,\n",
        "shuffle=True,\n",
        "validation_data=(x_test, x_test))"
      ],
      "metadata": {
        "colab": {
          "base_uri": "https://localhost:8080/"
        },
        "id": "azXmNIqgLxWj",
        "outputId": "aacf964a-614d-4e48-e917-9400e4217eb3"
      },
      "execution_count": null,
      "outputs": [
        {
          "output_type": "stream",
          "name": "stdout",
          "text": [
            "Epoch 1/5\n",
            "235/235 [==============================] - 9s 34ms/step - loss: 0.2467 - val_loss: 0.1719\n",
            "Epoch 2/5\n",
            "235/235 [==============================] - 6s 27ms/step - loss: 0.1556 - val_loss: 0.1445\n",
            "Epoch 3/5\n",
            "235/235 [==============================] - 8s 33ms/step - loss: 0.1373 - val_loss: 0.1302\n",
            "Epoch 4/5\n",
            "235/235 [==============================] - 6s 27ms/step - loss: 0.1278 - val_loss: 0.1232\n",
            "Epoch 5/5\n",
            "235/235 [==============================] - 8s 33ms/step - loss: 0.1215 - val_loss: 0.1181\n"
          ]
        },
        {
          "output_type": "execute_result",
          "data": {
            "text/plain": [
              "<keras.callbacks.History at 0x7f4a2e7a87f0>"
            ]
          },
          "metadata": {},
          "execution_count": 11
        }
      ]
    },
    {
      "cell_type": "code",
      "source": [
        "del autoencoder\n",
        "autoencoder = autoencoder_fn()\n",
        "autoencoder.compile(optimizer='adam', loss='binary_crossentropy')\n",
        "autoencoder.fit(x_train, x_train,\n",
        "                epochs=10,\n",
        "                batch_size=256,\n",
        "                shuffle=True,\n",
        "                validation_data=(x_test, x_test))"
      ],
      "metadata": {
        "colab": {
          "base_uri": "https://localhost:8080/"
        },
        "id": "6Bt8uHW9MOj0",
        "outputId": "4d1dc25b-ef5a-4726-b714-68a17843117b"
      },
      "execution_count": null,
      "outputs": [
        {
          "output_type": "stream",
          "name": "stdout",
          "text": [
            "Epoch 1/10\n",
            "235/235 [==============================] - 9s 33ms/step - loss: 0.2584 - val_loss: 0.1915\n",
            "Epoch 2/10\n",
            "235/235 [==============================] - 7s 29ms/step - loss: 0.1604 - val_loss: 0.1439\n",
            "Epoch 3/10\n",
            "235/235 [==============================] - 7s 30ms/step - loss: 0.1378 - val_loss: 0.1303\n",
            "Epoch 4/10\n",
            "235/235 [==============================] - 7s 31ms/step - loss: 0.1272 - val_loss: 0.1235\n",
            "Epoch 5/10\n",
            "235/235 [==============================] - 7s 28ms/step - loss: 0.1197 - val_loss: 0.1156\n",
            "Epoch 6/10\n",
            "235/235 [==============================] - 8s 32ms/step - loss: 0.1138 - val_loss: 0.1102\n",
            "Epoch 7/10\n",
            "235/235 [==============================] - 7s 28ms/step - loss: 0.1098 - val_loss: 0.1076\n",
            "Epoch 8/10\n",
            "235/235 [==============================] - 8s 33ms/step - loss: 0.1067 - val_loss: 0.1055\n",
            "Epoch 9/10\n",
            "235/235 [==============================] - 6s 27ms/step - loss: 0.1040 - val_loss: 0.1024\n",
            "Epoch 10/10\n",
            "235/235 [==============================] - 8s 33ms/step - loss: 0.1017 - val_loss: 0.1004\n"
          ]
        },
        {
          "output_type": "execute_result",
          "data": {
            "text/plain": [
              "<keras.callbacks.History at 0x7f4a2ee8e2b0>"
            ]
          },
          "metadata": {},
          "execution_count": 12
        }
      ]
    },
    {
      "cell_type": "code",
      "source": [
        "del autoencoder\n",
        "autoencoder = autoencoder_fn()\n",
        "autoencoder.compile(optimizer='adam', loss='binary_crossentropy')\n",
        "autoencoder.fit(x_train, x_train,\n",
        "                epochs=20,\n",
        "                batch_size=256,\n",
        "                shuffle=True,\n",
        "                validation_data=(x_test, x_test))"
      ],
      "metadata": {
        "colab": {
          "base_uri": "https://localhost:8080/"
        },
        "id": "YIxfNMAJNHqO",
        "outputId": "79e643a3-94ff-41e3-bc66-a11b3bdfe87e"
      },
      "execution_count": null,
      "outputs": [
        {
          "output_type": "stream",
          "name": "stdout",
          "text": [
            "Epoch 1/20\n",
            "235/235 [==============================] - 8s 29ms/step - loss: 0.2440 - val_loss: 0.1752\n",
            "Epoch 2/20\n",
            "235/235 [==============================] - 7s 31ms/step - loss: 0.1534 - val_loss: 0.1395\n",
            "Epoch 3/20\n",
            "235/235 [==============================] - 6s 27ms/step - loss: 0.1356 - val_loss: 0.1290\n",
            "Epoch 4/20\n",
            "235/235 [==============================] - 8s 33ms/step - loss: 0.1257 - val_loss: 0.1205\n",
            "Epoch 5/20\n",
            "235/235 [==============================] - 7s 28ms/step - loss: 0.1185 - val_loss: 0.1153\n",
            "Epoch 6/20\n",
            "235/235 [==============================] - 8s 32ms/step - loss: 0.1138 - val_loss: 0.1114\n",
            "Epoch 7/20\n",
            "235/235 [==============================] - 7s 30ms/step - loss: 0.1109 - val_loss: 0.1089\n",
            "Epoch 8/20\n",
            "235/235 [==============================] - 7s 29ms/step - loss: 0.1082 - val_loss: 0.1062\n",
            "Epoch 9/20\n",
            "235/235 [==============================] - 7s 31ms/step - loss: 0.1060 - val_loss: 0.1042\n",
            "Epoch 10/20\n",
            "235/235 [==============================] - 7s 29ms/step - loss: 0.1042 - val_loss: 0.1026\n",
            "Epoch 11/20\n",
            "235/235 [==============================] - 7s 32ms/step - loss: 0.1024 - val_loss: 0.1011\n",
            "Epoch 12/20\n",
            "235/235 [==============================] - 6s 27ms/step - loss: 0.1008 - val_loss: 0.0995\n",
            "Epoch 13/20\n",
            "235/235 [==============================] - 8s 33ms/step - loss: 0.0994 - val_loss: 0.0985\n",
            "Epoch 14/20\n",
            "235/235 [==============================] - 7s 28ms/step - loss: 0.0983 - val_loss: 0.0981\n",
            "Epoch 15/20\n",
            "235/235 [==============================] - 8s 32ms/step - loss: 0.0973 - val_loss: 0.0965\n",
            "Epoch 16/20\n",
            "235/235 [==============================] - 6s 27ms/step - loss: 0.0962 - val_loss: 0.0955\n",
            "Epoch 17/20\n",
            "235/235 [==============================] - 8s 33ms/step - loss: 0.0953 - val_loss: 0.0954\n",
            "Epoch 18/20\n",
            "235/235 [==============================] - 7s 28ms/step - loss: 0.0944 - val_loss: 0.0954\n",
            "Epoch 19/20\n",
            "235/235 [==============================] - 7s 32ms/step - loss: 0.0936 - val_loss: 0.0938\n",
            "Epoch 20/20\n",
            "235/235 [==============================] - 6s 27ms/step - loss: 0.0930 - val_loss: 0.0927\n"
          ]
        },
        {
          "output_type": "execute_result",
          "data": {
            "text/plain": [
              "<keras.callbacks.History at 0x7f4a2c0d8fd0>"
            ]
          },
          "metadata": {},
          "execution_count": 13
        }
      ]
    },
    {
      "cell_type": "code",
      "source": [
        "del autoencoder\n",
        "autoencoder = autoencoder_fn()\n",
        "autoencoder.compile(optimizer='adam', loss='binary_crossentropy')\n",
        "autoencoder.fit(x_train, x_train,\n",
        "                epochs=30,\n",
        "                batch_size=256,\n",
        "                shuffle=True,\n",
        "                validation_data=(x_test, x_test))"
      ],
      "metadata": {
        "colab": {
          "base_uri": "https://localhost:8080/"
        },
        "id": "Tb8fnkZlNShK",
        "outputId": "38392a58-1227-4b09-ac30-9d3635221f12"
      },
      "execution_count": null,
      "outputs": [
        {
          "output_type": "stream",
          "name": "stdout",
          "text": [
            "Epoch 1/30\n",
            "235/235 [==============================] - 9s 29ms/step - loss: 0.2450 - val_loss: 0.1743\n",
            "Epoch 2/30\n",
            "235/235 [==============================] - 8s 33ms/step - loss: 0.1515 - val_loss: 0.1392\n",
            "Epoch 3/30\n",
            "235/235 [==============================] - 7s 28ms/step - loss: 0.1346 - val_loss: 0.1299\n",
            "Epoch 4/30\n",
            "235/235 [==============================] - 8s 33ms/step - loss: 0.1261 - val_loss: 0.1207\n",
            "Epoch 5/30\n",
            "235/235 [==============================] - 7s 28ms/step - loss: 0.1195 - val_loss: 0.1165\n",
            "Epoch 6/30\n",
            "235/235 [==============================] - 8s 33ms/step - loss: 0.1151 - val_loss: 0.1131\n",
            "Epoch 7/30\n",
            "235/235 [==============================] - 6s 27ms/step - loss: 0.1117 - val_loss: 0.1093\n",
            "Epoch 8/30\n",
            "235/235 [==============================] - 8s 33ms/step - loss: 0.1088 - val_loss: 0.1073\n",
            "Epoch 9/30\n",
            "235/235 [==============================] - 7s 29ms/step - loss: 0.1064 - val_loss: 0.1048\n",
            "Epoch 10/30\n",
            "235/235 [==============================] - 7s 31ms/step - loss: 0.1041 - val_loss: 0.1028\n",
            "Epoch 11/30\n",
            "235/235 [==============================] - 7s 30ms/step - loss: 0.1023 - val_loss: 0.1010\n",
            "Epoch 12/30\n",
            "235/235 [==============================] - 7s 29ms/step - loss: 0.1005 - val_loss: 0.0993\n",
            "Epoch 13/30\n",
            "235/235 [==============================] - 7s 32ms/step - loss: 0.0992 - val_loss: 0.0983\n",
            "Epoch 14/30\n",
            "235/235 [==============================] - 7s 29ms/step - loss: 0.0980 - val_loss: 0.0980\n",
            "Epoch 15/30\n",
            "235/235 [==============================] - 8s 33ms/step - loss: 0.0965 - val_loss: 0.0955\n",
            "Epoch 16/30\n",
            "235/235 [==============================] - 6s 27ms/step - loss: 0.0952 - val_loss: 0.0955\n",
            "Epoch 17/30\n",
            "235/235 [==============================] - 8s 33ms/step - loss: 0.0942 - val_loss: 0.0948\n",
            "Epoch 18/30\n",
            "235/235 [==============================] - 7s 28ms/step - loss: 0.0933 - val_loss: 0.0939\n",
            "Epoch 19/30\n",
            "235/235 [==============================] - 7s 32ms/step - loss: 0.0925 - val_loss: 0.0923\n",
            "Epoch 20/30\n",
            "235/235 [==============================] - 6s 27ms/step - loss: 0.0917 - val_loss: 0.0921\n",
            "Epoch 21/30\n",
            "235/235 [==============================] - 7s 32ms/step - loss: 0.0910 - val_loss: 0.0911\n",
            "Epoch 22/30\n",
            "235/235 [==============================] - 7s 28ms/step - loss: 0.0904 - val_loss: 0.0904\n",
            "Epoch 23/30\n",
            "235/235 [==============================] - 7s 32ms/step - loss: 0.0897 - val_loss: 0.0903\n",
            "Epoch 24/30\n",
            "235/235 [==============================] - 7s 28ms/step - loss: 0.0890 - val_loss: 0.0893\n",
            "Epoch 25/30\n",
            "235/235 [==============================] - 7s 32ms/step - loss: 0.0884 - val_loss: 0.0889\n",
            "Epoch 26/30\n",
            "235/235 [==============================] - 7s 30ms/step - loss: 0.0879 - val_loss: 0.0882\n",
            "Epoch 27/30\n",
            "235/235 [==============================] - 7s 31ms/step - loss: 0.0875 - val_loss: 0.0882\n",
            "Epoch 28/30\n",
            "235/235 [==============================] - 8s 33ms/step - loss: 0.0871 - val_loss: 0.0875\n",
            "Epoch 29/30\n",
            "235/235 [==============================] - 7s 28ms/step - loss: 0.0867 - val_loss: 0.0875\n",
            "Epoch 30/30\n",
            "235/235 [==============================] - 8s 32ms/step - loss: 0.0863 - val_loss: 0.0870\n"
          ]
        },
        {
          "output_type": "execute_result",
          "data": {
            "text/plain": [
              "<keras.callbacks.History at 0x7f4a07e6c520>"
            ]
          },
          "metadata": {},
          "execution_count": 14
        }
      ]
    },
    {
      "cell_type": "code",
      "source": [
        "del autoencoder\n",
        "autoencoder = autoencoder_fn()\n",
        "autoencoder.compile(optimizer='adam', loss='binary_crossentropy')\n",
        "autoencoder.fit(x_train, x_train,\n",
        "                epochs=40,\n",
        "                batch_size=256,\n",
        "                shuffle=True,\n",
        "                validation_data=(x_test, x_test))"
      ],
      "metadata": {
        "colab": {
          "base_uri": "https://localhost:8080/"
        },
        "id": "rc_0eubWNaTE",
        "outputId": "d8da21b7-a8b7-489e-f4e4-a094ff9dbc23"
      },
      "execution_count": null,
      "outputs": [
        {
          "output_type": "stream",
          "name": "stdout",
          "text": [
            "Epoch 1/40\n",
            "235/235 [==============================] - 8s 28ms/step - loss: 0.2523 - val_loss: 0.1752\n",
            "Epoch 2/40\n",
            "235/235 [==============================] - 8s 32ms/step - loss: 0.1574 - val_loss: 0.1438\n",
            "Epoch 3/40\n",
            "235/235 [==============================] - 7s 28ms/step - loss: 0.1381 - val_loss: 0.1319\n",
            "Epoch 4/40\n",
            "235/235 [==============================] - 7s 31ms/step - loss: 0.1283 - val_loss: 0.1224\n",
            "Epoch 5/40\n",
            "235/235 [==============================] - 7s 29ms/step - loss: 0.1214 - val_loss: 0.1178\n",
            "Epoch 6/40\n",
            "124/235 [==============>...............] - ETA: 3s - loss: 0.1179"
          ]
        }
      ]
    },
    {
      "cell_type": "code",
      "source": [
        "del autoencoder\n",
        "autoencoder = autoencoder_fn()\n",
        "autoencoder.compile(optimizer='adam', loss='binary_crossentropy')\n",
        "autoencoder.fit(x_train, x_train,\n",
        "                epochs=50,\n",
        "                batch_size=256,\n",
        "                shuffle=True,\n",
        "                validation_data=(x_test, x_test))"
      ],
      "metadata": {
        "colab": {
          "base_uri": "https://localhost:8080/"
        },
        "id": "hTlkGkbDNqAp",
        "outputId": "6072b878-6cbc-44ef-bdd8-2b3321fad6de"
      },
      "execution_count": null,
      "outputs": [
        {
          "metadata": {
            "tags": null
          },
          "name": "stdout",
          "output_type": "stream",
          "text": [
            "Epoch 1/50\n",
            "235/235 [==============================] - 8s 27ms/step - loss: 0.2411 - val_loss: 0.1705\n",
            "Epoch 2/50\n",
            "235/235 [==============================] - 7s 29ms/step - loss: 0.1545 - val_loss: 0.1419\n",
            "Epoch 3/50\n",
            "235/235 [==============================] - 6s 25ms/step - loss: 0.1365 - val_loss: 0.1294\n",
            "Epoch 4/50\n",
            "235/235 [==============================] - 7s 30ms/step - loss: 0.1265 - val_loss: 0.1209\n",
            "Epoch 5/50\n",
            "235/235 [==============================] - 6s 27ms/step - loss: 0.1186 - val_loss: 0.1141\n",
            "Epoch 6/50\n",
            "235/235 [==============================] - 7s 28ms/step - loss: 0.1135 - val_loss: 0.1108\n",
            "Epoch 7/50\n",
            "235/235 [==============================] - 7s 28ms/step - loss: 0.1100 - val_loss: 0.1077\n",
            "Epoch 8/50\n",
            "235/235 [==============================] - 6s 26ms/step - loss: 0.1069 - val_loss: 0.1054\n",
            "Epoch 9/50\n",
            "235/235 [==============================] - 7s 29ms/step - loss: 0.1047 - val_loss: 0.1033\n",
            "Epoch 10/50\n",
            "235/235 [==============================] - 6s 27ms/step - loss: 0.1025 - val_loss: 0.1009\n",
            "Epoch 11/50\n",
            "235/235 [==============================] - 7s 30ms/step - loss: 0.1007 - val_loss: 0.1000\n",
            "Epoch 12/50\n",
            "235/235 [==============================] - 6s 25ms/step - loss: 0.0990 - val_loss: 0.0986\n",
            "Epoch 13/50\n",
            "235/235 [==============================] - 7s 30ms/step - loss: 0.0979 - val_loss: 0.0967\n",
            "Epoch 14/50\n",
            "235/235 [==============================] - 6s 27ms/step - loss: 0.0965 - val_loss: 0.0959\n",
            "Epoch 15/50\n",
            "235/235 [==============================] - 7s 29ms/step - loss: 0.0954 - val_loss: 0.0948\n",
            "Epoch 16/50\n",
            "235/235 [==============================] - 6s 27ms/step - loss: 0.0942 - val_loss: 0.0937\n",
            "Epoch 17/50\n",
            "235/235 [==============================] - 7s 29ms/step - loss: 0.0933 - val_loss: 0.0936\n",
            "Epoch 18/50\n",
            "235/235 [==============================] - 6s 27ms/step - loss: 0.0925 - val_loss: 0.0925\n",
            "Epoch 19/50\n",
            "235/235 [==============================] - 7s 29ms/step - loss: 0.0918 - val_loss: 0.0917\n",
            "Epoch 20/50\n",
            "235/235 [==============================] - 6s 25ms/step - loss: 0.0909 - val_loss: 0.0919\n",
            "Epoch 21/50\n",
            "235/235 [==============================] - 7s 30ms/step - loss: 0.0904 - val_loss: 0.0908\n",
            "Epoch 22/50\n",
            "235/235 [==============================] - 6s 26ms/step - loss: 0.0898 - val_loss: 0.0903\n",
            "Epoch 23/50\n",
            "235/235 [==============================] - 7s 28ms/step - loss: 0.0894 - val_loss: 0.0894\n",
            "Epoch 24/50\n",
            "235/235 [==============================] - 6s 27ms/step - loss: 0.0889 - val_loss: 0.0896\n",
            "Epoch 25/50\n",
            "235/235 [==============================] - 7s 29ms/step - loss: 0.0884 - val_loss: 0.0891\n",
            "Epoch 26/50\n",
            "235/235 [==============================] - 7s 28ms/step - loss: 0.0881 - val_loss: 0.0887\n",
            "Epoch 27/50\n",
            "235/235 [==============================] - 6s 26ms/step - loss: 0.0878 - val_loss: 0.0880\n",
            "Epoch 28/50\n",
            "235/235 [==============================] - 7s 29ms/step - loss: 0.0873 - val_loss: 0.0880\n",
            "Epoch 29/50\n",
            "235/235 [==============================] - 6s 25ms/step - loss: 0.0870 - val_loss: 0.0874\n",
            "Epoch 30/50\n",
            "235/235 [==============================] - 7s 30ms/step - loss: 0.0866 - val_loss: 0.0873\n",
            "Epoch 31/50\n",
            "235/235 [==============================] - 6s 26ms/step - loss: 0.0864 - val_loss: 0.0871\n",
            "Epoch 32/50\n",
            "235/235 [==============================] - 7s 30ms/step - loss: 0.0860 - val_loss: 0.0868\n",
            "Epoch 33/50\n",
            "235/235 [==============================] - 6s 27ms/step - loss: 0.0857 - val_loss: 0.0874\n",
            "Epoch 34/50\n",
            "235/235 [==============================] - 7s 31ms/step - loss: 0.0854 - val_loss: 0.0865\n",
            "Epoch 35/50\n",
            "235/235 [==============================] - 7s 29ms/step - loss: 0.0851 - val_loss: 0.0856\n",
            "Epoch 36/50\n",
            "235/235 [==============================] - 7s 31ms/step - loss: 0.0850 - val_loss: 0.0862\n",
            "Epoch 37/50\n",
            "235/235 [==============================] - 7s 29ms/step - loss: 0.0847 - val_loss: 0.0853\n",
            "Epoch 38/50\n",
            "235/235 [==============================] - 7s 30ms/step - loss: 0.0844 - val_loss: 0.0851\n",
            "Epoch 39/50\n",
            "235/235 [==============================] - 7s 30ms/step - loss: 0.0842 - val_loss: 0.0856\n",
            "Epoch 40/50\n",
            "235/235 [==============================] - 6s 27ms/step - loss: 0.0840 - val_loss: 0.0854\n",
            "Epoch 41/50\n",
            "235/235 [==============================] - 7s 31ms/step - loss: 0.0838 - val_loss: 0.0848\n",
            "Epoch 42/50\n",
            "235/235 [==============================] - 8s 34ms/step - loss: 0.0836 - val_loss: 0.0855\n",
            "Epoch 43/50\n",
            "235/235 [==============================] - 9s 39ms/step - loss: 0.0834 - val_loss: 0.0844\n",
            "Epoch 44/50\n",
            "235/235 [==============================] - 6s 27ms/step - loss: 0.0832 - val_loss: 0.0843\n",
            "Epoch 45/50\n",
            "235/235 [==============================] - 7s 30ms/step - loss: 0.0831 - val_loss: 0.0840\n",
            "Epoch 46/50\n",
            "235/235 [==============================] - 6s 27ms/step - loss: 0.0828 - val_loss: 0.0838\n",
            "Epoch 47/50\n",
            "235/235 [==============================] - 7s 28ms/step - loss: 0.0827 - val_loss: 0.0844\n",
            "Epoch 48/50\n",
            "235/235 [==============================] - 7s 29ms/step - loss: 0.0825 - val_loss: 0.0840\n",
            "Epoch 49/50\n",
            "235/235 [==============================] - 6s 27ms/step - loss: 0.0822 - val_loss: 0.0839\n",
            "Epoch 50/50\n",
            "235/235 [==============================] - 7s 30ms/step - loss: 0.0820 - val_loss: 0.0830\n"
          ]
        },
        {
          "data": {
            "text/plain": [
              "<keras.callbacks.History at 0x7f4a1c7f7340>"
            ]
          },
          "execution_count": 16,
          "metadata": {},
          "output_type": "execute_result"
        }
      ]
    },
    {
      "cell_type": "code",
      "source": [
        "del autoencoder\n",
        "autoencoder = autoencoder_fn()\n",
        "autoencoder.compile(optimizer='adam', loss='binary_crossentropy')\n",
        "autoencoder.fit(x_train, x_train,\n",
        "                epochs=100,\n",
        "                batch_size=256,\n",
        "                shuffle=True,\n",
        "                validation_data=(x_test, x_test))"
      ],
      "metadata": {
        "colab": {
          "base_uri": "https://localhost:8080/"
        },
        "id": "ASOJlSc2N0na",
        "outputId": "a10dc59c-94a8-4072-b5b7-d8f90d91eb0b"
      },
      "execution_count": null,
      "outputs": [
        {
          "output_type": "stream",
          "name": "stdout",
          "text": [
            "Epoch 1/100\n",
            "235/235 [==============================] - 8s 27ms/step - loss: 0.2536 - val_loss: 0.1898\n",
            "Epoch 2/100\n",
            "235/235 [==============================] - 7s 31ms/step - loss: 0.1694 - val_loss: 0.1535\n",
            "Epoch 3/100\n",
            "235/235 [==============================] - 7s 28ms/step - loss: 0.1457 - val_loss: 0.1386\n",
            "Epoch 4/100\n",
            "235/235 [==============================] - 7s 31ms/step - loss: 0.1347 - val_loss: 0.1301\n",
            "Epoch 5/100\n",
            "235/235 [==============================] - 7s 30ms/step - loss: 0.1277 - val_loss: 0.1253\n",
            "Epoch 6/100\n",
            "235/235 [==============================] - 7s 31ms/step - loss: 0.1220 - val_loss: 0.1193\n",
            "Epoch 7/100\n",
            "235/235 [==============================] - 7s 32ms/step - loss: 0.1176 - val_loss: 0.1147\n",
            "Epoch 8/100\n",
            "235/235 [==============================] - 7s 28ms/step - loss: 0.1140 - val_loss: 0.1126\n",
            "Epoch 9/100\n",
            "235/235 [==============================] - 7s 31ms/step - loss: 0.1111 - val_loss: 0.1091\n",
            "Epoch 10/100\n",
            "235/235 [==============================] - 7s 28ms/step - loss: 0.1090 - val_loss: 0.1085\n",
            "Epoch 11/100\n",
            "235/235 [==============================] - 8s 33ms/step - loss: 0.1069 - val_loss: 0.1073\n",
            "Epoch 12/100\n",
            "235/235 [==============================] - 7s 29ms/step - loss: 0.1051 - val_loss: 0.1037\n",
            "Epoch 13/100\n",
            "235/235 [==============================] - 7s 31ms/step - loss: 0.1035 - val_loss: 0.1033\n",
            "Epoch 14/100\n",
            "235/235 [==============================] - 7s 29ms/step - loss: 0.1024 - val_loss: 0.1021\n",
            "Epoch 15/100\n",
            "235/235 [==============================] - 7s 29ms/step - loss: 0.1014 - val_loss: 0.1012\n",
            "Epoch 16/100\n",
            "235/235 [==============================] - 8s 33ms/step - loss: 0.1005 - val_loss: 0.1008\n",
            "Epoch 17/100\n",
            "235/235 [==============================] - 7s 29ms/step - loss: 0.0995 - val_loss: 0.0991\n",
            "Epoch 18/100\n",
            "235/235 [==============================] - 8s 33ms/step - loss: 0.0986 - val_loss: 0.0980\n",
            "Epoch 19/100\n",
            "235/235 [==============================] - 7s 29ms/step - loss: 0.0978 - val_loss: 0.0988\n",
            "Epoch 20/100\n",
            "235/235 [==============================] - 8s 32ms/step - loss: 0.0971 - val_loss: 0.0974\n",
            "Epoch 21/100\n",
            "235/235 [==============================] - 7s 29ms/step - loss: 0.0963 - val_loss: 0.0967\n",
            "Epoch 22/100\n",
            "235/235 [==============================] - 7s 31ms/step - loss: 0.0954 - val_loss: 0.0955\n",
            "Epoch 23/100\n",
            "235/235 [==============================] - 7s 31ms/step - loss: 0.0947 - val_loss: 0.0955\n",
            "Epoch 24/100\n",
            "235/235 [==============================] - 7s 29ms/step - loss: 0.0939 - val_loss: 0.0947\n",
            "Epoch 25/100\n",
            "235/235 [==============================] - 7s 31ms/step - loss: 0.0934 - val_loss: 0.0939\n",
            "Epoch 26/100\n",
            "235/235 [==============================] - 6s 27ms/step - loss: 0.0927 - val_loss: 0.0933\n",
            "Epoch 27/100\n",
            "235/235 [==============================] - 8s 32ms/step - loss: 0.0922 - val_loss: 0.0925\n",
            "Epoch 28/100\n",
            "235/235 [==============================] - 7s 28ms/step - loss: 0.0917 - val_loss: 0.0926\n",
            "Epoch 29/100\n",
            "235/235 [==============================] - 7s 31ms/step - loss: 0.0912 - val_loss: 0.0920\n",
            "Epoch 30/100\n",
            "235/235 [==============================] - 7s 29ms/step - loss: 0.0910 - val_loss: 0.0918\n",
            "Epoch 31/100\n",
            "235/235 [==============================] - 7s 31ms/step - loss: 0.0906 - val_loss: 0.0915\n",
            "Epoch 32/100\n",
            "235/235 [==============================] - 7s 31ms/step - loss: 0.0903 - val_loss: 0.0912\n",
            "Epoch 33/100\n",
            "235/235 [==============================] - 6s 28ms/step - loss: 0.0899 - val_loss: 0.0913\n",
            "Epoch 34/100\n",
            "235/235 [==============================] - 8s 32ms/step - loss: 0.0897 - val_loss: 0.0907\n",
            "Epoch 35/100\n",
            "235/235 [==============================] - 7s 28ms/step - loss: 0.0893 - val_loss: 0.0911\n",
            "Epoch 36/100\n",
            "235/235 [==============================] - 8s 32ms/step - loss: 0.0890 - val_loss: 0.0900\n",
            "Epoch 37/100\n",
            "235/235 [==============================] - 6s 28ms/step - loss: 0.0886 - val_loss: 0.0897\n",
            "Epoch 38/100\n",
            "235/235 [==============================] - 7s 31ms/step - loss: 0.0884 - val_loss: 0.0896\n",
            "Epoch 39/100\n",
            "235/235 [==============================] - 7s 29ms/step - loss: 0.0880 - val_loss: 0.0890\n",
            "Epoch 40/100\n",
            "235/235 [==============================] - 7s 31ms/step - loss: 0.0879 - val_loss: 0.0888\n",
            "Epoch 41/100\n",
            "235/235 [==============================] - 7s 31ms/step - loss: 0.0875 - val_loss: 0.0890\n",
            "Epoch 42/100\n",
            "235/235 [==============================] - 7s 29ms/step - loss: 0.0872 - val_loss: 0.0886\n",
            "Epoch 43/100\n",
            "235/235 [==============================] - 8s 32ms/step - loss: 0.0870 - val_loss: 0.0878\n",
            "Epoch 44/100\n",
            "235/235 [==============================] - 7s 29ms/step - loss: 0.0866 - val_loss: 0.0884\n",
            "Epoch 45/100\n",
            "235/235 [==============================] - 7s 31ms/step - loss: 0.0865 - val_loss: 0.0875\n",
            "Epoch 46/100\n",
            "235/235 [==============================] - 7s 28ms/step - loss: 0.0862 - val_loss: 0.0875\n",
            "Epoch 47/100\n",
            "235/235 [==============================] - 8s 33ms/step - loss: 0.0859 - val_loss: 0.0873\n",
            "Epoch 48/100\n",
            "235/235 [==============================] - 7s 29ms/step - loss: 0.0858 - val_loss: 0.0869\n",
            "Epoch 49/100\n",
            "235/235 [==============================] - 7s 31ms/step - loss: 0.0856 - val_loss: 0.0873\n",
            "Epoch 50/100\n",
            "235/235 [==============================] - 7s 31ms/step - loss: 0.0854 - val_loss: 0.0872\n",
            "Epoch 51/100\n",
            "235/235 [==============================] - 7s 28ms/step - loss: 0.0852 - val_loss: 0.0876\n",
            "Epoch 52/100\n",
            "235/235 [==============================] - 7s 31ms/step - loss: 0.0851 - val_loss: 0.0865\n",
            "Epoch 53/100\n",
            "235/235 [==============================] - 7s 29ms/step - loss: 0.0848 - val_loss: 0.0864\n",
            "Epoch 54/100\n",
            "235/235 [==============================] - 8s 33ms/step - loss: 0.0847 - val_loss: 0.0865\n",
            "Epoch 55/100\n",
            "235/235 [==============================] - 6s 28ms/step - loss: 0.0846 - val_loss: 0.0861\n",
            "Epoch 56/100\n",
            "235/235 [==============================] - 8s 33ms/step - loss: 0.0845 - val_loss: 0.0857\n",
            "Epoch 57/100\n",
            "235/235 [==============================] - 7s 29ms/step - loss: 0.0842 - val_loss: 0.0864\n",
            "Epoch 58/100\n",
            "235/235 [==============================] - 7s 30ms/step - loss: 0.0842 - val_loss: 0.0864\n",
            "Epoch 59/100\n",
            "235/235 [==============================] - 7s 31ms/step - loss: 0.0840 - val_loss: 0.0858\n",
            "Epoch 60/100\n",
            "235/235 [==============================] - 7s 28ms/step - loss: 0.0839 - val_loss: 0.0857\n",
            "Epoch 61/100\n",
            "235/235 [==============================] - 8s 33ms/step - loss: 0.0838 - val_loss: 0.0854\n",
            "Epoch 62/100\n",
            "235/235 [==============================] - 7s 28ms/step - loss: 0.0835 - val_loss: 0.0849\n",
            "Epoch 63/100\n",
            "235/235 [==============================] - 8s 32ms/step - loss: 0.0835 - val_loss: 0.0851\n",
            "Epoch 64/100\n",
            "235/235 [==============================] - 6s 28ms/step - loss: 0.0834 - val_loss: 0.0857\n",
            "Epoch 65/100\n",
            "235/235 [==============================] - 8s 33ms/step - loss: 0.0833 - val_loss: 0.0854\n",
            "Epoch 66/100\n",
            "235/235 [==============================] - 7s 29ms/step - loss: 0.0832 - val_loss: 0.0853\n",
            "Epoch 67/100\n",
            "235/235 [==============================] - 7s 31ms/step - loss: 0.0830 - val_loss: 0.0850\n",
            "Epoch 68/100\n",
            "235/235 [==============================] - 8s 32ms/step - loss: 0.0830 - val_loss: 0.0850\n",
            "Epoch 69/100\n",
            "235/235 [==============================] - 7s 29ms/step - loss: 0.0829 - val_loss: 0.0846\n",
            "Epoch 70/100\n",
            "235/235 [==============================] - 8s 33ms/step - loss: 0.0828 - val_loss: 0.0845\n",
            "Epoch 71/100\n",
            "235/235 [==============================] - 6s 28ms/step - loss: 0.0827 - val_loss: 0.0846\n",
            "Epoch 72/100\n",
            "235/235 [==============================] - 8s 33ms/step - loss: 0.0827 - val_loss: 0.0841\n",
            "Epoch 73/100\n",
            "235/235 [==============================] - 7s 28ms/step - loss: 0.0824 - val_loss: 0.0855\n",
            "Epoch 74/100\n",
            "235/235 [==============================] - 7s 31ms/step - loss: 0.0824 - val_loss: 0.0848\n",
            "Epoch 75/100\n",
            "235/235 [==============================] - 7s 30ms/step - loss: 0.0824 - val_loss: 0.0841\n",
            "Epoch 76/100\n",
            "235/235 [==============================] - 7s 31ms/step - loss: 0.0823 - val_loss: 0.0838\n",
            "Epoch 77/100\n",
            "235/235 [==============================] - 8s 32ms/step - loss: 0.0822 - val_loss: 0.0839\n",
            "Epoch 78/100\n",
            "235/235 [==============================] - 6s 28ms/step - loss: 0.0821 - val_loss: 0.0836\n",
            "Epoch 79/100\n",
            "235/235 [==============================] - 8s 33ms/step - loss: 0.0820 - val_loss: 0.0836\n",
            "Epoch 80/100\n",
            "235/235 [==============================] - 7s 28ms/step - loss: 0.0820 - val_loss: 0.0835\n",
            "Epoch 81/100\n",
            "235/235 [==============================] - 7s 32ms/step - loss: 0.0818 - val_loss: 0.0840\n",
            "Epoch 82/100\n",
            "235/235 [==============================] - 7s 28ms/step - loss: 0.0817 - val_loss: 0.0837\n",
            "Epoch 83/100\n",
            "235/235 [==============================] - 8s 33ms/step - loss: 0.0818 - val_loss: 0.0839\n",
            "Epoch 84/100\n",
            "235/235 [==============================] - 7s 29ms/step - loss: 0.0817 - val_loss: 0.0835\n",
            "Epoch 85/100\n",
            "235/235 [==============================] - 7s 30ms/step - loss: 0.0816 - val_loss: 0.0839\n",
            "Epoch 86/100\n",
            "235/235 [==============================] - 7s 32ms/step - loss: 0.0814 - val_loss: 0.0833\n",
            "Epoch 87/100\n",
            "235/235 [==============================] - 7s 28ms/step - loss: 0.0814 - val_loss: 0.0835\n",
            "Epoch 88/100\n",
            "235/235 [==============================] - 7s 31ms/step - loss: 0.0813 - val_loss: 0.0837\n",
            "Epoch 89/100\n",
            "235/235 [==============================] - 7s 28ms/step - loss: 0.0811 - val_loss: 0.0830\n",
            "Epoch 90/100\n",
            "235/235 [==============================] - 7s 32ms/step - loss: 0.0812 - val_loss: 0.0835\n",
            "Epoch 91/100\n",
            "235/235 [==============================] - 6s 28ms/step - loss: 0.0811 - val_loss: 0.0830\n",
            "Epoch 92/100\n",
            "235/235 [==============================] - 8s 32ms/step - loss: 0.0810 - val_loss: 0.0825\n",
            "Epoch 93/100\n",
            "235/235 [==============================] - 7s 29ms/step - loss: 0.0810 - val_loss: 0.0840\n",
            "Epoch 94/100\n",
            "235/235 [==============================] - 7s 31ms/step - loss: 0.0809 - val_loss: 0.0829\n",
            "Epoch 95/100\n",
            "235/235 [==============================] - 7s 31ms/step - loss: 0.0808 - val_loss: 0.0825\n",
            "Epoch 96/100\n",
            "235/235 [==============================] - 6s 28ms/step - loss: 0.0807 - val_loss: 0.0830\n",
            "Epoch 97/100\n",
            "235/235 [==============================] - 7s 31ms/step - loss: 0.0806 - val_loss: 0.0832\n",
            "Epoch 98/100\n",
            "235/235 [==============================] - 7s 29ms/step - loss: 0.0806 - val_loss: 0.0826\n",
            "Epoch 99/100\n",
            "235/235 [==============================] - 7s 31ms/step - loss: 0.0805 - val_loss: 0.0827\n",
            "Epoch 100/100\n",
            "235/235 [==============================] - 7s 29ms/step - loss: 0.0806 - val_loss: 0.0829\n"
          ]
        },
        {
          "output_type": "execute_result",
          "data": {
            "text/plain": [
              "<keras.callbacks.History at 0x7f4a1ccb6520>"
            ]
          },
          "metadata": {},
          "execution_count": 17
        }
      ]
    },
    {
      "cell_type": "markdown",
      "source": [
        "Different Architecture and number of trainable parameters"
      ],
      "metadata": {
        "id": "3Ip2EIl7OXhJ"
      }
    },
    {
      "cell_type": "code",
      "source": [
        "input_img = Input(shape=(input_dim,))\n",
        "encoder_layer1 = autoencoder.layers[0]\n",
        "encoder_layer2 = autoencoder.layers[1]\n",
        "encoder_layer3 = autoencoder.layers[2]\n",
        "encoder_layer4 = autoencoder.layers[3]\n",
        "encoder_layer5 = autoencoder.layers[4]\n",
        "encoder = Model(input_img, encoder_layer5(encoder_layer4(encoder_layer3(encoder_layer2(encoder_layer1(input_img))))))\n",
        "encoder.summary()"
      ],
      "metadata": {
        "id": "oA1EW-n0OTVp"
      },
      "execution_count": null,
      "outputs": []
    },
    {
      "cell_type": "code",
      "source": [
        "#def decoder(encoded_input):\n",
        "#  h=Dense(inter_encoding_dim, activation='relu')(encoded_input)\n",
        "#  decoded= Dense(input_dim, activation='sigmoid')(h)\n",
        "#  return decoded"
      ],
      "metadata": {
        "id": "FVHDYv_8Phi8"
      },
      "execution_count": null,
      "outputs": []
    },
    {
      "cell_type": "code",
      "source": [
        "encoded_input = Input(shape=(encoding_dim,))\n",
        "decoder_layer1=autoencoder.layers[-5]\n",
        "decoder_layer2=autoencoder.layers[-4]\n",
        "decoder_layer3=autoencoder.layers[-3]\n",
        "decoder_layer4=autoencoder.layers[-2]\n",
        "decoder_layer5=autoencoder.layers[-1]\n",
        "decoder=Model(encoded_input, decoder_layer5(decoder_layer4(decoder_layer3(decoder_layer2(decoder_layer1(encoded_input))))))\n",
        "decoder.summary()"
      ],
      "metadata": {
        "colab": {
          "base_uri": "https://localhost:8080/"
        },
        "id": "kZKVfFHjRpJR",
        "outputId": "2e47fbf6-32e3-4aa6-a6b8-d6b2b4b104ea"
      },
      "execution_count": null,
      "outputs": [
        {
          "output_type": "stream",
          "name": "stdout",
          "text": [
            "Model: \"model_4\"\n",
            "_________________________________________________________________\n",
            " Layer (type)                Output Shape              Param #   \n",
            "=================================================================\n",
            " input_4 (InputLayer)        [(None, 32)]              0         \n",
            "                                                                 \n",
            " dense_69 (Dense)            (None, 64)                2112      \n",
            "                                                                 \n",
            " dense_70 (Dense)            (None, 128)               8320      \n",
            "                                                                 \n",
            " dense_71 (Dense)            (None, 192)               24768     \n",
            "                                                                 \n",
            " dense_72 (Dense)            (None, 320)               61760     \n",
            "                                                                 \n",
            " dense_73 (Dense)            (None, 784)               251664    \n",
            "                                                                 \n",
            "=================================================================\n",
            "Total params: 348,624\n",
            "Trainable params: 348,624\n",
            "Non-trainable params: 0\n",
            "_________________________________________________________________\n"
          ]
        }
      ]
    },
    {
      "cell_type": "markdown",
      "source": [
        "Testing my Own Image"
      ],
      "metadata": {
        "id": "5Ivo5UiAS0p4"
      }
    },
    {
      "cell_type": "code",
      "source": [
        "import numpy as np\n",
        "import PIL\n",
        "from PIL import Image\n",
        "import matplotlib.pyplot as plt\n",
        "\n",
        "# Load the image and convert to grayscale\n",
        "x = Image.open('/content/drive/MyDrive/Lochan_basyal', 'r')\n",
        "x = x.convert('L')\n",
        "\n",
        "# Resize the image to 28x28\n",
        "x = x.resize((28, 28))\n",
        "\n",
        "# Convert the image to a numpy array of shape (28, 28) and type float64\n",
        "y = np.asarray(x.getdata(), dtype=np.float64).reshape((x.size[1], x.size[0]))\n",
        "\n",
        "# Reshape the numpy array to shape (1, 784) to match the input shape of the autoencoder\n",
        "yy = y.reshape(1, 784)\n",
        "\n",
        "# Pass the input through the encoder to get the compressed representation\n",
        "encoded_imgs = encoder.predict(yy)\n",
        "\n",
        "# Pass the compressed representation through the decoder to get the reconstructed image\n",
        "decoded_imgs = decoder.predict(encoded_imgs)\n",
        "\n",
        "# Display the original image\n",
        "ax = plt.subplot(2, 1, 1)\n",
        "plt.imshow(yy.reshape(28, 28))\n",
        "plt.gray()\n",
        "ax.get_xaxis().set_visible(False)\n",
        "ax.get_yaxis().set_visible(False)\n",
        "\n",
        "# Display the reconstructed image\n",
        "ax = plt.subplot(2, 1, 2)\n",
        "plt.imshow(decoded_imgs.reshape(28, 28))\n",
        "plt.gray()\n",
        "ax.get_xaxis().set_visible(False)\n",
        "ax.get_yaxis().set_visible(False)\n",
        "\n",
        "# Show the plot\n",
        "plt.show()\n"
      ],
      "metadata": {
        "colab": {
          "base_uri": "https://localhost:8080/",
          "height": 442
        },
        "id": "Kq6MT20hS3dx",
        "outputId": "821f3778-fc5c-4bb4-e3c3-7fd786e3e617"
      },
      "execution_count": null,
      "outputs": [
        {
          "output_type": "stream",
          "name": "stdout",
          "text": [
            "1/1 [==============================] - 0s 74ms/step\n",
            "1/1 [==============================] - 0s 66ms/step\n"
          ]
        },
        {
          "output_type": "display_data",
          "data": {
            "text/plain": [
              "<Figure size 640x480 with 2 Axes>"
            ],
            "image/png": "[encoded data removed]"
          },
          "metadata": {}
        }
      ]
    },
    {
      "cell_type": "code",
      "source": [
        "autoencoder = autoencoder_fn()\n",
        "input_img = Input(shape=(input_dim,))\n",
        "encoder_layer1 = autoencoder.layers[0]\n",
        "encoder_layer2 = autoencoder.layers[1]\n",
        "encoder_layer3 = autoencoder.layers[2]\n",
        "encoder_layer4 = autoencoder.layers[3]\n",
        "encoder_layer5 = autoencoder.layers[4]\n",
        "encoder = Model(input_img, encoder_layer5(encoder_layer4(encoder_layer3(encoder_layer2(encoder_layer1(input_img))))))\n",
        "encoder.summary()\n"
      ],
      "metadata": {
        "colab": {
          "base_uri": "https://localhost:8080/"
        },
        "id": "N5Jb2pVsZNq8",
        "outputId": "74fbbc5e-8943-401f-8b66-f08a239a42e8"
      },
      "execution_count": null,
      "outputs": [
        {
          "output_type": "stream",
          "name": "stdout",
          "text": [
            "Model: \"model_5\"\n",
            "_________________________________________________________________\n",
            " Layer (type)                Output Shape              Param #   \n",
            "=================================================================\n",
            " input_5 (InputLayer)        [(None, 784)]             0         \n",
            "                                                                 \n",
            " dense_74 (Dense)            (None, 320)               251200    \n",
            "                                                                 \n",
            " dense_75 (Dense)            (None, 192)               61632     \n",
            "                                                                 \n",
            " dense_76 (Dense)            (None, 128)               24704     \n",
            "                                                                 \n",
            " dense_77 (Dense)            (None, 64)                8256      \n",
            "                                                                 \n",
            " dense_78 (Dense)            (None, 32)                2080      \n",
            "                                                                 \n",
            "=================================================================\n",
            "Total params: 347,872\n",
            "Trainable params: 347,872\n",
            "Non-trainable params: 0\n",
            "_________________________________________________________________\n"
          ]
        }
      ]
    },
    {
      "cell_type": "code",
      "source": [
        "encoded_input = Input(shape=(encoding_dim,))\n",
        "decoder_layer1 = autoencoder.layers[-5]\n",
        "decoder_layer2 = autoencoder.layers[-4]\n",
        "decoder_layer3 = autoencoder.layers[-3]\n",
        "decoder_layer4 = autoencoder.layers[-2]\n",
        "decoder_layer5 = autoencoder.layers[-1]\n",
        "decoder = Model(encoded_input, decoder_layer5(decoder_layer4(decoder_layer3(decoder_layer2(decoder_layer1(encoded_input))))))\n",
        "decoder.summary()\n"
      ],
      "metadata": {
        "colab": {
          "base_uri": "https://localhost:8080/"
        },
        "id": "lB00z9FhZntA",
        "outputId": "86cb1e42-150e-4453-e20b-3a16fbfec359"
      },
      "execution_count": null,
      "outputs": [
        {
          "output_type": "stream",
          "name": "stdout",
          "text": [
            "Model: \"model_6\"\n",
            "_________________________________________________________________\n",
            " Layer (type)                Output Shape              Param #   \n",
            "=================================================================\n",
            " input_6 (InputLayer)        [(None, 32)]              0         \n",
            "                                                                 \n",
            " dense_79 (Dense)            (None, 64)                2112      \n",
            "                                                                 \n",
            " dense_80 (Dense)            (None, 128)               8320      \n",
            "                                                                 \n",
            " dense_81 (Dense)            (None, 192)               24768     \n",
            "                                                                 \n",
            " dense_82 (Dense)            (None, 320)               61760     \n",
            "                                                                 \n",
            " dense_83 (Dense)            (None, 784)               251664    \n",
            "                                                                 \n",
            "=================================================================\n",
            "Total params: 348,624\n",
            "Trainable params: 348,624\n",
            "Non-trainable params: 0\n",
            "_________________________________________________________________\n"
          ]
        }
      ]
    },
    {
      "cell_type": "code",
      "source": [],
      "metadata": {
        "id": "VURRERAzZ34W"
      },
      "execution_count": null,
      "outputs": []
    }
  ]
}