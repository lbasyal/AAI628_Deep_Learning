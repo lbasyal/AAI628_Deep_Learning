{
  "nbformat": 4,
  "nbformat_minor": 0,
  "metadata": {
    "colab": {
      "provenance": []
    },
    "kernelspec": {
      "name": "python3",
      "display_name": "Python 3"
    },
    "language_info": {
      "name": "python"
    }
  },
  "cells": [
    {
      "cell_type": "markdown",
      "source": [
        "1. Create a new notebook.\n",
        "Test Tensor flow with the below python codes at colab.  \n",
        "\n"
      ],
      "metadata": {
        "id": "OM3sWF3SQMGx"
      }
    },
    {
      "cell_type": "code",
      "execution_count": null,
      "metadata": {
        "id": "pm1qLlXW10Wg"
      },
      "outputs": [],
      "source": [
        "import tensorflow as tf\n",
        "from keras.layers import Input, Dense\n",
        "from keras.models import Model\n",
        "\n",
        "import matplotlib.pyplot as plt"
      ]
    },
    {
      "cell_type": "markdown",
      "source": [
        "2. Test Tensor flow with linear regressions"
      ],
      "metadata": {
        "id": "w8o6z1y8EAng"
      }
    },
    {
      "cell_type": "code",
      "source": [
        "import numpy as np\n",
        "#Linear Regression with TensorFlow\n",
        "from sklearn.datasets import fetch_california_housing\n",
        "housing = fetch_california_housing()\n",
        "m, n = housing.data.shape\n",
        "housing_data_plus_bias = np.c_[np.ones((m, 1)), housing.data]\n",
        "X = tf.constant(housing_data_plus_bias, dtype=tf.float32, name=\"X\")\n",
        "y = tf.constant(housing.target.reshape(-1, 1), dtype=tf.float32, name=\"y\")\n",
        "XT = tf.transpose(X)"
      ],
      "metadata": {
        "id": "aB8_T7TSD587"
      },
      "execution_count": null,
      "outputs": []
    },
    {
      "cell_type": "code",
      "source": [
        "theta = tf.matmul(tf.matmul(tf.linalg.inv(tf.matmul(XT, X)), XT), y)\n",
        "\n",
        "print(theta)"
      ],
      "metadata": {
        "colab": {
          "base_uri": "https://localhost:8080/"
        },
        "id": "meg2oo0sEGUk",
        "outputId": "3303f35b-56fe-4df7-8421-3a83a341c231"
      },
      "execution_count": null,
      "outputs": [
        {
          "output_type": "stream",
          "name": "stdout",
          "text": [
            "tf.Tensor(\n",
            "[[-3.7144665e+01]\n",
            " [ 4.3637392e-01]\n",
            " [ 9.3933418e-03]\n",
            " [-1.0714764e-01]\n",
            " [ 6.4542186e-01]\n",
            " [-4.1016874e-06]\n",
            " [-3.7816020e-03]\n",
            " [-4.2341197e-01]\n",
            " [-4.3682083e-01]], shape=(9, 1), dtype=float32)\n"
          ]
        }
      ]
    },
    {
      "cell_type": "markdown",
      "source": [
        "3. Test Tensor flow with MNIST (handwriting) data set"
      ],
      "metadata": {
        "id": "Pdlv4MX_FyFN"
      }
    },
    {
      "cell_type": "code",
      "source": [
        "# Plot ad hoc mnist instances\n",
        "from keras.datasets import mnist\n",
        "import matplotlib.pyplot as plt\n",
        "# load (downloaded if needed) the MNIST dataset\n",
        "(X_train, y_train), (X_test, y_test) = mnist.load_data()\n",
        "# plot 4 images as gray scale\n",
        "plt.subplot(221)\n",
        "plt.imshow(X_train[0], cmap=plt.get_cmap('gray'))\n",
        "plt.subplot(222)\n",
        "plt.imshow(X_train[1], cmap=plt.get_cmap('gray'))\n",
        "plt.subplot(223)\n",
        "plt.imshow(X_train[2], cmap=plt.get_cmap('gray'))\n",
        "plt.subplot(224)\n",
        "plt.imshow(X_train[3], cmap=plt.get_cmap('gray'))\n",
        "# show the plot\n",
        "plt.show()\n",
        "\n",
        "from keras.datasets import mnist\n",
        "from keras.models import Sequential\n",
        "from keras.layers import Dense\n",
        "from keras.layers import Dropout\n",
        "from keras.utils import np_utils\n",
        "\n",
        "# fix random seed for reproducibility\n",
        "seed = 7\n",
        "np.random.seed(seed)\n",
        "\n",
        "# load data\n",
        "(X_train, y_train), (X_test, y_test) = mnist.load_data()\n",
        "\n",
        "\n",
        "# flatten 28*28 images to a 784 vector for each image\n",
        "num_pixels = X_train.shape[1] * X_train.shape[2]\n",
        "X_train = X_train.reshape(X_train.shape[0], num_pixels).astype('float32')\n",
        "X_test = X_test.reshape(X_test.shape[0], num_pixels).astype('float32')\n",
        "\n",
        "# normalize inputs from 0-255 to 0-1\n",
        "X_train = X_train / 255\n",
        "X_test = X_test / 255\n",
        "\n",
        "# one hot encode outputs\n",
        "y_train = np_utils.to_categorical(y_train)\n",
        "y_test = np_utils.to_categorical(y_test)\n",
        "num_classes = y_test.shape[1]\n",
        "\n",
        "\n",
        "# define baseline model\n",
        "def baseline_model():\n",
        "# create model\n",
        " model = Sequential()\n",
        " model.add(Dense(num_pixels, input_dim=num_pixels, kernel_initializer='normal', activation='relu'))\n",
        " model.add(Dense(num_classes, kernel_initializer='normal', activation='softmax'))\n",
        "# Compile model\n",
        " model.compile(loss='categorical_crossentropy', optimizer='adam', metrics=['accuracy'])\n",
        " return model\n",
        "\n",
        "\n",
        "# build the model\n",
        "model = baseline_model()\n",
        "# Fit the model\n",
        "model.fit(X_train, y_train, validation_data=(X_test, y_test), epochs=10, batch_size=200, verbose=2)\n",
        "# Final evaluation of the model\n",
        "scores = model.evaluate(X_test, y_test, verbose=0)\n",
        "print(\"Baseline Error: %.2f%%\" % (100-scores[1]*100))"
      ],
      "metadata": {
        "colab": {
          "base_uri": "https://localhost:8080/",
          "height": 663
        },
        "id": "v0Jz0Z6fE1Ut",
        "outputId": "7a0e4385-8271-4669-e1aa-ad63202f576f"
      },
      "execution_count": null,
      "outputs": [
        {
          "output_type": "display_data",
          "data": {
            "text/plain": [
              "<Figure size 432x288 with 4 Axes>"
            ],
            "image/png": "[encoded data removed]"
          },
          "metadata": {
            "needs_background": "light"
          }
        },
        {
          "output_type": "stream",
          "name": "stdout",
          "text": [
            "Epoch 1/10\n",
            "300/300 - 4s - loss: 0.2760 - accuracy: 0.9222 - val_loss: 0.1337 - val_accuracy: 0.9614 - 4s/epoch - 14ms/step\n",
            "Epoch 2/10\n",
            "300/300 - 4s - loss: 0.1104 - accuracy: 0.9680 - val_loss: 0.1020 - val_accuracy: 0.9688 - 4s/epoch - 13ms/step\n",
            "Epoch 3/10\n",
            "300/300 - 5s - loss: 0.0709 - accuracy: 0.9797 - val_loss: 0.0794 - val_accuracy: 0.9752 - 5s/epoch - 16ms/step\n",
            "Epoch 4/10\n",
            "300/300 - 4s - loss: 0.0505 - accuracy: 0.9854 - val_loss: 0.0678 - val_accuracy: 0.9775 - 4s/epoch - 12ms/step\n",
            "Epoch 5/10\n",
            "300/300 - 4s - loss: 0.0385 - accuracy: 0.9890 - val_loss: 0.0625 - val_accuracy: 0.9798 - 4s/epoch - 13ms/step\n",
            "Epoch 6/10\n",
            "300/300 - 5s - loss: 0.0275 - accuracy: 0.9925 - val_loss: 0.0615 - val_accuracy: 0.9804 - 5s/epoch - 16ms/step\n",
            "Epoch 7/10\n",
            "300/300 - 4s - loss: 0.0187 - accuracy: 0.9956 - val_loss: 0.0574 - val_accuracy: 0.9816 - 4s/epoch - 13ms/step\n",
            "Epoch 8/10\n",
            "300/300 - 4s - loss: 0.0139 - accuracy: 0.9972 - val_loss: 0.0622 - val_accuracy: 0.9814 - 4s/epoch - 13ms/step\n",
            "Epoch 9/10\n",
            "300/300 - 5s - loss: 0.0103 - accuracy: 0.9979 - val_loss: 0.0624 - val_accuracy: 0.9817 - 5s/epoch - 16ms/step\n",
            "Epoch 10/10\n",
            "300/300 - 4s - loss: 0.0075 - accuracy: 0.9986 - val_loss: 0.0642 - val_accuracy: 0.9808 - 4s/epoch - 13ms/step\n",
            "Baseline Error: 1.92%\n"
          ]
        }
      ]
    },
    {
      "cell_type": "markdown",
      "source": [
        "4. Derive the gradients for the below expressions:"
      ],
      "metadata": {
        "id": "ZNtUBRqTT4zt"
      }
    },
    {
      "cell_type": "code",
      "source": [
        "#Importing the libraries\n",
        "import sympy as sp\n",
        "from sympy.physics.vector import dynamicsymbols as dynamicsymbols\n",
        "\n",
        "#defining the variables used in the equation\n",
        "x1, x2 = sp.symbols('x1, x2')\n",
        "a1, a2, a3, a4 = sp.symbols('a1, a2, a3, a4')\n",
        "\n",
        "#Creating the matrix\n",
        "A = sp.Matrix([[a1, a2], [a3, a4]])\n",
        "x = sp.Matrix([x1, x2])\n",
        "f = 0.5*x.T@A@x\n",
        "f\n",
        "#This will print the function in mathematical representation\n"
      ],
      "metadata": {
        "id": "hmroXkRY4b_a",
        "colab": {
          "base_uri": "https://localhost:8080/",
          "height": 59
        },
        "outputId": "aab83850-feaa-4238-f8fe-ccfbd1635b6b"
      },
      "execution_count": null,
      "outputs": [
        {
          "output_type": "execute_result",
          "data": {
            "text/plain": [
              "Matrix([[x1*(0.5*a1*x1 + 0.5*a3*x2) + x2*(0.5*a2*x1 + 0.5*a4*x2)]])"
            ],
            "text/latex": "$\\displaystyle \\left[\\begin{matrix}x_{1} \\left(0.5 a_{1} x_{1} + 0.5 a_{3} x_{2}\\right) + x_{2} \\left(0.5 a_{2} x_{1} + 0.5 a_{4} x_{2}\\right)\\end{matrix}\\right]$"
          },
          "metadata": {},
          "execution_count": 100
        }
      ]
    },
    {
      "cell_type": "code",
      "source": [
        "#Now solving equations, condition for LHS\n",
        "#Calculating the gradient of the function df(x)\n",
        "der_f = sp.diff(f, x)\n",
        "der_f = sp.Matrix([der_f[0][0][0], der_f[1][0][0]])\n",
        "der_f"
      ],
      "metadata": {
        "colab": {
          "base_uri": "https://localhost:8080/",
          "height": 58
        },
        "id": "yAjodqlCpFqU",
        "outputId": "e4e071ab-8565-46dc-cfd2-8bdfbe86cf64"
      },
      "execution_count": null,
      "outputs": [
        {
          "output_type": "execute_result",
          "data": {
            "text/plain": [
              "Matrix([\n",
              "[1.0*a1*x1 + 0.5*a2*x2 + 0.5*a3*x2],\n",
              "[0.5*a2*x1 + 0.5*a3*x1 + 1.0*a4*x2]])"
            ],
            "text/latex": "$\\displaystyle \\left[\\begin{matrix}1.0 a_{1} x_{1} + 0.5 a_{2} x_{2} + 0.5 a_{3} x_{2}\\\\0.5 a_{2} x_{1} + 0.5 a_{3} x_{1} + 1.0 a_{4} x_{2}\\end{matrix}\\right]$"
          },
          "metadata": {},
          "execution_count": 108
        }
      ]
    },
    {
      "cell_type": "code",
      "source": [
        "#Putting the value of x1, x2 and applying the condition of symmetric matrix condition(a2 = a3)"
      ],
      "metadata": {
        "id": "HlxJIPUJr2XB"
      },
      "execution_count": null,
      "outputs": []
    },
    {
      "cell_type": "code",
      "source": [
        "der = der_f.subs({x1:2, x2:3, a2:a3})\n",
        "der"
      ],
      "metadata": {
        "colab": {
          "base_uri": "https://localhost:8080/",
          "height": 58
        },
        "id": "16juC4FfuD2h",
        "outputId": "5cdc2bce-7de6-4045-f5e8-677a470d3e21"
      },
      "execution_count": null,
      "outputs": [
        {
          "output_type": "execute_result",
          "data": {
            "text/plain": [
              "Matrix([\n",
              "[2.0*a1 + 3.0*a3],\n",
              "[2.0*a3 + 3.0*a4]])"
            ],
            "text/latex": "$\\displaystyle \\left[\\begin{matrix}2.0 a_{1} + 3.0 a_{3}\\\\2.0 a_{3} + 3.0 a_{4}\\end{matrix}\\right]$"
          },
          "metadata": {},
          "execution_count": 110
        }
      ]
    },
    {
      "cell_type": "code",
      "source": [
        "#Now working on RHS side"
      ],
      "metadata": {
        "id": "aTdHsRBnujzZ"
      },
      "execution_count": null,
      "outputs": []
    },
    {
      "cell_type": "code",
      "source": [
        "der_f = A@x"
      ],
      "metadata": {
        "id": "8TnyVrWCvaF9"
      },
      "execution_count": null,
      "outputs": []
    },
    {
      "cell_type": "code",
      "source": [
        "der_f.subs({x1:2, x2:3, a2:a3})"
      ],
      "metadata": {
        "colab": {
          "base_uri": "https://localhost:8080/",
          "height": 58
        },
        "id": "4kyP-SDdvdzK",
        "outputId": "20baf561-2434-4407-d1fd-02c90e5a3bac"
      },
      "execution_count": null,
      "outputs": [
        {
          "output_type": "execute_result",
          "data": {
            "text/plain": [
              "Matrix([\n",
              "[2*a1 + 3*a3],\n",
              "[2*a3 + 3*a4]])"
            ],
            "text/latex": "$\\displaystyle \\left[\\begin{matrix}2 a_{1} + 3 a_{3}\\\\2 a_{3} + 3 a_{4}\\end{matrix}\\right]$"
          },
          "metadata": {},
          "execution_count": 113
        }
      ]
    },
    {
      "cell_type": "code",
      "source": [
        "#Hence LHS = RHS (Proved)"
      ],
      "metadata": {
        "id": "X8lwojUcvpJK"
      },
      "execution_count": null,
      "outputs": []
    },
    {
      "cell_type": "code",
      "source": [],
      "metadata": {
        "id": "Tw58ihjQwrol"
      },
      "execution_count": null,
      "outputs": []
    }
  ]
}