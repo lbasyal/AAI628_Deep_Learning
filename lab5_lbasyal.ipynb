{
  "cells": [
    {
      "cell_type": "markdown",
      "source": [
        "Homework5_Lochan_Basyal"
      ],
      "metadata": {
        "id": "2sJB9-nqsVeF"
      }
    },
    {
      "cell_type": "code",
      "execution_count": null,
      "metadata": {
        "id": "AGhh4XTP1hri"
      },
      "outputs": [],
      "source": [
        "from keras.datasets import imdb\n",
        "(train_data, train_labels),(test_data, test_labels) = imdb.load_data( num_words=10000)"
      ]
    },
    {
      "cell_type": "code",
      "execution_count": null,
      "metadata": {
        "colab": {
          "base_uri": "https://localhost:8080/"
        },
        "id": "4AagDCIq1hrk",
        "outputId": "bb7f13d3-34ab-44ff-ee59-27457737d13b"
      },
      "outputs": [
        {
          "output_type": "execute_result",
          "data": {
            "text/plain": [
              "[1,\n",
              " 14,\n",
              " 22,\n",
              " 16,\n",
              " 43,\n",
              " 530,\n",
              " 973,\n",
              " 1622,\n",
              " 1385,\n",
              " 65,\n",
              " 458,\n",
              " 4468,\n",
              " 66,\n",
              " 3941,\n",
              " 4,\n",
              " 173,\n",
              " 36,\n",
              " 256,\n",
              " 5,\n",
              " 25,\n",
              " 100,\n",
              " 43,\n",
              " 838,\n",
              " 112,\n",
              " 50,\n",
              " 670,\n",
              " 2,\n",
              " 9,\n",
              " 35,\n",
              " 480,\n",
              " 284,\n",
              " 5,\n",
              " 150,\n",
              " 4,\n",
              " 172,\n",
              " 112,\n",
              " 167,\n",
              " 2,\n",
              " 336,\n",
              " 385,\n",
              " 39,\n",
              " 4,\n",
              " 172,\n",
              " 4536,\n",
              " 1111,\n",
              " 17,\n",
              " 546,\n",
              " 38,\n",
              " 13,\n",
              " 447,\n",
              " 4,\n",
              " 192,\n",
              " 50,\n",
              " 16,\n",
              " 6,\n",
              " 147,\n",
              " 2025,\n",
              " 19,\n",
              " 14,\n",
              " 22,\n",
              " 4,\n",
              " 1920,\n",
              " 4613,\n",
              " 469,\n",
              " 4,\n",
              " 22,\n",
              " 71,\n",
              " 87,\n",
              " 12,\n",
              " 16,\n",
              " 43,\n",
              " 530,\n",
              " 38,\n",
              " 76,\n",
              " 15,\n",
              " 13,\n",
              " 1247,\n",
              " 4,\n",
              " 22,\n",
              " 17,\n",
              " 515,\n",
              " 17,\n",
              " 12,\n",
              " 16,\n",
              " 626,\n",
              " 18,\n",
              " 2,\n",
              " 5,\n",
              " 62,\n",
              " 386,\n",
              " 12,\n",
              " 8,\n",
              " 316,\n",
              " 8,\n",
              " 106,\n",
              " 5,\n",
              " 4,\n",
              " 2223,\n",
              " 5244,\n",
              " 16,\n",
              " 480,\n",
              " 66,\n",
              " 3785,\n",
              " 33,\n",
              " 4,\n",
              " 130,\n",
              " 12,\n",
              " 16,\n",
              " 38,\n",
              " 619,\n",
              " 5,\n",
              " 25,\n",
              " 124,\n",
              " 51,\n",
              " 36,\n",
              " 135,\n",
              " 48,\n",
              " 25,\n",
              " 1415,\n",
              " 33,\n",
              " 6,\n",
              " 22,\n",
              " 12,\n",
              " 215,\n",
              " 28,\n",
              " 77,\n",
              " 52,\n",
              " 5,\n",
              " 14,\n",
              " 407,\n",
              " 16,\n",
              " 82,\n",
              " 2,\n",
              " 8,\n",
              " 4,\n",
              " 107,\n",
              " 117,\n",
              " 5952,\n",
              " 15,\n",
              " 256,\n",
              " 4,\n",
              " 2,\n",
              " 7,\n",
              " 3766,\n",
              " 5,\n",
              " 723,\n",
              " 36,\n",
              " 71,\n",
              " 43,\n",
              " 530,\n",
              " 476,\n",
              " 26,\n",
              " 400,\n",
              " 317,\n",
              " 46,\n",
              " 7,\n",
              " 4,\n",
              " 2,\n",
              " 1029,\n",
              " 13,\n",
              " 104,\n",
              " 88,\n",
              " 4,\n",
              " 381,\n",
              " 15,\n",
              " 297,\n",
              " 98,\n",
              " 32,\n",
              " 2071,\n",
              " 56,\n",
              " 26,\n",
              " 141,\n",
              " 6,\n",
              " 194,\n",
              " 7486,\n",
              " 18,\n",
              " 4,\n",
              " 226,\n",
              " 22,\n",
              " 21,\n",
              " 134,\n",
              " 476,\n",
              " 26,\n",
              " 480,\n",
              " 5,\n",
              " 144,\n",
              " 30,\n",
              " 5535,\n",
              " 18,\n",
              " 51,\n",
              " 36,\n",
              " 28,\n",
              " 224,\n",
              " 92,\n",
              " 25,\n",
              " 104,\n",
              " 4,\n",
              " 226,\n",
              " 65,\n",
              " 16,\n",
              " 38,\n",
              " 1334,\n",
              " 88,\n",
              " 12,\n",
              " 16,\n",
              " 283,\n",
              " 5,\n",
              " 16,\n",
              " 4472,\n",
              " 113,\n",
              " 103,\n",
              " 32,\n",
              " 15,\n",
              " 16,\n",
              " 5345,\n",
              " 19,\n",
              " 178,\n",
              " 32]"
            ]
          },
          "metadata": {},
          "execution_count": 23
        }
      ],
      "source": [
        "train_data[0]"
      ]
    },
    {
      "cell_type": "code",
      "execution_count": null,
      "metadata": {
        "colab": {
          "base_uri": "https://localhost:8080/"
        },
        "id": "qffEr4No1hrl",
        "outputId": "7864c72c-af99-474e-a853-043a8ca453ab"
      },
      "outputs": [
        {
          "output_type": "execute_result",
          "data": {
            "text/plain": [
              "array([1, 0, 0, 1, 0, 0, 1, 0, 1, 0, 1, 0, 0, 0, 0, 0, 1, 1, 0, 1])"
            ]
          },
          "metadata": {},
          "execution_count": 24
        }
      ],
      "source": [
        "train_labels[0:20]"
      ]
    },
    {
      "cell_type": "code",
      "execution_count": null,
      "metadata": {
        "id": "lFnFYJvZ1hrl"
      },
      "outputs": [],
      "source": [
        "import numpy as np\n",
        "def vectorize_sequences(sequences, dimension=10000):\n",
        "    results = np.zeros((len(sequences), dimension))\n",
        "    for i, sequence in enumerate(sequences):\n",
        "        results[i, sequence] = 1.\n",
        "    return results\n"
      ]
    },
    {
      "cell_type": "code",
      "execution_count": null,
      "metadata": {
        "id": "Lqbpj4qj1hrl"
      },
      "outputs": [],
      "source": [
        "x_train = vectorize_sequences(train_data)\n",
        "x_test = vectorize_sequences(test_data)\n",
        "\n",
        "y_train = np.asarray(train_labels).astype('float32')\n",
        "y_test = np.asarray(test_labels).astype('float32')\n"
      ]
    },
    {
      "cell_type": "code",
      "execution_count": null,
      "metadata": {
        "id": "yggJRpFj1hrl"
      },
      "outputs": [],
      "source": [
        "from keras import models\n",
        "from keras import layers\n",
        "model = models.Sequential()\n",
        "model.add(layers.Dense(16, activation='relu', input_shape=(10000,)))\n",
        "model.add(layers.Dense(16, activation='relu'))\n",
        "model.add(layers.Dense(1, activation='sigmoid'))"
      ]
    },
    {
      "cell_type": "code",
      "execution_count": null,
      "metadata": {
        "id": "_EDgTGN51hrm"
      },
      "outputs": [],
      "source": [
        "model.compile(optimizer='rmsprop',\n",
        "              loss='binary_crossentropy',\n",
        "              metrics=['accuracy'])"
      ]
    },
    {
      "cell_type": "code",
      "execution_count": null,
      "metadata": {
        "colab": {
          "base_uri": "https://localhost:8080/"
        },
        "id": "88dJ7Jgo1hrm",
        "outputId": "b1878418-d316-4d09-8d82-e3caa50035f5"
      },
      "outputs": [
        {
          "output_type": "stream",
          "name": "stderr",
          "text": [
            "/usr/local/lib/python3.8/dist-packages/keras/optimizers/optimizer_v2/rmsprop.py:143: UserWarning: The `lr` argument is deprecated, use `learning_rate` instead.\n",
            "  super().__init__(name, **kwargs)\n"
          ]
        }
      ],
      "source": [
        "from keras import optimizers\n",
        "model.compile(optimizer=optimizers.RMSprop(lr=0.001),\n",
        "              loss='binary_crossentropy',\n",
        "              metrics=['accuracy'])\n",
        "\n",
        "\n"
      ]
    },
    {
      "cell_type": "code",
      "execution_count": null,
      "metadata": {
        "id": "6drEP7R31hrm"
      },
      "outputs": [],
      "source": [
        "from keras import losses\n",
        "from keras import metrics\n",
        "\n",
        "model.compile(optimizer=optimizers.RMSprop(lr=0.001),\n",
        "              loss=losses.binary_crossentropy,\n",
        "              metrics=[metrics.binary_accuracy])\n"
      ]
    },
    {
      "cell_type": "code",
      "execution_count": null,
      "metadata": {
        "id": "TbvxEBFM1hrm"
      },
      "outputs": [],
      "source": [
        "x_val = x_train[:10000]\n",
        "partial_x_train = x_train[10000:]\n",
        "y_val = y_train[:10000]\n",
        "partial_y_train = y_train[10000:]\n"
      ]
    },
    {
      "cell_type": "code",
      "execution_count": null,
      "metadata": {
        "colab": {
          "base_uri": "https://localhost:8080/"
        },
        "id": "_B45JChY1hrm",
        "outputId": "b7bfb9f8-0891-4970-f618-a2ed3f9f00e2"
      },
      "outputs": [
        {
          "output_type": "stream",
          "name": "stdout",
          "text": [
            "Epoch 1/20\n",
            "30/30 [==============================] - 4s 85ms/step - loss: 0.5621 - acc: 0.7420 - val_loss: 0.4292 - val_acc: 0.8613\n",
            "Epoch 2/20\n",
            "30/30 [==============================] - 1s 48ms/step - loss: 0.3523 - acc: 0.8889 - val_loss: 0.3459 - val_acc: 0.8663\n",
            "Epoch 3/20\n",
            "30/30 [==============================] - 1s 45ms/step - loss: 0.2588 - acc: 0.9160 - val_loss: 0.2897 - val_acc: 0.8891\n",
            "Epoch 4/20\n",
            "30/30 [==============================] - 2s 62ms/step - loss: 0.2077 - acc: 0.9305 - val_loss: 0.2856 - val_acc: 0.8828\n",
            "Epoch 5/20\n",
            "30/30 [==============================] - 2s 73ms/step - loss: 0.1758 - acc: 0.9402 - val_loss: 0.2759 - val_acc: 0.8876\n",
            "Epoch 6/20\n",
            "30/30 [==============================] - 1s 45ms/step - loss: 0.1498 - acc: 0.9503 - val_loss: 0.2858 - val_acc: 0.8849\n",
            "Epoch 7/20\n",
            "30/30 [==============================] - 1s 41ms/step - loss: 0.1267 - acc: 0.9599 - val_loss: 0.2916 - val_acc: 0.8836\n",
            "Epoch 8/20\n",
            "30/30 [==============================] - 2s 54ms/step - loss: 0.1101 - acc: 0.9667 - val_loss: 0.3072 - val_acc: 0.8815\n",
            "Epoch 9/20\n",
            "30/30 [==============================] - 1s 44ms/step - loss: 0.0971 - acc: 0.9704 - val_loss: 0.3248 - val_acc: 0.8790\n",
            "Epoch 10/20\n",
            "30/30 [==============================] - 1s 44ms/step - loss: 0.0828 - acc: 0.9767 - val_loss: 0.3367 - val_acc: 0.8799\n",
            "Epoch 11/20\n",
            "30/30 [==============================] - 1s 43ms/step - loss: 0.0704 - acc: 0.9813 - val_loss: 0.3545 - val_acc: 0.8774\n",
            "Epoch 12/20\n",
            "30/30 [==============================] - 1s 41ms/step - loss: 0.0639 - acc: 0.9829 - val_loss: 0.3799 - val_acc: 0.8782\n",
            "Epoch 13/20\n",
            "30/30 [==============================] - 2s 70ms/step - loss: 0.0550 - acc: 0.9853 - val_loss: 0.3943 - val_acc: 0.8778\n",
            "Epoch 14/20\n",
            "30/30 [==============================] - 2s 55ms/step - loss: 0.0457 - acc: 0.9897 - val_loss: 0.4157 - val_acc: 0.8753\n",
            "Epoch 15/20\n",
            "30/30 [==============================] - 1s 45ms/step - loss: 0.0406 - acc: 0.9907 - val_loss: 0.4358 - val_acc: 0.8750\n",
            "Epoch 16/20\n",
            "30/30 [==============================] - 1s 42ms/step - loss: 0.0343 - acc: 0.9927 - val_loss: 0.4582 - val_acc: 0.8717\n",
            "Epoch 17/20\n",
            "30/30 [==============================] - 2s 53ms/step - loss: 0.0300 - acc: 0.9937 - val_loss: 0.4817 - val_acc: 0.8735\n",
            "Epoch 18/20\n",
            "30/30 [==============================] - 1s 42ms/step - loss: 0.0243 - acc: 0.9962 - val_loss: 0.5079 - val_acc: 0.8704\n",
            "Epoch 19/20\n",
            "30/30 [==============================] - 2s 55ms/step - loss: 0.0258 - acc: 0.9943 - val_loss: 0.5282 - val_acc: 0.8709\n",
            "Epoch 20/20\n",
            "30/30 [==============================] - 1s 44ms/step - loss: 0.0142 - acc: 0.9991 - val_loss: 0.5758 - val_acc: 0.8653\n"
          ]
        }
      ],
      "source": [
        "model.compile(optimizer='rmsprop',\n",
        "              loss='binary_crossentropy',\n",
        "              metrics=['acc'])\n",
        "\n",
        "history = model.fit(partial_x_train,\n",
        "                    partial_y_train,\n",
        "                    epochs=20,\n",
        "                    batch_size=512,\n",
        "                    validation_data=(x_val, y_val))\n"
      ]
    },
    {
      "cell_type": "code",
      "execution_count": null,
      "metadata": {
        "colab": {
          "base_uri": "https://localhost:8080/"
        },
        "id": "Ptw9pVi-1hrn",
        "outputId": "9f20db52-b24c-4cd9-b4ab-2e72f292da4a"
      },
      "outputs": [
        {
          "output_type": "execute_result",
          "data": {
            "text/plain": [
              "dict_keys(['loss', 'acc', 'val_loss', 'val_acc'])"
            ]
          },
          "metadata": {},
          "execution_count": 36
        }
      ],
      "source": [
        "history_dict = history.history\n",
        "history_dict.keys()\n"
      ]
    },
    {
      "cell_type": "code",
      "execution_count": null,
      "metadata": {
        "colab": {
          "base_uri": "https://localhost:8080/",
          "height": 295
        },
        "id": "qlXnXuQR1hrn",
        "outputId": "5a15d7b4-7864-42a2-fef3-0e018ea1a67b"
      },
      "outputs": [
        {
          "output_type": "display_data",
          "data": {
            "text/plain": [
              "<Figure size 432x288 with 1 Axes>"
            ],
            "image/png": "[encoded data removed]"
          },
          "metadata": {
            "needs_background": "light"
          }
        }
      ],
      "source": [
        "import matplotlib.pyplot as plt\n",
        "history_dict = history.history\n",
        "loss_values = history_dict['loss']\n",
        "val_loss_values = history_dict['val_loss']\n",
        "acc_values = history_dict['acc']\n",
        "epochs = range(1, len(acc_values) + 1)\n",
        "plt.plot(epochs, loss_values, 'bo', label='Training loss')\n",
        "plt.plot(epochs, val_loss_values, 'b', label='Validation loss')\n",
        "plt.title('Training and validation loss')\n",
        "plt.xlabel('Epochs')\n",
        "plt.ylabel('Loss')\n",
        "plt.legend()\n",
        "plt.show()"
      ]
    },
    {
      "cell_type": "markdown",
      "source": [
        "Part 1: Compare the different compiler setups\n",
        "\n",
        "\n",
        "Use the same set of IMDB data in the posted IMDB.ipynb file:\n",
        "\n",
        "List the comparison results with each setup variations and explain your observations.\n",
        "\n",
        "We used two hidden layers. Try using one or three hidden layers, and see how doing so affects validation and test accuracy.\n",
        "\n",
        "Try using layers with more hidden units or fewer hidden units: 32 units, 64 units, and so on.\n",
        "\n",
        "Try using the mse loss function instead of binary_crossentropy.\n",
        "\n",
        "Try using the tanh activation (an activation that was popular in the early days of\n",
        "\n",
        "neural networks) instead of relu.\n",
        "\n"
      ],
      "metadata": {
        "id": "NA4GI6LrsvvU"
      }
    },
    {
      "cell_type": "markdown",
      "source": [
        "Task 1: Neural Network with 1 Layer"
      ],
      "metadata": {
        "id": "6qDbfJEfs1gE"
      }
    },
    {
      "cell_type": "code",
      "execution_count": null,
      "metadata": {
        "colab": {
          "base_uri": "https://localhost:8080/"
        },
        "id": "R4K--tyl1hrn",
        "outputId": "3c8db2c2-e9f5-4e97-c000-259be41d55d4"
      },
      "outputs": [
        {
          "output_type": "stream",
          "name": "stdout",
          "text": [
            "Epoch 1/20\n",
            "30/30 [==============================] - 4s 116ms/step - loss: 0.5129 - acc: 0.7933 - val_loss: 0.4095 - val_acc: 0.8517\n",
            "Epoch 2/20\n",
            "30/30 [==============================] - 2s 57ms/step - loss: 0.3385 - acc: 0.8927 - val_loss: 0.3320 - val_acc: 0.8812\n",
            "Epoch 3/20\n",
            "30/30 [==============================] - 1s 47ms/step - loss: 0.2682 - acc: 0.9144 - val_loss: 0.2994 - val_acc: 0.8863\n",
            "Epoch 4/20\n",
            "30/30 [==============================] - 1s 40ms/step - loss: 0.2273 - acc: 0.9263 - val_loss: 0.2832 - val_acc: 0.8886\n",
            "Epoch 5/20\n",
            "30/30 [==============================] - 2s 53ms/step - loss: 0.1960 - acc: 0.9379 - val_loss: 0.2850 - val_acc: 0.8860\n",
            "Epoch 6/20\n",
            "30/30 [==============================] - 1s 43ms/step - loss: 0.1751 - acc: 0.9461 - val_loss: 0.2886 - val_acc: 0.8817\n",
            "Epoch 7/20\n",
            "30/30 [==============================] - 1s 40ms/step - loss: 0.1574 - acc: 0.9521 - val_loss: 0.2813 - val_acc: 0.8853\n",
            "Epoch 8/20\n",
            "30/30 [==============================] - 2s 52ms/step - loss: 0.1443 - acc: 0.9563 - val_loss: 0.2843 - val_acc: 0.8835\n",
            "Epoch 9/20\n",
            "30/30 [==============================] - 2s 61ms/step - loss: 0.1312 - acc: 0.9612 - val_loss: 0.3004 - val_acc: 0.8813\n",
            "Epoch 10/20\n",
            "30/30 [==============================] - 2s 65ms/step - loss: 0.1201 - acc: 0.9656 - val_loss: 0.2891 - val_acc: 0.8866\n",
            "Epoch 11/20\n",
            "30/30 [==============================] - 2s 52ms/step - loss: 0.1104 - acc: 0.9698 - val_loss: 0.2941 - val_acc: 0.8852\n",
            "Epoch 12/20\n",
            "30/30 [==============================] - 2s 52ms/step - loss: 0.1015 - acc: 0.9725 - val_loss: 0.3013 - val_acc: 0.8835\n",
            "Epoch 13/20\n",
            "30/30 [==============================] - 2s 53ms/step - loss: 0.0927 - acc: 0.9762 - val_loss: 0.3103 - val_acc: 0.8812\n",
            "Epoch 14/20\n",
            "30/30 [==============================] - 1s 41ms/step - loss: 0.0869 - acc: 0.9783 - val_loss: 0.3166 - val_acc: 0.8811\n",
            "Epoch 15/20\n",
            "30/30 [==============================] - 1s 42ms/step - loss: 0.0797 - acc: 0.9806 - val_loss: 0.3337 - val_acc: 0.8770\n",
            "Epoch 16/20\n",
            "30/30 [==============================] - 1s 43ms/step - loss: 0.0740 - acc: 0.9834 - val_loss: 0.3353 - val_acc: 0.8812\n",
            "Epoch 17/20\n",
            "30/30 [==============================] - 1s 41ms/step - loss: 0.0690 - acc: 0.9853 - val_loss: 0.3456 - val_acc: 0.8768\n",
            "Epoch 18/20\n",
            "30/30 [==============================] - 2s 63ms/step - loss: 0.0633 - acc: 0.9870 - val_loss: 0.3516 - val_acc: 0.8791\n",
            "Epoch 19/20\n",
            "30/30 [==============================] - 2s 51ms/step - loss: 0.0588 - acc: 0.9891 - val_loss: 0.3605 - val_acc: 0.8779\n",
            "Epoch 20/20\n",
            "30/30 [==============================] - 1s 38ms/step - loss: 0.0537 - acc: 0.9904 - val_loss: 0.3866 - val_acc: 0.8701\n"
          ]
        }
      ],
      "source": [
        "model_1 = models.Sequential()\n",
        "model_1.add(layers.Dense(16, activation='relu', input_shape=(10000,)))\n",
        "model_1.add(layers.Dense(1, activation='sigmoid'))\n",
        "\n",
        "model_1.compile(optimizer='rmsprop',\n",
        "              loss='binary_crossentropy',\n",
        "              metrics=['acc'])\n",
        "\n",
        "history = model_1.fit(partial_x_train,\n",
        "                    partial_y_train,\n",
        "                    epochs=20,\n",
        "                    batch_size=512,\n",
        "                    validation_data=(x_val, y_val))"
      ]
    },
    {
      "cell_type": "code",
      "source": [
        "history_dict = history.history\n",
        "history_dict.keys()\n",
        "loss_values = history_dict['loss']\n",
        "val_loss_values = history_dict['val_loss']\n",
        "acc_values = history_dict['acc']\n",
        "epochs = range(1, len(acc_values) + 1)\n",
        "plt.plot(epochs, loss_values, 'bo', label='Training loss')\n",
        "plt.plot(epochs, val_loss_values, 'b', label='Validation loss')\n",
        "plt.title('Training and validation loss')\n",
        "plt.xlabel('Epochs')\n",
        "plt.ylabel('Loss')\n",
        "plt.legend()\n",
        "plt.show()"
      ],
      "metadata": {
        "colab": {
          "base_uri": "https://localhost:8080/",
          "height": 295
        },
        "id": "Pl3n9-85s_VY",
        "outputId": "340d7d90-abdf-41e8-ea00-6c74ac4124d2"
      },
      "execution_count": null,
      "outputs": [
        {
          "output_type": "display_data",
          "data": {
            "text/plain": [
              "<Figure size 432x288 with 1 Axes>"
            ],
            "image/png": "[encoded data removed]"
          },
          "metadata": {
            "needs_background": "light"
          }
        }
      ]
    },
    {
      "cell_type": "markdown",
      "source": [
        "Neural Network with 3 hiden layers"
      ],
      "metadata": {
        "id": "oHKHKGyI0vad"
      }
    },
    {
      "cell_type": "code",
      "source": [
        "model_2 = models.Sequential()\n",
        "model_2.add(layers.Dense(16, activation='relu', input_shape=(10000,)))\n",
        "model_2.add(layers.Dense(16, activation='relu'))\n",
        "model_2.add(layers.Dense(16, activation='relu'))\n",
        "model_2.add(layers.Dense(1, activation='sigmoid'))\n",
        "\n",
        "model_2.compile(optimizer='rmsprop',\n",
        "              loss='binary_crossentropy',\n",
        "              metrics=['acc'])\n",
        "\n",
        "history = model_2.fit(partial_x_train,\n",
        "                    partial_y_train,\n",
        "                    epochs=20,\n",
        "                    batch_size=512,\n",
        "                    validation_data=(x_val, y_val))"
      ],
      "metadata": {
        "colab": {
          "base_uri": "https://localhost:8080/"
        },
        "id": "UVJpJp2d0ihu",
        "outputId": "f221ecf1-6817-49ed-e526-d4a029b1e17a"
      },
      "execution_count": null,
      "outputs": [
        {
          "output_type": "stream",
          "name": "stdout",
          "text": [
            "Epoch 1/20\n",
            "30/30 [==============================] - 3s 73ms/step - loss: 0.5520 - acc: 0.7491 - val_loss: 0.4293 - val_acc: 0.8340\n",
            "Epoch 2/20\n",
            "30/30 [==============================] - 1s 41ms/step - loss: 0.3284 - acc: 0.8889 - val_loss: 0.3112 - val_acc: 0.8808\n",
            "Epoch 3/20\n",
            "30/30 [==============================] - 1s 45ms/step - loss: 0.2363 - acc: 0.9167 - val_loss: 0.2874 - val_acc: 0.8865\n",
            "Epoch 4/20\n",
            "30/30 [==============================] - 2s 63ms/step - loss: 0.1834 - acc: 0.9377 - val_loss: 0.2799 - val_acc: 0.8879\n",
            "Epoch 5/20\n",
            "30/30 [==============================] - 1s 42ms/step - loss: 0.1545 - acc: 0.9486 - val_loss: 0.2929 - val_acc: 0.8856\n",
            "Epoch 6/20\n",
            "30/30 [==============================] - 1s 39ms/step - loss: 0.1325 - acc: 0.9567 - val_loss: 0.3529 - val_acc: 0.8664\n",
            "Epoch 7/20\n",
            "30/30 [==============================] - 1s 41ms/step - loss: 0.1103 - acc: 0.9637 - val_loss: 0.3132 - val_acc: 0.8842\n",
            "Epoch 8/20\n",
            "30/30 [==============================] - 1s 41ms/step - loss: 0.0901 - acc: 0.9725 - val_loss: 0.3401 - val_acc: 0.8814\n",
            "Epoch 9/20\n",
            "30/30 [==============================] - 1s 42ms/step - loss: 0.0763 - acc: 0.9785 - val_loss: 0.3756 - val_acc: 0.8722\n",
            "Epoch 10/20\n",
            "30/30 [==============================] - 1s 40ms/step - loss: 0.0645 - acc: 0.9823 - val_loss: 0.3775 - val_acc: 0.8789\n",
            "Epoch 11/20\n",
            "30/30 [==============================] - 2s 52ms/step - loss: 0.0548 - acc: 0.9851 - val_loss: 0.4504 - val_acc: 0.8642\n",
            "Epoch 12/20\n",
            "30/30 [==============================] - 1s 41ms/step - loss: 0.0484 - acc: 0.9869 - val_loss: 0.4202 - val_acc: 0.8759\n",
            "Epoch 13/20\n",
            "30/30 [==============================] - 2s 63ms/step - loss: 0.0400 - acc: 0.9891 - val_loss: 0.4491 - val_acc: 0.8706\n",
            "Epoch 14/20\n",
            "30/30 [==============================] - 1s 49ms/step - loss: 0.0303 - acc: 0.9932 - val_loss: 0.4820 - val_acc: 0.8698\n",
            "Epoch 15/20\n",
            "30/30 [==============================] - 1s 42ms/step - loss: 0.0260 - acc: 0.9939 - val_loss: 0.4979 - val_acc: 0.8737\n",
            "Epoch 16/20\n",
            "30/30 [==============================] - 1s 42ms/step - loss: 0.0252 - acc: 0.9935 - val_loss: 0.5246 - val_acc: 0.8704\n",
            "Epoch 17/20\n",
            "30/30 [==============================] - 1s 42ms/step - loss: 0.0125 - acc: 0.9983 - val_loss: 0.7062 - val_acc: 0.8542\n",
            "Epoch 18/20\n",
            "30/30 [==============================] - 1s 38ms/step - loss: 0.0112 - acc: 0.9983 - val_loss: 0.7522 - val_acc: 0.8529\n",
            "Epoch 19/20\n",
            "30/30 [==============================] - 1s 44ms/step - loss: 0.0116 - acc: 0.9980 - val_loss: 0.6062 - val_acc: 0.8698\n",
            "Epoch 20/20\n",
            "30/30 [==============================] - 1s 39ms/step - loss: 0.0177 - acc: 0.9944 - val_loss: 0.6343 - val_acc: 0.8703\n"
          ]
        }
      ]
    },
    {
      "cell_type": "code",
      "source": [
        "history_dict = history.history\n",
        "history_dict.keys()\n",
        "loss_values = history_dict['loss']\n",
        "val_loss_values = history_dict['val_loss']\n",
        "acc_values = history_dict['acc']\n",
        "epochs = range(1, len(acc_values) + 1)\n",
        "plt.plot(epochs, loss_values, 'bo', label='Training loss')\n",
        "plt.plot(epochs, val_loss_values, 'b', label='Validation loss')\n",
        "plt.title('Training and validation loss')\n",
        "plt.xlabel('Epochs')\n",
        "plt.ylabel('Loss')\n",
        "plt.legend()\n",
        "plt.show()"
      ],
      "metadata": {
        "colab": {
          "base_uri": "https://localhost:8080/",
          "height": 295
        },
        "id": "SFXyvclU1g-7",
        "outputId": "436a39fe-d4bf-46c9-d974-e00a44672bd2"
      },
      "execution_count": null,
      "outputs": [
        {
          "output_type": "display_data",
          "data": {
            "text/plain": [
              "<Figure size 432x288 with 1 Axes>"
            ],
            "image/png": "[encoded data removed]"
          },
          "metadata": {
            "needs_background": "light"
          }
        }
      ]
    },
    {
      "cell_type": "markdown",
      "source": [
        "With 5 hidden units and varying neurons in each layer"
      ],
      "metadata": {
        "id": "TFG1BUkp1_Zu"
      }
    },
    {
      "cell_type": "code",
      "source": [
        "model_3 = models.Sequential()\n",
        "model_3.add(layers.Dense(16, activation='relu', input_shape=(10000,)))\n",
        "model_3.add(layers.Dense(32, activation='relu'))\n",
        "model_3.add(layers.Dense(64, activation='relu'))\n",
        "model_3.add(layers.Dense(128, activation='relu'))\n",
        "model_3.add(layers.Dense(256, activation='relu'))\n",
        "\n",
        "model_3.add(layers.Dense(1, activation='sigmoid'))\n",
        "\n",
        "model_3.compile(optimizer='rmsprop',\n",
        "              loss='binary_crossentropy',\n",
        "              metrics=['acc'])\n",
        "\n",
        "history = model_3.fit(partial_x_train,\n",
        "                    partial_y_train,\n",
        "                    epochs=20,\n",
        "                    batch_size=512,\n",
        "                    validation_data=(x_val, y_val))\n",
        "\n",
        "history_dict = history.history\n",
        "loss_values = history_dict['loss']\n",
        "val_loss_values = history_dict['val_loss']\n",
        "acc_values = history_dict['acc']\n",
        "epochs = range(1, len(acc_values) + 1)\n",
        "plt.plot(epochs, loss_values, 'bo', label='Training loss')\n",
        "plt.plot(epochs, val_loss_values, 'b', label='Validation loss')\n",
        "plt.title('Training and validation loss')\n",
        "plt.xlabel('Epochs')\n",
        "plt.ylabel('Loss')\n",
        "plt.legend()\n",
        "plt.show()"
      ],
      "metadata": {
        "colab": {
          "base_uri": "https://localhost:8080/",
          "height": 1000
        },
        "id": "m_bHVHP52L6k",
        "outputId": "836aa473-4bd9-4f0c-de11-b84041afddad"
      },
      "execution_count": null,
      "outputs": [
        {
          "output_type": "stream",
          "name": "stdout",
          "text": [
            "Epoch 1/20\n",
            "30/30 [==============================] - 4s 76ms/step - loss: 0.5598 - acc: 0.7291 - val_loss: 0.4414 - val_acc: 0.8029\n",
            "Epoch 2/20\n",
            "30/30 [==============================] - 1s 43ms/step - loss: 0.3021 - acc: 0.8829 - val_loss: 0.2888 - val_acc: 0.8847\n",
            "Epoch 3/20\n",
            "30/30 [==============================] - 1s 44ms/step - loss: 0.2120 - acc: 0.9208 - val_loss: 0.2786 - val_acc: 0.8877\n",
            "Epoch 4/20\n",
            "30/30 [==============================] - 1s 43ms/step - loss: 0.1495 - acc: 0.9465 - val_loss: 0.3604 - val_acc: 0.8742\n",
            "Epoch 5/20\n",
            "30/30 [==============================] - 1s 43ms/step - loss: 0.1306 - acc: 0.9523 - val_loss: 0.4043 - val_acc: 0.8729\n",
            "Epoch 6/20\n",
            "30/30 [==============================] - 1s 45ms/step - loss: 0.1167 - acc: 0.9573 - val_loss: 0.3416 - val_acc: 0.8791\n",
            "Epoch 7/20\n",
            "30/30 [==============================] - 2s 64ms/step - loss: 0.0693 - acc: 0.9785 - val_loss: 0.4295 - val_acc: 0.8739\n",
            "Epoch 8/20\n",
            "30/30 [==============================] - 2s 57ms/step - loss: 0.0880 - acc: 0.9766 - val_loss: 0.4298 - val_acc: 0.8755\n",
            "Epoch 9/20\n",
            "30/30 [==============================] - 1s 44ms/step - loss: 0.0185 - acc: 0.9956 - val_loss: 0.6154 - val_acc: 0.8587\n",
            "Epoch 10/20\n",
            "30/30 [==============================] - 1s 44ms/step - loss: 0.0472 - acc: 0.9869 - val_loss: 0.6042 - val_acc: 0.8716\n",
            "Epoch 11/20\n",
            "30/30 [==============================] - 1s 44ms/step - loss: 0.0571 - acc: 0.9881 - val_loss: 0.5840 - val_acc: 0.8703\n",
            "Epoch 12/20\n",
            "30/30 [==============================] - 1s 43ms/step - loss: 0.0038 - acc: 0.9994 - val_loss: 0.7597 - val_acc: 0.8701\n",
            "Epoch 13/20\n",
            "30/30 [==============================] - 1s 46ms/step - loss: 0.0770 - acc: 0.9851 - val_loss: 0.6031 - val_acc: 0.8713\n",
            "Epoch 14/20\n",
            "30/30 [==============================] - 1s 44ms/step - loss: 0.0026 - acc: 0.9998 - val_loss: 0.7206 - val_acc: 0.8718\n",
            "Epoch 15/20\n",
            "30/30 [==============================] - 1s 44ms/step - loss: 7.7756e-04 - acc: 0.9999 - val_loss: 0.8733 - val_acc: 0.8722\n",
            "Epoch 16/20\n",
            "30/30 [==============================] - 2s 67ms/step - loss: 2.9099e-04 - acc: 0.9999 - val_loss: 1.0117 - val_acc: 0.8717\n",
            "Epoch 17/20\n",
            "30/30 [==============================] - 2s 60ms/step - loss: 1.3306e-04 - acc: 0.9999 - val_loss: 1.1161 - val_acc: 0.8714\n",
            "Epoch 18/20\n",
            "30/30 [==============================] - 1s 45ms/step - loss: 9.4351e-05 - acc: 0.9999 - val_loss: 1.2970 - val_acc: 0.8542\n",
            "Epoch 19/20\n",
            "30/30 [==============================] - 1s 45ms/step - loss: 0.1370 - acc: 0.9872 - val_loss: 0.9144 - val_acc: 0.8707\n",
            "Epoch 20/20\n",
            "30/30 [==============================] - 1s 45ms/step - loss: 1.8670e-04 - acc: 1.0000 - val_loss: 0.9475 - val_acc: 0.8712\n"
          ]
        },
        {
          "output_type": "display_data",
          "data": {
            "text/plain": [
              "<Figure size 432x288 with 1 Axes>"
            ],
            "image/png": "[encoded data removed]"
          },
          "metadata": {
            "needs_background": "light"
          }
        }
      ]
    },
    {
      "cell_type": "markdown",
      "source": [
        "Using MSE loss function"
      ],
      "metadata": {
        "id": "9yZq_zFA3II9"
      }
    },
    {
      "cell_type": "code",
      "source": [
        "model_4 = models.Sequential()\n",
        "model_4.add(layers.Dense(16, activation='relu', input_shape=(10000,)))\n",
        "model_4.add(layers.Dense(16, activation='relu'))\n",
        "model_4.add(layers.Dense(1, activation='relu'))\n",
        "\n",
        "model_4.compile(optimizer='rmsprop',\n",
        "              loss='mse',\n",
        "              metrics=['acc'])\n",
        "\n",
        "history = model_4.fit(partial_x_train,\n",
        "                    partial_y_train,\n",
        "                    epochs=20,\n",
        "                    batch_size=512,\n",
        "                    validation_data=(x_val, y_val))\n",
        "\n",
        "history_dict = history.history\n",
        "loss_values = history_dict['loss']\n",
        "val_loss_values = history_dict['val_loss']\n",
        "acc_values = history_dict['acc']\n",
        "epochs = range(1, len(acc_values) + 1)\n",
        "plt.plot(epochs, loss_values, 'bo', label='Training loss')\n",
        "plt.plot(epochs, val_loss_values, 'b', label='Validation loss')\n",
        "plt.title('Training and validation loss')\n",
        "plt.xlabel('Epochs')\n",
        "plt.ylabel('Loss')\n",
        "plt.legend()\n",
        "plt.show()"
      ],
      "metadata": {
        "colab": {
          "base_uri": "https://localhost:8080/",
          "height": 1009
        },
        "id": "9ZwurQFM2z6Q",
        "outputId": "75d42177-314a-46c1-c206-17214789927a"
      },
      "execution_count": null,
      "outputs": [
        {
          "output_type": "stream",
          "name": "stdout",
          "text": [
            "Epoch 1/20\n",
            "30/30 [==============================] - 4s 101ms/step - loss: 0.2007 - acc: 0.7058 - val_loss: 0.1265 - val_acc: 0.8485\n",
            "Epoch 2/20\n",
            "30/30 [==============================] - 1s 39ms/step - loss: 0.1045 - acc: 0.8789 - val_loss: 0.1088 - val_acc: 0.8655\n",
            "Epoch 3/20\n",
            "30/30 [==============================] - 1s 40ms/step - loss: 0.0778 - acc: 0.9143 - val_loss: 0.1176 - val_acc: 0.8422\n",
            "Epoch 4/20\n",
            "30/30 [==============================] - 1s 40ms/step - loss: 0.0639 - acc: 0.9317 - val_loss: 0.1041 - val_acc: 0.8655\n",
            "Epoch 5/20\n",
            "30/30 [==============================] - 1s 38ms/step - loss: 0.0488 - acc: 0.9531 - val_loss: 0.1051 - val_acc: 0.8710\n",
            "Epoch 6/20\n",
            "30/30 [==============================] - 1s 40ms/step - loss: 0.0372 - acc: 0.9684 - val_loss: 0.1194 - val_acc: 0.8466\n",
            "Epoch 7/20\n",
            "30/30 [==============================] - 1s 40ms/step - loss: 0.0315 - acc: 0.9753 - val_loss: 0.1004 - val_acc: 0.8799\n",
            "Epoch 8/20\n",
            "30/30 [==============================] - 1s 37ms/step - loss: 0.0253 - acc: 0.9837 - val_loss: 0.0967 - val_acc: 0.8777\n",
            "Epoch 9/20\n",
            "30/30 [==============================] - 1s 40ms/step - loss: 0.0216 - acc: 0.9867 - val_loss: 0.0981 - val_acc: 0.8776\n",
            "Epoch 10/20\n",
            "30/30 [==============================] - 2s 54ms/step - loss: 0.0172 - acc: 0.9929 - val_loss: 0.1021 - val_acc: 0.8777\n",
            "Epoch 11/20\n",
            "30/30 [==============================] - 2s 53ms/step - loss: 0.0143 - acc: 0.9946 - val_loss: 0.1049 - val_acc: 0.8716\n",
            "Epoch 12/20\n",
            "30/30 [==============================] - 1s 43ms/step - loss: 0.0124 - acc: 0.9958 - val_loss: 0.1061 - val_acc: 0.8758\n",
            "Epoch 13/20\n",
            "30/30 [==============================] - 1s 37ms/step - loss: 0.0116 - acc: 0.9973 - val_loss: 0.1037 - val_acc: 0.8739\n",
            "Epoch 14/20\n",
            "30/30 [==============================] - 1s 37ms/step - loss: 0.0089 - acc: 0.9975 - val_loss: 0.1218 - val_acc: 0.8538\n",
            "Epoch 15/20\n",
            "30/30 [==============================] - 1s 40ms/step - loss: 0.0086 - acc: 0.9981 - val_loss: 0.1079 - val_acc: 0.8671\n",
            "Epoch 16/20\n",
            "30/30 [==============================] - 1s 41ms/step - loss: 0.0083 - acc: 0.9984 - val_loss: 0.1039 - val_acc: 0.8705\n",
            "Epoch 17/20\n",
            "30/30 [==============================] - 1s 41ms/step - loss: 0.0068 - acc: 0.9987 - val_loss: 0.1318 - val_acc: 0.8408\n",
            "Epoch 18/20\n",
            "30/30 [==============================] - 1s 39ms/step - loss: 0.0074 - acc: 0.9977 - val_loss: 0.1081 - val_acc: 0.8664\n",
            "Epoch 19/20\n",
            "30/30 [==============================] - 1s 38ms/step - loss: 0.0076 - acc: 0.9981 - val_loss: 0.1167 - val_acc: 0.8578\n",
            "Epoch 20/20\n",
            "30/30 [==============================] - 1s 50ms/step - loss: 0.0048 - acc: 0.9991 - val_loss: 0.1097 - val_acc: 0.8657\n"
          ]
        },
        {
          "output_type": "display_data",
          "data": {
            "text/plain": [
              "<Figure size 432x288 with 1 Axes>"
            ],
            "image/png": "[encoded data removed]"
          },
          "metadata": {
            "needs_background": "light"
          }
        }
      ]
    },
    {
      "cell_type": "markdown",
      "source": [
        "Using tanh activation function"
      ],
      "metadata": {
        "id": "NvnYRDQk58u7"
      }
    },
    {
      "cell_type": "code",
      "source": [
        "model_4 = models.Sequential()\n",
        "model_4.add(layers.Dense(16, activation='tanh', input_shape=(10000,)))\n",
        "model_4.add(layers.Dense(16, activation='tanh'))\n",
        "model_4.add(layers.Dense(1, activation='tanh'))\n",
        "\n",
        "model_4.compile(optimizer='rmsprop',\n",
        "              loss='mse',\n",
        "              metrics=['acc'])\n",
        "\n",
        "history = model_4.fit(partial_x_train,\n",
        "                    partial_y_train,\n",
        "                    epochs=20,\n",
        "                    batch_size=512,\n",
        "                    validation_data=(x_val, y_val))\n",
        "\n",
        "history_dict = history.history\n",
        "loss_values = history_dict['loss']\n",
        "val_loss_values = history_dict['val_loss']\n",
        "acc_values = history_dict['acc']\n",
        "epochs = range(1, len(acc_values) + 1)\n",
        "plt.plot(epochs, loss_values, 'bo', label='Training loss')\n",
        "plt.plot(epochs, val_loss_values, 'b', label='Validation loss')\n",
        "plt.title('Training and validation loss')\n",
        "plt.xlabel('Epochs')\n",
        "plt.ylabel('Loss')\n",
        "plt.legend()\n",
        "plt.show()"
      ],
      "metadata": {
        "colab": {
          "base_uri": "https://localhost:8080/",
          "height": 1009
        },
        "id": "7-fUYuqr4RCe",
        "outputId": "f85f0d68-1ae5-40e8-fde0-8f917f26b7e2"
      },
      "execution_count": null,
      "outputs": [
        {
          "output_type": "stream",
          "name": "stdout",
          "text": [
            "Epoch 1/20\n",
            "30/30 [==============================] - 4s 113ms/step - loss: 0.2106 - acc: 0.7075 - val_loss: 0.1331 - val_acc: 0.8308\n",
            "Epoch 2/20\n",
            "30/30 [==============================] - 3s 88ms/step - loss: 0.1185 - acc: 0.8655 - val_loss: 0.1148 - val_acc: 0.8605\n",
            "Epoch 3/20\n",
            "30/30 [==============================] - 2s 52ms/step - loss: 0.0946 - acc: 0.9029 - val_loss: 0.1216 - val_acc: 0.8315\n",
            "Epoch 4/20\n",
            "30/30 [==============================] - 1s 40ms/step - loss: 0.0770 - acc: 0.9243 - val_loss: 0.1136 - val_acc: 0.8725\n",
            "Epoch 5/20\n",
            "30/30 [==============================] - 1s 40ms/step - loss: 0.0689 - acc: 0.9313 - val_loss: 0.1141 - val_acc: 0.8677\n",
            "Epoch 6/20\n",
            "30/30 [==============================] - 1s 39ms/step - loss: 0.0606 - acc: 0.9429 - val_loss: 0.1006 - val_acc: 0.8741\n",
            "Epoch 7/20\n",
            "30/30 [==============================] - 1s 38ms/step - loss: 0.0526 - acc: 0.9524 - val_loss: 0.0950 - val_acc: 0.8789\n",
            "Epoch 8/20\n",
            "30/30 [==============================] - 1s 40ms/step - loss: 0.0460 - acc: 0.9597 - val_loss: 0.0928 - val_acc: 0.8821\n",
            "Epoch 9/20\n",
            "30/30 [==============================] - 1s 41ms/step - loss: 0.0416 - acc: 0.9624 - val_loss: 0.0930 - val_acc: 0.8786\n",
            "Epoch 10/20\n",
            "30/30 [==============================] - 1s 42ms/step - loss: 0.0368 - acc: 0.9684 - val_loss: 0.0915 - val_acc: 0.8826\n",
            "Epoch 11/20\n",
            "30/30 [==============================] - 2s 64ms/step - loss: 0.0334 - acc: 0.9711 - val_loss: 0.0973 - val_acc: 0.8789\n",
            "Epoch 12/20\n",
            "30/30 [==============================] - 1s 48ms/step - loss: 0.0284 - acc: 0.9777 - val_loss: 0.1014 - val_acc: 0.8750\n",
            "Epoch 13/20\n",
            "30/30 [==============================] - 1s 40ms/step - loss: 0.0274 - acc: 0.9805 - val_loss: 0.0978 - val_acc: 0.8764\n",
            "Epoch 14/20\n",
            "30/30 [==============================] - 1s 38ms/step - loss: 0.0247 - acc: 0.9815 - val_loss: 0.0957 - val_acc: 0.8751\n",
            "Epoch 15/20\n",
            "30/30 [==============================] - 1s 40ms/step - loss: 0.0208 - acc: 0.9859 - val_loss: 0.0959 - val_acc: 0.8775\n",
            "Epoch 16/20\n",
            "30/30 [==============================] - 1s 40ms/step - loss: 0.0192 - acc: 0.9878 - val_loss: 0.1000 - val_acc: 0.8757\n",
            "Epoch 17/20\n",
            "30/30 [==============================] - 1s 40ms/step - loss: 0.0191 - acc: 0.9885 - val_loss: 0.1200 - val_acc: 0.8596\n",
            "Epoch 18/20\n",
            "30/30 [==============================] - 1s 39ms/step - loss: 0.0164 - acc: 0.9889 - val_loss: 0.0976 - val_acc: 0.8764\n",
            "Epoch 19/20\n",
            "30/30 [==============================] - 1s 38ms/step - loss: 0.0160 - acc: 0.9913 - val_loss: 0.0977 - val_acc: 0.8762\n",
            "Epoch 20/20\n",
            "30/30 [==============================] - 1s 40ms/step - loss: 0.0135 - acc: 0.9921 - val_loss: 0.1010 - val_acc: 0.8766\n"
          ]
        },
        {
          "output_type": "display_data",
          "data": {
            "text/plain": [
              "<Figure size 432x288 with 1 Axes>"
            ],
            "image/png": "[encoded data removed]"
          },
          "metadata": {
            "needs_background": "light"
          }
        }
      ]
    },
    {
      "cell_type": "markdown",
      "source": [
        "Observation from Task1:\n",
        "Compare the different compiler setups\n",
        "\n"
      ],
      "metadata": {
        "id": "G9RiSgC06mQu"
      }
    },
    {
      "cell_type": "markdown",
      "source": [
        "\n",
        "When I initially used only one hidden layer, I observed that the model had low bias but high variance, indicating that it performed well on the training data but poorly on the test data. To address this, I increased the number of hidden layers to three with equal neurons per layer, but this did not overcome the bias-variance tradeoff. Subsequently, I tried a Neural Network with 5 hidden layers, and while the training loss continued to decrease, the validation loss started increasing, indicating that the model was overfitting the training data and showing an unusual nature in the testing dataset. This may have been due to the limited dataset used during the training process since only partial data from the entire dataset was utilized.\n",
        "\n",
        "Furthermore, when I compared using mse as a loss function with relu activation and mse loss function with tanh activation, I observed slightly better performance in the second case."
      ],
      "metadata": {
        "id": "__3it2LJ6rNC"
      }
    },
    {
      "cell_type": "markdown",
      "source": [
        "Part 2:  Examine the impact of regularization and dropout."
      ],
      "metadata": {
        "id": "2XZqxwR4CtkH"
      }
    },
    {
      "cell_type": "markdown",
      "source": [
        "Use the python scripts with fashion_mnist data in HW 3 and testify the impact of adding or without adding the regularization and the impact of adding or without adding the dropout."
      ],
      "metadata": {
        "id": "T-DorCMgDUav"
      }
    },
    {
      "cell_type": "markdown",
      "source": [
        "Task 1: add the regularization  \n",
        "\n"
      ],
      "metadata": {
        "id": "zzCAfsM6DYdl"
      }
    },
    {
      "cell_type": "code",
      "source": [
        "from keras.datasets import fashion_mnist\n",
        "from keras.utils import np_utils\n",
        "from keras import regularizers\n",
        "\n",
        "seed = 7\n",
        "np.random.seed(seed)\n",
        "\n",
        "# load data\n",
        "(X_train, y_train), (X_test, y_test) = fashion_mnist.load_data()\n",
        "\n",
        "# flatten 28*28 images to a 784 vector for each image\n",
        "num_pixels = X_train.shape[1] * X_train.shape[2]\n",
        "X_train = X_train.reshape(X_train.shape[0], num_pixels).astype('float32')\n",
        "X_test = X_test.reshape(X_test.shape[0], num_pixels).astype('float32')\n",
        "\n",
        "# normalize inputs from 0-255 to 0-1\n",
        "X_train = X_train / 255\n",
        "X_test = X_test / 255\n",
        "\n",
        "# one hot encode outputs\n",
        "y_train = np_utils.to_categorical(y_train)\n",
        "y_test = np_utils.to_categorical(y_test)\n",
        "num_classes = y_test.shape[1]"
      ],
      "metadata": {
        "colab": {
          "base_uri": "https://localhost:8080/"
        },
        "id": "Gu6kwyls6Tej",
        "outputId": "43276215-ab69-4609-aeb9-7fabff28e417"
      },
      "execution_count": null,
      "outputs": [
        {
          "output_type": "stream",
          "name": "stdout",
          "text": [
            "Downloading data from https://storage.googleapis.com/tensorflow/tf-keras-datasets/train-labels-idx1-ubyte.gz\n",
            "29515/29515 [==============================] - 0s 0us/step\n",
            "Downloading data from https://storage.googleapis.com/tensorflow/tf-keras-datasets/train-images-idx3-ubyte.gz\n",
            "26421880/26421880 [==============================] - 0s 0us/step\n",
            "Downloading data from https://storage.googleapis.com/tensorflow/tf-keras-datasets/t10k-labels-idx1-ubyte.gz\n",
            "5148/5148 [==============================] - 0s 0us/step\n",
            "Downloading data from https://storage.googleapis.com/tensorflow/tf-keras-datasets/t10k-images-idx3-ubyte.gz\n",
            "4422102/4422102 [==============================] - 0s 0us/step\n"
          ]
        }
      ]
    },
    {
      "cell_type": "markdown",
      "source": [
        "Task 1: Adding Regularizer"
      ],
      "metadata": {
        "id": "IqiK08SED_25"
      }
    },
    {
      "cell_type": "code",
      "source": [
        "network = models.Sequential()\n",
        "network.add(layers.Dense(512, kernel_regularizer=regularizers.l2(0.001), activation='relu', input_shape=(28 * 28,)))\n",
        "network.add(layers.Dense(10, activation='softmax'))\n",
        "\n",
        "network.compile(optimizer='rmsprop',\n",
        "              loss='mse',\n",
        "              metrics=['acc'])\n",
        "\n",
        "history = network.fit(X_train,\n",
        "                    y_train,\n",
        "                    epochs=20,\n",
        "                    batch_size=512,\n",
        "                    validation_data=(X_test, y_test))\n",
        "\n",
        "history_dict = history.history\n",
        "\n",
        "loss_values = history_dict['loss']\n",
        "val_loss_values = history_dict['val_loss']\n",
        "acc_values = history_dict['acc']\n",
        "\n",
        "epochs = range(1, len(acc_values) + 1)\n",
        "plt.plot(epochs, loss_values, 'bo', label='Training loss')\n",
        "plt.plot(epochs, val_loss_values, 'b', label='Validation loss')\n",
        "plt.title('Training and validation loss')\n",
        "plt.xlabel('Epochs')\n",
        "plt.ylabel('Loss')\n",
        "plt.legend()\n",
        "plt.show()"
      ],
      "metadata": {
        "colab": {
          "base_uri": "https://localhost:8080/",
          "height": 1009
        },
        "id": "vrw9a74eDwoi",
        "outputId": "8bb19d70-ea9d-4bc0-d71e-6d22fadd200a"
      },
      "execution_count": null,
      "outputs": [
        {
          "output_type": "stream",
          "name": "stdout",
          "text": [
            "Epoch 1/20\n",
            "118/118 [==============================] - 4s 28ms/step - loss: 0.3808 - acc: 0.7090 - val_loss: 0.1925 - val_acc: 0.7567\n",
            "Epoch 2/20\n",
            "118/118 [==============================] - 3s 27ms/step - loss: 0.1199 - acc: 0.7835 - val_loss: 0.0755 - val_acc: 0.7767\n",
            "Epoch 3/20\n",
            "118/118 [==============================] - 4s 32ms/step - loss: 0.0569 - acc: 0.7934 - val_loss: 0.0556 - val_acc: 0.7304\n",
            "Epoch 4/20\n",
            "118/118 [==============================] - 3s 24ms/step - loss: 0.0416 - acc: 0.7928 - val_loss: 0.0457 - val_acc: 0.7329\n",
            "Epoch 5/20\n",
            "118/118 [==============================] - 3s 25ms/step - loss: 0.0371 - acc: 0.7956 - val_loss: 0.0439 - val_acc: 0.7459\n",
            "Epoch 6/20\n",
            "118/118 [==============================] - 3s 26ms/step - loss: 0.0366 - acc: 0.7919 - val_loss: 0.0402 - val_acc: 0.7550\n",
            "Epoch 7/20\n",
            "118/118 [==============================] - 4s 33ms/step - loss: 0.0359 - acc: 0.7933 - val_loss: 0.0455 - val_acc: 0.7263\n",
            "Epoch 8/20\n",
            "118/118 [==============================] - 3s 24ms/step - loss: 0.0357 - acc: 0.7939 - val_loss: 0.0354 - val_acc: 0.7954\n",
            "Epoch 9/20\n",
            "118/118 [==============================] - 3s 24ms/step - loss: 0.0357 - acc: 0.7923 - val_loss: 0.0478 - val_acc: 0.7148\n",
            "Epoch 10/20\n",
            "118/118 [==============================] - 3s 26ms/step - loss: 0.0350 - acc: 0.7971 - val_loss: 0.0499 - val_acc: 0.6624\n",
            "Epoch 11/20\n",
            "118/118 [==============================] - 4s 33ms/step - loss: 0.0349 - acc: 0.7987 - val_loss: 0.0471 - val_acc: 0.7012\n",
            "Epoch 12/20\n",
            "118/118 [==============================] - 3s 25ms/step - loss: 0.0347 - acc: 0.8003 - val_loss: 0.0350 - val_acc: 0.7982\n",
            "Epoch 13/20\n",
            "118/118 [==============================] - 3s 24ms/step - loss: 0.0346 - acc: 0.7990 - val_loss: 0.0443 - val_acc: 0.7339\n",
            "Epoch 14/20\n",
            "118/118 [==============================] - 3s 25ms/step - loss: 0.0346 - acc: 0.7980 - val_loss: 0.0431 - val_acc: 0.7366\n",
            "Epoch 15/20\n",
            "118/118 [==============================] - 4s 34ms/step - loss: 0.0344 - acc: 0.8005 - val_loss: 0.0479 - val_acc: 0.6782\n",
            "Epoch 16/20\n",
            "118/118 [==============================] - 3s 25ms/step - loss: 0.0343 - acc: 0.8009 - val_loss: 0.0437 - val_acc: 0.7150\n",
            "Epoch 17/20\n",
            "118/118 [==============================] - 3s 26ms/step - loss: 0.0342 - acc: 0.8014 - val_loss: 0.0405 - val_acc: 0.7529\n",
            "Epoch 18/20\n",
            "118/118 [==============================] - 3s 25ms/step - loss: 0.0337 - acc: 0.8054 - val_loss: 0.0365 - val_acc: 0.7837\n",
            "Epoch 19/20\n",
            "118/118 [==============================] - 4s 34ms/step - loss: 0.0333 - acc: 0.8071 - val_loss: 0.0375 - val_acc: 0.7701\n",
            "Epoch 20/20\n",
            "118/118 [==============================] - 3s 26ms/step - loss: 0.0350 - acc: 0.7955 - val_loss: 0.0383 - val_acc: 0.7653\n"
          ]
        },
        {
          "output_type": "display_data",
          "data": {
            "text/plain": [
              "<Figure size 432x288 with 1 Axes>"
            ],
            "image/png": "[encoded data removed]"
          },
          "metadata": {
            "needs_background": "light"
          }
        }
      ]
    },
    {
      "cell_type": "markdown",
      "source": [
        "Task 2: Adding Dropout"
      ],
      "metadata": {
        "id": "IpjYCa8cE5bd"
      }
    },
    {
      "cell_type": "code",
      "source": [
        "network_dropout = models.Sequential()\n",
        "network_dropout.add(layers.Dense(512, activation='relu', input_shape=(28 * 28,)))\n",
        "network_dropout.add(layers.Dropout(0.5))\n",
        "network_dropout.add(layers.Dense(10, activation='softmax'))\n",
        "\n",
        "\n",
        "network_dropout.compile(optimizer='rmsprop',\n",
        "              loss='mse',\n",
        "              metrics=['acc'])\n",
        "\n",
        "history = network_dropout.fit(X_train,\n",
        "                    y_train,\n",
        "                    epochs=20,\n",
        "                    batch_size=512,\n",
        "                    validation_data=(X_test, y_test))\n",
        "\n",
        "history_dict = history.history\n",
        "loss_values = history_dict['loss']\n",
        "val_loss_values = history_dict['val_loss']\n",
        "acc_values = history_dict['acc']\n",
        "\n",
        "epochs = range(1, len(acc_values) + 1)\n",
        "plt.plot(epochs, loss_values, 'bo', label='Training loss')\n",
        "plt.plot(epochs, val_loss_values, 'b', label='Validation loss')\n",
        "plt.title('Training and validation loss')\n",
        "plt.xlabel('Epochs')\n",
        "plt.ylabel('Loss')\n",
        "plt.legend()\n",
        "plt.show()"
      ],
      "metadata": {
        "colab": {
          "base_uri": "https://localhost:8080/",
          "height": 1009
        },
        "id": "BHFK3wLDEY54",
        "outputId": "2e05c985-16b1-4bd9-86a8-dd7b1cfecaba"
      },
      "execution_count": null,
      "outputs": [
        {
          "output_type": "stream",
          "name": "stdout",
          "text": [
            "Epoch 1/20\n",
            "118/118 [==============================] - 5s 31ms/step - loss: 0.0426 - acc: 0.7023 - val_loss: 0.0323 - val_acc: 0.7806\n",
            "Epoch 2/20\n",
            "118/118 [==============================] - 5s 39ms/step - loss: 0.0298 - acc: 0.7991 - val_loss: 0.0288 - val_acc: 0.8013\n",
            "Epoch 3/20\n",
            "118/118 [==============================] - 3s 29ms/step - loss: 0.0266 - acc: 0.8195 - val_loss: 0.0261 - val_acc: 0.8199\n",
            "Epoch 4/20\n",
            "118/118 [==============================] - 3s 29ms/step - loss: 0.0248 - acc: 0.8316 - val_loss: 0.0257 - val_acc: 0.8222\n",
            "Epoch 5/20\n",
            "118/118 [==============================] - 4s 36ms/step - loss: 0.0238 - acc: 0.8381 - val_loss: 0.0253 - val_acc: 0.8231\n",
            "Epoch 6/20\n",
            "118/118 [==============================] - 4s 30ms/step - loss: 0.0226 - acc: 0.8475 - val_loss: 0.0230 - val_acc: 0.8434\n",
            "Epoch 7/20\n",
            "118/118 [==============================] - 3s 28ms/step - loss: 0.0221 - acc: 0.8495 - val_loss: 0.0239 - val_acc: 0.8358\n",
            "Epoch 8/20\n",
            "118/118 [==============================] - 3s 29ms/step - loss: 0.0213 - acc: 0.8544 - val_loss: 0.0228 - val_acc: 0.8394\n",
            "Epoch 9/20\n",
            "118/118 [==============================] - 5s 40ms/step - loss: 0.0207 - acc: 0.8583 - val_loss: 0.0266 - val_acc: 0.8070\n",
            "Epoch 10/20\n",
            "118/118 [==============================] - 3s 30ms/step - loss: 0.0204 - acc: 0.8612 - val_loss: 0.0272 - val_acc: 0.8031\n",
            "Epoch 11/20\n",
            "118/118 [==============================] - 4s 30ms/step - loss: 0.0201 - acc: 0.8639 - val_loss: 0.0211 - val_acc: 0.8537\n",
            "Epoch 12/20\n",
            "118/118 [==============================] - 4s 36ms/step - loss: 0.0196 - acc: 0.8660 - val_loss: 0.0212 - val_acc: 0.8516\n",
            "Epoch 13/20\n",
            "118/118 [==============================] - 3s 29ms/step - loss: 0.0194 - acc: 0.8687 - val_loss: 0.0210 - val_acc: 0.8548\n",
            "Epoch 14/20\n",
            "118/118 [==============================] - 3s 29ms/step - loss: 0.0188 - acc: 0.8717 - val_loss: 0.0200 - val_acc: 0.8629\n",
            "Epoch 15/20\n",
            "118/118 [==============================] - 3s 29ms/step - loss: 0.0187 - acc: 0.8736 - val_loss: 0.0202 - val_acc: 0.8580\n",
            "Epoch 16/20\n",
            "118/118 [==============================] - 8s 67ms/step - loss: 0.0185 - acc: 0.8748 - val_loss: 0.0211 - val_acc: 0.8510\n",
            "Epoch 17/20\n",
            "118/118 [==============================] - 4s 30ms/step - loss: 0.0181 - acc: 0.8775 - val_loss: 0.0217 - val_acc: 0.8466\n",
            "Epoch 18/20\n",
            "118/118 [==============================] - 4s 37ms/step - loss: 0.0180 - acc: 0.8782 - val_loss: 0.0202 - val_acc: 0.8597\n",
            "Epoch 19/20\n",
            "118/118 [==============================] - 4s 31ms/step - loss: 0.0177 - acc: 0.8794 - val_loss: 0.0214 - val_acc: 0.8512\n",
            "Epoch 20/20\n",
            "118/118 [==============================] - 3s 28ms/step - loss: 0.0175 - acc: 0.8815 - val_loss: 0.0195 - val_acc: 0.8656\n"
          ]
        },
        {
          "output_type": "display_data",
          "data": {
            "text/plain": [
              "<Figure size 432x288 with 1 Axes>"
            ],
            "image/png": "[encoded data removed]"
          },
          "metadata": {
            "needs_background": "light"
          }
        }
      ]
    },
    {
      "cell_type": "markdown",
      "source": [
        "Now Adding both Regularizer and Dropout"
      ],
      "metadata": {
        "id": "H0-7w8piFyaE"
      }
    },
    {
      "cell_type": "code",
      "source": [
        "network_dropout_regularizer = models.Sequential()\n",
        "network_dropout_regularizer.add(layers.Dense(256, kernel_regularizer=regularizers.l2(0.01), activation='relu', input_shape=(28 * 28,)))\n",
        "network_dropout_regularizer.add(layers.Dropout(0.4))\n",
        "network_dropout_regularizer.add(layers.Dense(512, kernel_regularizer=regularizers.l2(0.01), activation='relu', input_shape=(28 * 28,)))\n",
        "network_dropout_regularizer.add(layers.Dropout(0.4))\n",
        "\n",
        "network_dropout_regularizer.add(layers.Dense(10, activation='softmax'))\n",
        "\n",
        "\n",
        "network_dropout_regularizer.compile(optimizer='rmsprop',\n",
        "              loss='mse',\n",
        "              metrics=['acc'])\n",
        "\n",
        "history = network_dropout_regularizer.fit(X_train,\n",
        "                    y_train,\n",
        "                    epochs=20,\n",
        "                    batch_size=512,\n",
        "                    validation_data=(X_test, y_test))\n",
        "\n",
        "history_dict = history.history\n",
        "\n",
        "loss_values = history_dict['loss']\n",
        "val_loss_values = history_dict['val_loss']\n",
        "acc_values = history_dict['acc']\n",
        "\n",
        "epochs = range(1, len(acc_values) + 1)\n",
        "plt.plot(epochs, loss_values, 'bo', label='Training loss')\n",
        "plt.plot(epochs, val_loss_values, 'b', label='Validation loss')\n",
        "plt.title('Training and validation loss')\n",
        "plt.xlabel('Epochs')\n",
        "plt.ylabel('Loss')\n",
        "plt.legend()\n",
        "plt.show()"
      ],
      "metadata": {
        "colab": {
          "base_uri": "https://localhost:8080/",
          "height": 1009
        },
        "id": "owvgIvmoFF4E",
        "outputId": "493b6276-fdf6-4a43-964e-cd3fe4158546"
      },
      "execution_count": null,
      "outputs": [
        {
          "output_type": "stream",
          "name": "stdout",
          "text": [
            "Epoch 1/20\n",
            "118/118 [==============================] - 6s 34ms/step - loss: 1.2913 - acc: 0.2863 - val_loss: 0.0875 - val_acc: 0.3186\n",
            "Epoch 2/20\n",
            "118/118 [==============================] - 4s 35ms/step - loss: 0.0851 - acc: 0.3497 - val_loss: 0.0829 - val_acc: 0.3750\n",
            "Epoch 3/20\n",
            "118/118 [==============================] - 5s 41ms/step - loss: 0.0825 - acc: 0.4111 - val_loss: 0.0802 - val_acc: 0.4679\n",
            "Epoch 4/20\n",
            "118/118 [==============================] - 4s 31ms/step - loss: 0.0809 - acc: 0.4352 - val_loss: 0.0871 - val_acc: 0.3211\n",
            "Epoch 5/20\n",
            "118/118 [==============================] - 4s 30ms/step - loss: 0.0799 - acc: 0.4492 - val_loss: 0.0775 - val_acc: 0.4313\n",
            "Epoch 6/20\n",
            "118/118 [==============================] - 5s 40ms/step - loss: 0.0785 - acc: 0.4704 - val_loss: 0.0796 - val_acc: 0.4568\n",
            "Epoch 7/20\n",
            "118/118 [==============================] - 4s 30ms/step - loss: 0.0779 - acc: 0.4790 - val_loss: 0.0740 - val_acc: 0.5892\n",
            "Epoch 8/20\n",
            "118/118 [==============================] - 4s 32ms/step - loss: 0.0773 - acc: 0.4895 - val_loss: 0.0710 - val_acc: 0.5299\n",
            "Epoch 9/20\n",
            "118/118 [==============================] - 5s 40ms/step - loss: 0.0771 - acc: 0.4922 - val_loss: 0.0749 - val_acc: 0.4877\n",
            "Epoch 10/20\n",
            "118/118 [==============================] - 4s 31ms/step - loss: 0.0762 - acc: 0.5079 - val_loss: 0.0724 - val_acc: 0.5547\n",
            "Epoch 11/20\n",
            "118/118 [==============================] - 4s 32ms/step - loss: 0.0753 - acc: 0.5169 - val_loss: 0.0719 - val_acc: 0.6000\n",
            "Epoch 12/20\n",
            "118/118 [==============================] - 4s 37ms/step - loss: 0.0752 - acc: 0.5254 - val_loss: 0.0791 - val_acc: 0.4974\n",
            "Epoch 13/20\n",
            "118/118 [==============================] - 4s 38ms/step - loss: 0.0749 - acc: 0.5293 - val_loss: 0.0764 - val_acc: 0.5755\n",
            "Epoch 14/20\n",
            "118/118 [==============================] - 4s 33ms/step - loss: 0.0743 - acc: 0.5422 - val_loss: 0.0695 - val_acc: 0.5953\n",
            "Epoch 15/20\n",
            "118/118 [==============================] - 4s 34ms/step - loss: 0.0736 - acc: 0.5459 - val_loss: 0.0705 - val_acc: 0.6066\n",
            "Epoch 16/20\n",
            "118/118 [==============================] - 5s 39ms/step - loss: 0.0734 - acc: 0.5528 - val_loss: 0.0949 - val_acc: 0.4197\n",
            "Epoch 17/20\n",
            "118/118 [==============================] - 4s 32ms/step - loss: 0.0731 - acc: 0.5587 - val_loss: 0.0654 - val_acc: 0.6320\n",
            "Epoch 18/20\n",
            "118/118 [==============================] - 4s 31ms/step - loss: 0.0726 - acc: 0.5586 - val_loss: 0.0656 - val_acc: 0.6415\n",
            "Epoch 19/20\n",
            "118/118 [==============================] - 5s 42ms/step - loss: 0.0718 - acc: 0.5684 - val_loss: 0.0689 - val_acc: 0.6057\n",
            "Epoch 20/20\n",
            "118/118 [==============================] - 4s 31ms/step - loss: 0.0720 - acc: 0.5637 - val_loss: 0.0691 - val_acc: 0.5834\n"
          ]
        },
        {
          "output_type": "display_data",
          "data": {
            "text/plain": [
              "<Figure size 432x288 with 1 Axes>"
            ],
            "image/png": "[encoded data removed]"
          },
          "metadata": {
            "needs_background": "light"
          }
        }
      ]
    },
    {
      "cell_type": "markdown",
      "source": [
        "Part 2:  Examine the impact of regularization and dropout.\n",
        "\n",
        "\n"
      ],
      "metadata": {
        "id": "Vbyu_8LXIqGZ"
      }
    },
    {
      "cell_type": "markdown",
      "source": [
        "Observation:"
      ],
      "metadata": {
        "id": "-KuBckhwI6Zl"
      }
    },
    {
      "cell_type": "markdown",
      "source": [
        "By incorporating regularizers into the layer, it is possible to improve the balance between bias and variance. I assessed the performance of the Neural Network with three different techniques: L2 regularizer, dropout, and a combination of dropout and L2 regularizer. The model with L2 regularizer exhibited good performance in terms of accuracy on the testing dataset compared to the model without any regularization. Moreover, the addition of dropout helped to mitigate the bias-variance tradeoff. The combination of dropout and L2 regularization shows the best technique in minimizing the bias-variance tradeoff and any overfitting issues in my customized network with tuning parameters."
      ],
      "metadata": {
        "id": "N_n1KrjyJA-K"
      }
    },
    {
      "cell_type": "code",
      "source": [],
      "metadata": {
        "id": "TnLjOE8AHgJL"
      },
      "execution_count": null,
      "outputs": []
    }
  ],
  "metadata": {
    "kernelspec": {
      "display_name": "Python 3",
      "language": "python",
      "name": "python3"
    },
    "language_info": {
      "codemirror_mode": {
        "name": "ipython",
        "version": 3
      },
      "file_extension": ".py",
      "mimetype": "text/x-python",
      "name": "python",
      "nbconvert_exporter": "python",
      "pygments_lexer": "ipython3",
      "version": "3.6.4"
    },
    "colab": {
      "provenance": []
    }
  },
  "nbformat": 4,
  "nbformat_minor": 0
}