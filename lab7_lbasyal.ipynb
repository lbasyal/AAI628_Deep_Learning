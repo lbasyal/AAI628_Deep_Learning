{
  "nbformat": 4,
  "nbformat_minor": 0,
  "metadata": {
    "colab": {
      "provenance": []
    },
    "kernelspec": {
      "name": "python3",
      "display_name": "Python 3"
    },
    "language_info": {
      "name": "python"
    }
  },
  "cells": [
    {
      "cell_type": "markdown",
      "source": [
        "Homework_7 Lochan Basyal"
      ],
      "metadata": {
        "id": "CZ4wAo_KZTUT"
      }
    },
    {
      "cell_type": "markdown",
      "source": [
        "Construct your own ResNet:  Write your own code in the below yellow-lines."
      ],
      "metadata": {
        "id": "uYgaEH3-ZRSZ"
      }
    },
    {
      "cell_type": "code",
      "source": [
        "import warnings\n",
        "warnings.filterwarnings('ignore')"
      ],
      "metadata": {
        "id": "rqpdlB41ZSwf"
      },
      "execution_count": null,
      "outputs": []
    },
    {
      "cell_type": "code",
      "source": [
        "import tensorflow as tf\n",
        "from tensorflow.keras.layers import Input, Flatten, Add, Conv2D, Dense, MaxPooling2D, AveragePooling2D, BatchNormalization, Activation, ZeroPadding2D\n",
        "from tensorflow.keras.datasets import mnist\n",
        "from tensorflow.keras.optimizers import Adam\n",
        "from tensorflow.keras.preprocessing.image import ImageDataGenerator"
      ],
      "metadata": {
        "id": "87M6C5j--e_u"
      },
      "execution_count": null,
      "outputs": []
    },
    {
      "cell_type": "code",
      "source": [
        "from tensorflow.keras.datasets import cifar10\n",
        "(x_train, y_train), (x_test, y_test) = cifar10.load_data()\n",
        "\n",
        "print(\"Train Samples: \", x_train.shape, y_train.shape)\n",
        "print(\"Test Samples: \", x_test.shape, y_test.shape)"
      ],
      "metadata": {
        "colab": {
          "base_uri": "https://localhost:8080/"
        },
        "id": "Sn5sppkV-hLX",
        "outputId": "7bb7bb9f-231a-4b71-c674-25bd6d05aa53"
      },
      "execution_count": null,
      "outputs": [
        {
          "output_type": "stream",
          "name": "stdout",
          "text": [
            "Downloading data from https://www.cs.toronto.edu/~kriz/cifar-10-python.tar.gz\n",
            "170498071/170498071 [==============================] - 12s 0us/step\n",
            "Train Samples:  (50000, 32, 32, 3) (50000, 1)\n",
            "Test Samples:  (10000, 32, 32, 3) (10000, 1)\n"
          ]
        }
      ]
    },
    {
      "cell_type": "code",
      "source": [
        "classes = 10"
      ],
      "metadata": {
        "id": "VbPt6Znk-pRH"
      },
      "execution_count": null,
      "outputs": []
    },
    {
      "cell_type": "code",
      "source": [
        "# Define the input as a tensor with shape input_shape\n",
        "\n",
        "X_input = Input(x_train.shape[1:])\n",
        "\n",
        "# ZeroPadding\n",
        "\n",
        "X = ZeroPadding2D((3,3))(X_input)\n",
        "\n",
        "# Stage 1\n",
        "\n",
        "X = Conv2D(64, (7,7), strides=(2,2), name='conv1', kernel_initializer=tf.initializers.GlorotUniform(seed=0))(X)\n",
        "X = BatchNormalization(axis=3, name='bn_conv1')(X)\n",
        "X = Activation('relu')(X)\n",
        "X = MaxPooling2D((3,3), strides=(2,2))(X)\n",
        "\n",
        "# Stage 2 for ResNet\n",
        "# Save the input value. You'll need this later to add back to the main path.\n",
        "X_shortcut = X\n",
        "\n",
        "X = ZeroPadding2D(padding=(1,1), data_format=None)(X)\n",
        "X = Conv2D(64, (3,3), strides=(1,1), name='conv2', kernel_initializer=tf.initializers.GlorotUniform(seed=0))(X)\n",
        "X = BatchNormalization(axis=3, name='bn_conv2')(X)\n",
        "\n",
        "# Add X_shortcut before doing final activation\n",
        "X = Add()([X, X_shortcut])\n",
        "X = Activation('relu')(X)\n",
        "\n",
        "X = Flatten()(X)\n",
        "X = Dense(classes, activation='softmax', name='fc'+str(classes),\n",
        "          kernel_initializer=tf.initializers.GlorotUniform(seed=0))(X)"
      ],
      "metadata": {
        "id": "ki6ULXJKA3yM"
      },
      "execution_count": null,
      "outputs": []
    },
    {
      "cell_type": "code",
      "source": [
        "# Create Model\n",
        "\n",
        "model = tf.keras.Model(inputs=X_input, outputs=X, name=\"ResNet50\")\n",
        "model.summary()"
      ],
      "metadata": {
        "colab": {
          "base_uri": "https://localhost:8080/"
        },
        "id": "bv2jyfgvCdLu",
        "outputId": "c72d13c8-f800-4294-c6d7-683b7a6c70c7"
      },
      "execution_count": null,
      "outputs": [
        {
          "output_type": "stream",
          "name": "stdout",
          "text": [
            "Model: \"ResNet50\"\n",
            "__________________________________________________________________________________________________\n",
            " Layer (type)                   Output Shape         Param #     Connected to                     \n",
            "==================================================================================================\n",
            " input_1 (InputLayer)           [(None, 32, 32, 3)]  0           []                               \n",
            "                                                                                                  \n",
            " zero_padding2d (ZeroPadding2D)  (None, 38, 38, 3)   0           ['input_1[0][0]']                \n",
            "                                                                                                  \n",
            " conv1 (Conv2D)                 (None, 16, 16, 64)   9472        ['zero_padding2d[0][0]']         \n",
            "                                                                                                  \n",
            " bn_conv1 (BatchNormalization)  (None, 16, 16, 64)   256         ['conv1[0][0]']                  \n",
            "                                                                                                  \n",
            " activation (Activation)        (None, 16, 16, 64)   0           ['bn_conv1[0][0]']               \n",
            "                                                                                                  \n",
            " max_pooling2d (MaxPooling2D)   (None, 7, 7, 64)     0           ['activation[0][0]']             \n",
            "                                                                                                  \n",
            " zero_padding2d_1 (ZeroPadding2  (None, 9, 9, 64)    0           ['max_pooling2d[0][0]']          \n",
            " D)                                                                                               \n",
            "                                                                                                  \n",
            " conv2 (Conv2D)                 (None, 7, 7, 64)     36928       ['zero_padding2d_1[0][0]']       \n",
            "                                                                                                  \n",
            " bn_conv2 (BatchNormalization)  (None, 7, 7, 64)     256         ['conv2[0][0]']                  \n",
            "                                                                                                  \n",
            " add (Add)                      (None, 7, 7, 64)     0           ['bn_conv2[0][0]',               \n",
            "                                                                  'max_pooling2d[0][0]']          \n",
            "                                                                                                  \n",
            " activation_1 (Activation)      (None, 7, 7, 64)     0           ['add[0][0]']                    \n",
            "                                                                                                  \n",
            " flatten (Flatten)              (None, 3136)         0           ['activation_1[0][0]']           \n",
            "                                                                                                  \n",
            " fc10 (Dense)                   (None, 10)           31370       ['flatten[0][0]']                \n",
            "                                                                                                  \n",
            "==================================================================================================\n",
            "Total params: 78,282\n",
            "Trainable params: 78,026\n",
            "Non-trainable params: 256\n",
            "__________________________________________________________________________________________________\n"
          ]
        }
      ]
    },
    {
      "cell_type": "code",
      "source": [
        "model.compile(loss=tf.keras.losses.SparseCategoricalCrossentropy(), optimizer='adam', metrics=['accuracy'])"
      ],
      "metadata": {
        "id": "v82hvtSUDj2V"
      },
      "execution_count": null,
      "outputs": []
    },
    {
      "cell_type": "code",
      "source": [
        "model.fit(x_train, y_train, steps_per_epoch=50000//64, epochs=10, batch_size=64, validation_data=(x_test, y_test),\n",
        "          validation_steps=10000//64)"
      ],
      "metadata": {
        "colab": {
          "base_uri": "https://localhost:8080/"
        },
        "id": "CbO6JxCpDwdP",
        "outputId": "232680cb-4662-4c6f-b475-9a12f1445fda"
      },
      "execution_count": null,
      "outputs": [
        {
          "output_type": "stream",
          "name": "stdout",
          "text": [
            "Epoch 1/10\n",
            "781/781 [==============================] - 50s 62ms/step - loss: 1.4845 - accuracy: 0.4908 - val_loss: 1.4703 - val_accuracy: 0.5102\n",
            "Epoch 2/10\n",
            "781/781 [==============================] - 47s 60ms/step - loss: 1.1142 - accuracy: 0.6136 - val_loss: 1.7482 - val_accuracy: 0.4974\n",
            "Epoch 3/10\n",
            "781/781 [==============================] - 47s 60ms/step - loss: 0.9794 - accuracy: 0.6591 - val_loss: 1.2622 - val_accuracy: 0.5778\n",
            "Epoch 4/10\n",
            "781/781 [==============================] - 47s 60ms/step - loss: 0.8844 - accuracy: 0.6930 - val_loss: 1.3608 - val_accuracy: 0.5798\n",
            "Epoch 5/10\n",
            "781/781 [==============================] - 47s 60ms/step - loss: 0.8177 - accuracy: 0.7164 - val_loss: 1.0455 - val_accuracy: 0.6412\n",
            "Epoch 6/10\n",
            "781/781 [==============================] - 47s 60ms/step - loss: 0.7668 - accuracy: 0.7335 - val_loss: 0.9316 - val_accuracy: 0.6817\n",
            "Epoch 7/10\n",
            "781/781 [==============================] - 46s 59ms/step - loss: 0.7137 - accuracy: 0.7523 - val_loss: 1.0257 - val_accuracy: 0.6612\n",
            "Epoch 8/10\n",
            "781/781 [==============================] - 46s 59ms/step - loss: 0.6744 - accuracy: 0.7641 - val_loss: 0.9425 - val_accuracy: 0.6806\n",
            "Epoch 9/10\n",
            "781/781 [==============================] - 46s 59ms/step - loss: 0.6397 - accuracy: 0.7780 - val_loss: 1.4661 - val_accuracy: 0.5692\n",
            "Epoch 10/10\n",
            "781/781 [==============================] - 46s 59ms/step - loss: 0.5958 - accuracy: 0.7931 - val_loss: 1.1004 - val_accuracy: 0.6471\n"
          ]
        },
        {
          "output_type": "execute_result",
          "data": {
            "text/plain": [
              "<keras.callbacks.History at 0x7fedc9885820>"
            ]
          },
          "metadata": {},
          "execution_count": 12
        }
      ]
    },
    {
      "cell_type": "code",
      "source": [
        "score = model.evaluate(x_test, y_test)\n",
        "print(\"\\n Test accuracy: \", score[1])"
      ],
      "metadata": {
        "colab": {
          "base_uri": "https://localhost:8080/"
        },
        "id": "q7WKQE_4D2iG",
        "outputId": "3039b4a4-03d4-4515-bffa-2b8cee42bd12"
      },
      "execution_count": null,
      "outputs": [
        {
          "output_type": "stream",
          "name": "stdout",
          "text": [
            "313/313 [==============================] - 4s 13ms/step - loss: 1.1004 - accuracy: 0.6472\n",
            "\n",
            " Test accuracy:  0.6471999883651733\n"
          ]
        }
      ]
    },
    {
      "cell_type": "markdown",
      "source": [
        "My Implementation"
      ],
      "metadata": {
        "id": "uoSOg6LjGZPr"
      }
    },
    {
      "cell_type": "code",
      "source": [
        "def identity_block(X, filter_size):\n",
        "\n",
        "    # Skip connection for residual input\n",
        "    X_skip = X\n",
        "\n",
        "    #first block\n",
        "    X = Conv2D(filter_size, (3,3), padding='same')(X)\n",
        "    X = BatchNormalization(axis=-1)(X)\n",
        "    X = Activation('relu')(X)\n",
        "\n",
        "    #second block\n",
        "    X = Conv2D(filter_size, (3,3), padding='same')(X)\n",
        "    X = BatchNormalization(axis=-1)(X)\n",
        "\n",
        "    X = Add()([X, X_skip])\n",
        "\n",
        "    X = Activation('relu')(X)\n",
        "\n",
        "    return X"
      ],
      "metadata": {
        "id": "kCAwioX2GMxR"
      },
      "execution_count": null,
      "outputs": []
    },
    {
      "cell_type": "code",
      "source": [
        "def convolutional_block(X, filter_size):\n",
        "\n",
        "    # 1*1 conv for residual input\n",
        "    X_conv = X\n",
        "\n",
        "    # first block\n",
        "    X = Conv2D(filter_size, (3,3), padding=\"same\", strides=(2,2))(X)\n",
        "    X = BatchNormalization(axis=-1)(X)\n",
        "    X = Activation('relu')(X)\n",
        "\n",
        "    # second block\n",
        "    X = Conv2D(filter_size, (3,3), padding=\"same\")(X)\n",
        "    X = BatchNormalization(axis=-1)(X)\n",
        "\n",
        "    X_skip = Conv2D(filter_size, (1,1), strides=(2,2))(X_conv)\n",
        "\n",
        "    X = Add()([X, X_skip])\n",
        "\n",
        "    X = Activation('relu')(X)\n",
        "\n",
        "    return X\n",
        ""
      ],
      "metadata": {
        "id": "56Aacs5_GgJ8"
      },
      "execution_count": null,
      "outputs": []
    },
    {
      "cell_type": "code",
      "source": [
        "def ResNet34(shape = (32, 32, 3), classes = 10):\n",
        "    # Step 1 (Setup Input Layer)\n",
        "    x_input = Input(shape)\n",
        "    x = ZeroPadding2D((3, 3))(x_input)\n",
        "    # Step 2 (Initial Conv layer along with maxPool)\n",
        "    x = Conv2D(64, kernel_size=7, strides=2, padding='same')(x)\n",
        "    x = BatchNormalization()(x)\n",
        "    x = Activation('relu')(x)\n",
        "    x = MaxPooling2D(pool_size=3, strides=2, padding='same')(x)\n",
        "    # Define size of sub-blocks and initial filter size\n",
        "    block_layers = [3, 4, 6, 3]\n",
        "    filter_size = 64\n",
        "    # Step 3 Add the Resnet Blocks\n",
        "    for i in range(4):\n",
        "        if i == 0:\n",
        "            # For sub-block 1 Residual/Convolutional block not needed\n",
        "            for j in range(block_layers[i]):\n",
        "                x = identity_block(x, filter_size)\n",
        "        else:\n",
        "            # One Residual/Convolutional Block followed by Identity blocks\n",
        "            # The filter size will go on increasing by a factor of 2\n",
        "            filter_size = filter_size*2\n",
        "            x = convolutional_block(x, filter_size)\n",
        "            for j in range(block_layers[i] - 1):\n",
        "                x = identity_block(x, filter_size)\n",
        "\n",
        "    # Step 4 End Dense Network\n",
        "    x = AveragePooling2D((2,2), padding = 'same')(x)\n",
        "    x = Flatten()(x)\n",
        "    x = Dense(512, activation = 'relu')(x)\n",
        "    x = Dense(classes, activation = 'softmax')(x)\n",
        "    model = tf.keras.models.Model(inputs = x_input, outputs = x, name = \"ResNet34\")\n",
        "    return model"
      ],
      "metadata": {
        "id": "q1AGhgPjGjpT"
      },
      "execution_count": null,
      "outputs": []
    },
    {
      "cell_type": "code",
      "source": [
        "resnet_34 = ResNet34()\n",
        "resnet_34.summary()"
      ],
      "metadata": {
        "colab": {
          "base_uri": "https://localhost:8080/"
        },
        "id": "dBTRMKRvG0Vv",
        "outputId": "ea956804-cc73-47c6-e9d6-d1fa648c5713"
      },
      "execution_count": null,
      "outputs": [
        {
          "output_type": "stream",
          "name": "stdout",
          "text": [
            "Model: \"ResNet34\"\n",
            "__________________________________________________________________________________________________\n",
            " Layer (type)                   Output Shape         Param #     Connected to                     \n",
            "==================================================================================================\n",
            " input_2 (InputLayer)           [(None, 32, 32, 3)]  0           []                               \n",
            "                                                                                                  \n",
            " zero_padding2d_2 (ZeroPadding2  (None, 38, 38, 3)   0           ['input_2[0][0]']                \n",
            " D)                                                                                               \n",
            "                                                                                                  \n",
            " conv2d (Conv2D)                (None, 19, 19, 64)   9472        ['zero_padding2d_2[0][0]']       \n",
            "                                                                                                  \n",
            " batch_normalization (BatchNorm  (None, 19, 19, 64)  256         ['conv2d[0][0]']                 \n",
            " alization)                                                                                       \n",
            "                                                                                                  \n",
            " activation_2 (Activation)      (None, 19, 19, 64)   0           ['batch_normalization[0][0]']    \n",
            "                                                                                                  \n",
            " max_pooling2d_1 (MaxPooling2D)  (None, 10, 10, 64)  0           ['activation_2[0][0]']           \n",
            "                                                                                                  \n",
            " conv2d_1 (Conv2D)              (None, 10, 10, 64)   36928       ['max_pooling2d_1[0][0]']        \n",
            "                                                                                                  \n",
            " batch_normalization_1 (BatchNo  (None, 10, 10, 64)  256         ['conv2d_1[0][0]']               \n",
            " rmalization)                                                                                     \n",
            "                                                                                                  \n",
            " activation_3 (Activation)      (None, 10, 10, 64)   0           ['batch_normalization_1[0][0]']  \n",
            "                                                                                                  \n",
            " conv2d_2 (Conv2D)              (None, 10, 10, 64)   36928       ['activation_3[0][0]']           \n",
            "                                                                                                  \n",
            " batch_normalization_2 (BatchNo  (None, 10, 10, 64)  256         ['conv2d_2[0][0]']               \n",
            " rmalization)                                                                                     \n",
            "                                                                                                  \n",
            " add_1 (Add)                    (None, 10, 10, 64)   0           ['batch_normalization_2[0][0]',  \n",
            "                                                                  'max_pooling2d_1[0][0]']        \n",
            "                                                                                                  \n",
            " activation_4 (Activation)      (None, 10, 10, 64)   0           ['add_1[0][0]']                  \n",
            "                                                                                                  \n",
            " conv2d_3 (Conv2D)              (None, 10, 10, 64)   36928       ['activation_4[0][0]']           \n",
            "                                                                                                  \n",
            " batch_normalization_3 (BatchNo  (None, 10, 10, 64)  256         ['conv2d_3[0][0]']               \n",
            " rmalization)                                                                                     \n",
            "                                                                                                  \n",
            " activation_5 (Activation)      (None, 10, 10, 64)   0           ['batch_normalization_3[0][0]']  \n",
            "                                                                                                  \n",
            " conv2d_4 (Conv2D)              (None, 10, 10, 64)   36928       ['activation_5[0][0]']           \n",
            "                                                                                                  \n",
            " batch_normalization_4 (BatchNo  (None, 10, 10, 64)  256         ['conv2d_4[0][0]']               \n",
            " rmalization)                                                                                     \n",
            "                                                                                                  \n",
            " add_2 (Add)                    (None, 10, 10, 64)   0           ['batch_normalization_4[0][0]',  \n",
            "                                                                  'activation_4[0][0]']           \n",
            "                                                                                                  \n",
            " activation_6 (Activation)      (None, 10, 10, 64)   0           ['add_2[0][0]']                  \n",
            "                                                                                                  \n",
            " conv2d_5 (Conv2D)              (None, 10, 10, 64)   36928       ['activation_6[0][0]']           \n",
            "                                                                                                  \n",
            " batch_normalization_5 (BatchNo  (None, 10, 10, 64)  256         ['conv2d_5[0][0]']               \n",
            " rmalization)                                                                                     \n",
            "                                                                                                  \n",
            " activation_7 (Activation)      (None, 10, 10, 64)   0           ['batch_normalization_5[0][0]']  \n",
            "                                                                                                  \n",
            " conv2d_6 (Conv2D)              (None, 10, 10, 64)   36928       ['activation_7[0][0]']           \n",
            "                                                                                                  \n",
            " batch_normalization_6 (BatchNo  (None, 10, 10, 64)  256         ['conv2d_6[0][0]']               \n",
            " rmalization)                                                                                     \n",
            "                                                                                                  \n",
            " add_3 (Add)                    (None, 10, 10, 64)   0           ['batch_normalization_6[0][0]',  \n",
            "                                                                  'activation_6[0][0]']           \n",
            "                                                                                                  \n",
            " activation_8 (Activation)      (None, 10, 10, 64)   0           ['add_3[0][0]']                  \n",
            "                                                                                                  \n",
            " conv2d_7 (Conv2D)              (None, 5, 5, 128)    73856       ['activation_8[0][0]']           \n",
            "                                                                                                  \n",
            " batch_normalization_7 (BatchNo  (None, 5, 5, 128)   512         ['conv2d_7[0][0]']               \n",
            " rmalization)                                                                                     \n",
            "                                                                                                  \n",
            " activation_9 (Activation)      (None, 5, 5, 128)    0           ['batch_normalization_7[0][0]']  \n",
            "                                                                                                  \n",
            " conv2d_8 (Conv2D)              (None, 5, 5, 128)    147584      ['activation_9[0][0]']           \n",
            "                                                                                                  \n",
            " batch_normalization_8 (BatchNo  (None, 5, 5, 128)   512         ['conv2d_8[0][0]']               \n",
            " rmalization)                                                                                     \n",
            "                                                                                                  \n",
            " conv2d_9 (Conv2D)              (None, 5, 5, 128)    8320        ['activation_8[0][0]']           \n",
            "                                                                                                  \n",
            " add_4 (Add)                    (None, 5, 5, 128)    0           ['batch_normalization_8[0][0]',  \n",
            "                                                                  'conv2d_9[0][0]']               \n",
            "                                                                                                  \n",
            " activation_10 (Activation)     (None, 5, 5, 128)    0           ['add_4[0][0]']                  \n",
            "                                                                                                  \n",
            " conv2d_10 (Conv2D)             (None, 5, 5, 128)    147584      ['activation_10[0][0]']          \n",
            "                                                                                                  \n",
            " batch_normalization_9 (BatchNo  (None, 5, 5, 128)   512         ['conv2d_10[0][0]']              \n",
            " rmalization)                                                                                     \n",
            "                                                                                                  \n",
            " activation_11 (Activation)     (None, 5, 5, 128)    0           ['batch_normalization_9[0][0]']  \n",
            "                                                                                                  \n",
            " conv2d_11 (Conv2D)             (None, 5, 5, 128)    147584      ['activation_11[0][0]']          \n",
            "                                                                                                  \n",
            " batch_normalization_10 (BatchN  (None, 5, 5, 128)   512         ['conv2d_11[0][0]']              \n",
            " ormalization)                                                                                    \n",
            "                                                                                                  \n",
            " add_5 (Add)                    (None, 5, 5, 128)    0           ['batch_normalization_10[0][0]', \n",
            "                                                                  'activation_10[0][0]']          \n",
            "                                                                                                  \n",
            " activation_12 (Activation)     (None, 5, 5, 128)    0           ['add_5[0][0]']                  \n",
            "                                                                                                  \n",
            " conv2d_12 (Conv2D)             (None, 5, 5, 128)    147584      ['activation_12[0][0]']          \n",
            "                                                                                                  \n",
            " batch_normalization_11 (BatchN  (None, 5, 5, 128)   512         ['conv2d_12[0][0]']              \n",
            " ormalization)                                                                                    \n",
            "                                                                                                  \n",
            " activation_13 (Activation)     (None, 5, 5, 128)    0           ['batch_normalization_11[0][0]'] \n",
            "                                                                                                  \n",
            " conv2d_13 (Conv2D)             (None, 5, 5, 128)    147584      ['activation_13[0][0]']          \n",
            "                                                                                                  \n",
            " batch_normalization_12 (BatchN  (None, 5, 5, 128)   512         ['conv2d_13[0][0]']              \n",
            " ormalization)                                                                                    \n",
            "                                                                                                  \n",
            " add_6 (Add)                    (None, 5, 5, 128)    0           ['batch_normalization_12[0][0]', \n",
            "                                                                  'activation_12[0][0]']          \n",
            "                                                                                                  \n",
            " activation_14 (Activation)     (None, 5, 5, 128)    0           ['add_6[0][0]']                  \n",
            "                                                                                                  \n",
            " conv2d_14 (Conv2D)             (None, 5, 5, 128)    147584      ['activation_14[0][0]']          \n",
            "                                                                                                  \n",
            " batch_normalization_13 (BatchN  (None, 5, 5, 128)   512         ['conv2d_14[0][0]']              \n",
            " ormalization)                                                                                    \n",
            "                                                                                                  \n",
            " activation_15 (Activation)     (None, 5, 5, 128)    0           ['batch_normalization_13[0][0]'] \n",
            "                                                                                                  \n",
            " conv2d_15 (Conv2D)             (None, 5, 5, 128)    147584      ['activation_15[0][0]']          \n",
            "                                                                                                  \n",
            " batch_normalization_14 (BatchN  (None, 5, 5, 128)   512         ['conv2d_15[0][0]']              \n",
            " ormalization)                                                                                    \n",
            "                                                                                                  \n",
            " add_7 (Add)                    (None, 5, 5, 128)    0           ['batch_normalization_14[0][0]', \n",
            "                                                                  'activation_14[0][0]']          \n",
            "                                                                                                  \n",
            " activation_16 (Activation)     (None, 5, 5, 128)    0           ['add_7[0][0]']                  \n",
            "                                                                                                  \n",
            " conv2d_16 (Conv2D)             (None, 3, 3, 256)    295168      ['activation_16[0][0]']          \n",
            "                                                                                                  \n",
            " batch_normalization_15 (BatchN  (None, 3, 3, 256)   1024        ['conv2d_16[0][0]']              \n",
            " ormalization)                                                                                    \n",
            "                                                                                                  \n",
            " activation_17 (Activation)     (None, 3, 3, 256)    0           ['batch_normalization_15[0][0]'] \n",
            "                                                                                                  \n",
            " conv2d_17 (Conv2D)             (None, 3, 3, 256)    590080      ['activation_17[0][0]']          \n",
            "                                                                                                  \n",
            " batch_normalization_16 (BatchN  (None, 3, 3, 256)   1024        ['conv2d_17[0][0]']              \n",
            " ormalization)                                                                                    \n",
            "                                                                                                  \n",
            " conv2d_18 (Conv2D)             (None, 3, 3, 256)    33024       ['activation_16[0][0]']          \n",
            "                                                                                                  \n",
            " add_8 (Add)                    (None, 3, 3, 256)    0           ['batch_normalization_16[0][0]', \n",
            "                                                                  'conv2d_18[0][0]']              \n",
            "                                                                                                  \n",
            " activation_18 (Activation)     (None, 3, 3, 256)    0           ['add_8[0][0]']                  \n",
            "                                                                                                  \n",
            " conv2d_19 (Conv2D)             (None, 3, 3, 256)    590080      ['activation_18[0][0]']          \n",
            "                                                                                                  \n",
            " batch_normalization_17 (BatchN  (None, 3, 3, 256)   1024        ['conv2d_19[0][0]']              \n",
            " ormalization)                                                                                    \n",
            "                                                                                                  \n",
            " activation_19 (Activation)     (None, 3, 3, 256)    0           ['batch_normalization_17[0][0]'] \n",
            "                                                                                                  \n",
            " conv2d_20 (Conv2D)             (None, 3, 3, 256)    590080      ['activation_19[0][0]']          \n",
            "                                                                                                  \n",
            " batch_normalization_18 (BatchN  (None, 3, 3, 256)   1024        ['conv2d_20[0][0]']              \n",
            " ormalization)                                                                                    \n",
            "                                                                                                  \n",
            " add_9 (Add)                    (None, 3, 3, 256)    0           ['batch_normalization_18[0][0]', \n",
            "                                                                  'activation_18[0][0]']          \n",
            "                                                                                                  \n",
            " activation_20 (Activation)     (None, 3, 3, 256)    0           ['add_9[0][0]']                  \n",
            "                                                                                                  \n",
            " conv2d_21 (Conv2D)             (None, 3, 3, 256)    590080      ['activation_20[0][0]']          \n",
            "                                                                                                  \n",
            " batch_normalization_19 (BatchN  (None, 3, 3, 256)   1024        ['conv2d_21[0][0]']              \n",
            " ormalization)                                                                                    \n",
            "                                                                                                  \n",
            " activation_21 (Activation)     (None, 3, 3, 256)    0           ['batch_normalization_19[0][0]'] \n",
            "                                                                                                  \n",
            " conv2d_22 (Conv2D)             (None, 3, 3, 256)    590080      ['activation_21[0][0]']          \n",
            "                                                                                                  \n",
            " batch_normalization_20 (BatchN  (None, 3, 3, 256)   1024        ['conv2d_22[0][0]']              \n",
            " ormalization)                                                                                    \n",
            "                                                                                                  \n",
            " add_10 (Add)                   (None, 3, 3, 256)    0           ['batch_normalization_20[0][0]', \n",
            "                                                                  'activation_20[0][0]']          \n",
            "                                                                                                  \n",
            " activation_22 (Activation)     (None, 3, 3, 256)    0           ['add_10[0][0]']                 \n",
            "                                                                                                  \n",
            " conv2d_23 (Conv2D)             (None, 3, 3, 256)    590080      ['activation_22[0][0]']          \n",
            "                                                                                                  \n",
            " batch_normalization_21 (BatchN  (None, 3, 3, 256)   1024        ['conv2d_23[0][0]']              \n",
            " ormalization)                                                                                    \n",
            "                                                                                                  \n",
            " activation_23 (Activation)     (None, 3, 3, 256)    0           ['batch_normalization_21[0][0]'] \n",
            "                                                                                                  \n",
            " conv2d_24 (Conv2D)             (None, 3, 3, 256)    590080      ['activation_23[0][0]']          \n",
            "                                                                                                  \n",
            " batch_normalization_22 (BatchN  (None, 3, 3, 256)   1024        ['conv2d_24[0][0]']              \n",
            " ormalization)                                                                                    \n",
            "                                                                                                  \n",
            " add_11 (Add)                   (None, 3, 3, 256)    0           ['batch_normalization_22[0][0]', \n",
            "                                                                  'activation_22[0][0]']          \n",
            "                                                                                                  \n",
            " activation_24 (Activation)     (None, 3, 3, 256)    0           ['add_11[0][0]']                 \n",
            "                                                                                                  \n",
            " conv2d_25 (Conv2D)             (None, 3, 3, 256)    590080      ['activation_24[0][0]']          \n",
            "                                                                                                  \n",
            " batch_normalization_23 (BatchN  (None, 3, 3, 256)   1024        ['conv2d_25[0][0]']              \n",
            " ormalization)                                                                                    \n",
            "                                                                                                  \n",
            " activation_25 (Activation)     (None, 3, 3, 256)    0           ['batch_normalization_23[0][0]'] \n",
            "                                                                                                  \n",
            " conv2d_26 (Conv2D)             (None, 3, 3, 256)    590080      ['activation_25[0][0]']          \n",
            "                                                                                                  \n",
            " batch_normalization_24 (BatchN  (None, 3, 3, 256)   1024        ['conv2d_26[0][0]']              \n",
            " ormalization)                                                                                    \n",
            "                                                                                                  \n",
            " add_12 (Add)                   (None, 3, 3, 256)    0           ['batch_normalization_24[0][0]', \n",
            "                                                                  'activation_24[0][0]']          \n",
            "                                                                                                  \n",
            " activation_26 (Activation)     (None, 3, 3, 256)    0           ['add_12[0][0]']                 \n",
            "                                                                                                  \n",
            " conv2d_27 (Conv2D)             (None, 3, 3, 256)    590080      ['activation_26[0][0]']          \n",
            "                                                                                                  \n",
            " batch_normalization_25 (BatchN  (None, 3, 3, 256)   1024        ['conv2d_27[0][0]']              \n",
            " ormalization)                                                                                    \n",
            "                                                                                                  \n",
            " activation_27 (Activation)     (None, 3, 3, 256)    0           ['batch_normalization_25[0][0]'] \n",
            "                                                                                                  \n",
            " conv2d_28 (Conv2D)             (None, 3, 3, 256)    590080      ['activation_27[0][0]']          \n",
            "                                                                                                  \n",
            " batch_normalization_26 (BatchN  (None, 3, 3, 256)   1024        ['conv2d_28[0][0]']              \n",
            " ormalization)                                                                                    \n",
            "                                                                                                  \n",
            " add_13 (Add)                   (None, 3, 3, 256)    0           ['batch_normalization_26[0][0]', \n",
            "                                                                  'activation_26[0][0]']          \n",
            "                                                                                                  \n",
            " activation_28 (Activation)     (None, 3, 3, 256)    0           ['add_13[0][0]']                 \n",
            "                                                                                                  \n",
            " conv2d_29 (Conv2D)             (None, 2, 2, 512)    1180160     ['activation_28[0][0]']          \n",
            "                                                                                                  \n",
            " batch_normalization_27 (BatchN  (None, 2, 2, 512)   2048        ['conv2d_29[0][0]']              \n",
            " ormalization)                                                                                    \n",
            "                                                                                                  \n",
            " activation_29 (Activation)     (None, 2, 2, 512)    0           ['batch_normalization_27[0][0]'] \n",
            "                                                                                                  \n",
            " conv2d_30 (Conv2D)             (None, 2, 2, 512)    2359808     ['activation_29[0][0]']          \n",
            "                                                                                                  \n",
            " batch_normalization_28 (BatchN  (None, 2, 2, 512)   2048        ['conv2d_30[0][0]']              \n",
            " ormalization)                                                                                    \n",
            "                                                                                                  \n",
            " conv2d_31 (Conv2D)             (None, 2, 2, 512)    131584      ['activation_28[0][0]']          \n",
            "                                                                                                  \n",
            " add_14 (Add)                   (None, 2, 2, 512)    0           ['batch_normalization_28[0][0]', \n",
            "                                                                  'conv2d_31[0][0]']              \n",
            "                                                                                                  \n",
            " activation_30 (Activation)     (None, 2, 2, 512)    0           ['add_14[0][0]']                 \n",
            "                                                                                                  \n",
            " conv2d_32 (Conv2D)             (None, 2, 2, 512)    2359808     ['activation_30[0][0]']          \n",
            "                                                                                                  \n",
            " batch_normalization_29 (BatchN  (None, 2, 2, 512)   2048        ['conv2d_32[0][0]']              \n",
            " ormalization)                                                                                    \n",
            "                                                                                                  \n",
            " activation_31 (Activation)     (None, 2, 2, 512)    0           ['batch_normalization_29[0][0]'] \n",
            "                                                                                                  \n",
            " conv2d_33 (Conv2D)             (None, 2, 2, 512)    2359808     ['activation_31[0][0]']          \n",
            "                                                                                                  \n",
            " batch_normalization_30 (BatchN  (None, 2, 2, 512)   2048        ['conv2d_33[0][0]']              \n",
            " ormalization)                                                                                    \n",
            "                                                                                                  \n",
            " add_15 (Add)                   (None, 2, 2, 512)    0           ['batch_normalization_30[0][0]', \n",
            "                                                                  'activation_30[0][0]']          \n",
            "                                                                                                  \n",
            " activation_32 (Activation)     (None, 2, 2, 512)    0           ['add_15[0][0]']                 \n",
            "                                                                                                  \n",
            " conv2d_34 (Conv2D)             (None, 2, 2, 512)    2359808     ['activation_32[0][0]']          \n",
            "                                                                                                  \n",
            " batch_normalization_31 (BatchN  (None, 2, 2, 512)   2048        ['conv2d_34[0][0]']              \n",
            " ormalization)                                                                                    \n",
            "                                                                                                  \n",
            " activation_33 (Activation)     (None, 2, 2, 512)    0           ['batch_normalization_31[0][0]'] \n",
            "                                                                                                  \n",
            " conv2d_35 (Conv2D)             (None, 2, 2, 512)    2359808     ['activation_33[0][0]']          \n",
            "                                                                                                  \n",
            " batch_normalization_32 (BatchN  (None, 2, 2, 512)   2048        ['conv2d_35[0][0]']              \n",
            " ormalization)                                                                                    \n",
            "                                                                                                  \n",
            " add_16 (Add)                   (None, 2, 2, 512)    0           ['batch_normalization_32[0][0]', \n",
            "                                                                  'activation_32[0][0]']          \n",
            "                                                                                                  \n",
            " activation_34 (Activation)     (None, 2, 2, 512)    0           ['add_16[0][0]']                 \n",
            "                                                                                                  \n",
            " average_pooling2d (AveragePool  (None, 1, 1, 512)   0           ['activation_34[0][0]']          \n",
            " ing2D)                                                                                           \n",
            "                                                                                                  \n",
            " flatten_1 (Flatten)            (None, 512)          0           ['average_pooling2d[0][0]']      \n",
            "                                                                                                  \n",
            " dense (Dense)                  (None, 512)          262656      ['flatten_1[0][0]']              \n",
            "                                                                                                  \n",
            " dense_1 (Dense)                (None, 10)           5130        ['dense[0][0]']                  \n",
            "                                                                                                  \n",
            "==================================================================================================\n",
            "Total params: 21,574,410\n",
            "Trainable params: 21,559,178\n",
            "Non-trainable params: 15,232\n",
            "__________________________________________________________________________________________________\n"
          ]
        }
      ]
    },
    {
      "cell_type": "code",
      "source": [
        "resnet_34.compile(loss=tf.keras.losses.SparseCategoricalCrossentropy(), optimizer='adam', metrics=['accuracy'])"
      ],
      "metadata": {
        "id": "xnwBhD_fG4tI"
      },
      "execution_count": null,
      "outputs": []
    },
    {
      "cell_type": "code",
      "source": [
        "#resnet_34.fit(x_train, y_train, steps_per_epoch=50000//64, epochs=10, batch_size=64, validation_data=(x_test, y_test),\n",
        "          #validation_steps=10000//64)"
      ],
      "metadata": {
        "id": "ZV-M3ZP9H7Sq"
      },
      "execution_count": null,
      "outputs": []
    },
    {
      "cell_type": "code",
      "source": [
        "#score = resnet_34.evaluate(x_test, y_test)\n",
        "#print(\"\\n Test accuracy: \", score[1])"
      ],
      "metadata": {
        "id": "Cq0XWfbQH-8p"
      },
      "execution_count": null,
      "outputs": []
    }
  ]
}